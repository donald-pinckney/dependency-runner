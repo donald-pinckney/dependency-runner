{
 "cells": [
  {
   "cell_type": "markdown",
   "metadata": {},
   "source": [
    "# Run from Command Line:\n",
    "\n",
    "```\n",
    "jupyter nbconvert --execute --clear-output analysis_vuln/analysis.ipynb\n",
    "```"
   ]
  },
  {
   "cell_type": "code",
   "execution_count": 1,
   "metadata": {
    "execution": {
     "iopub.execute_input": "2022-08-31T03:18:01.637824Z",
     "iopub.status.busy": "2022-08-31T03:18:01.635948Z",
     "iopub.status.idle": "2022-08-31T03:18:02.107472Z",
     "shell.execute_reply": "2022-08-31T03:18:02.106872Z"
    },
    "vscode": {
     "languageId": "r"
    }
   },
   "outputs": [
    {
     "name": "stderr",
     "output_type": "stream",
     "text": [
      "── \u001b[1mAttaching packages\u001b[22m ──────────────────────────────────────────────────────────────────────────────────────────────────────────────────────────────────────────────────────────────────────────────────────────────────── tidyverse 1.3.2 ──\n",
      "\u001b[32m✔\u001b[39m \u001b[34mggplot2\u001b[39m 3.3.6     \u001b[32m✔\u001b[39m \u001b[34mpurrr  \u001b[39m 0.3.4\n",
      "\u001b[32m✔\u001b[39m \u001b[34mtibble \u001b[39m 3.1.8     \u001b[32m✔\u001b[39m \u001b[34mdplyr  \u001b[39m 1.0.9\n",
      "\u001b[32m✔\u001b[39m \u001b[34mtidyr  \u001b[39m 1.2.0     \u001b[32m✔\u001b[39m \u001b[34mstringr\u001b[39m 1.4.1\n",
      "\u001b[32m✔\u001b[39m \u001b[34mreadr  \u001b[39m 2.1.2     \u001b[32m✔\u001b[39m \u001b[34mforcats\u001b[39m 0.5.2\n",
      "── \u001b[1mConflicts\u001b[22m ─────────────────────────────────────────────────────────────────────────────────────────────────────────────────────────────────────────────────────────────────────────────────────────────────────── tidyverse_conflicts() ──\n",
      "\u001b[31m✖\u001b[39m \u001b[34mdplyr\u001b[39m::\u001b[32mfilter()\u001b[39m masks \u001b[34mstats\u001b[39m::filter()\n",
      "\u001b[31m✖\u001b[39m \u001b[34mdplyr\u001b[39m::\u001b[32mlag()\u001b[39m    masks \u001b[34mstats\u001b[39m::lag()\n"
     ]
    }
   ],
   "source": [
    "library(tidyverse)\n",
    "library(ggplot2)\n",
    "library(kimisc)"
   ]
  },
  {
   "cell_type": "code",
   "execution_count": 2,
   "metadata": {
    "execution": {
     "iopub.execute_input": "2022-08-31T03:18:02.120217Z",
     "iopub.status.busy": "2022-08-31T03:18:02.108992Z",
     "iopub.status.idle": "2022-08-31T03:18:02.224447Z",
     "shell.execute_reply": "2022-08-31T03:18:02.223768Z"
    },
    "vscode": {
     "languageId": "r"
    }
   },
   "outputs": [],
   "source": [
    "data_dir <- \"../permanently_saved_results/rerun-vuln-exp\"\n",
    "vuln <- read_csv(str_c(data_dir, \"/aug_30_gather.csv\"),\n",
    "        col_types =\"ccfddfc\")\n",
    "results_tex <- str_c(data_dir, \"/results.tex\")\n",
    "plots_dir <- str_c(data_dir, \"/plots\")\n",
    "write(\"% These are results from the R Notebook.\", results_tex, append=FALSE)\n",
    "dir.create(plots_dir, showWarnings = FALSE)\n",
    "vuln <- vuln %>% select(-NDeps,-Status,-Time)"
   ]
  },
  {
   "cell_type": "code",
   "execution_count": 3,
   "metadata": {
    "execution": {
     "iopub.execute_input": "2022-08-31T03:18:02.226692Z",
     "iopub.status.busy": "2022-08-31T03:18:02.226217Z",
     "iopub.status.idle": "2022-08-31T03:18:02.231003Z",
     "shell.execute_reply": "2022-08-31T03:18:02.230442Z"
    },
    "vscode": {
     "languageId": "r"
    }
   },
   "outputs": [],
   "source": [
    "mytheme <- function() {\n",
    "  return(theme_bw() +\n",
    "           theme(\n",
    "             # NOTE: UNCOMMENT WHEN RENDING PLOTS FOR THE PAPER\n",
    "             # (can't get the CM fonts to work in artifact VM...)\n",
    "             text = element_text(family = \"Times\", size=10),\n",
    "              panel.grid.major = element_blank(),\n",
    "             # panel.grid.minor = element_blank(),\n",
    "             # panel.grid.major = element_line(colour=\"gray\", size=0.1),\n",
    "             # panel.grid.minor =\n",
    "             #  element_line(colour=\"gray\", size=0.1, linetype='dotted'),\n",
    "             axis.ticks = element_line(size=0.05),\n",
    "             axis.ticks.length=unit(\"-0.05\", \"in\"),\n",
    "             axis.text.y = element_text(margin = margin(r = 5)),\n",
    "             axis.text.x = element_text(hjust=1),\n",
    "             legend.key = element_rect(colour=NA),\n",
    "             legend.spacing = unit(0.001, \"in\"),\n",
    "             legend.key.size = unit(0.2, \"in\"),\n",
    "             legend.title = element_blank(),\n",
    "             legend.position = c(0.75, .7),\n",
    "             legend.background = element_blank()))\n",
    "}\n",
    "\n",
    "mysave <- function(filename) {\n",
    "  path <- str_c(plots_dir, \"/\", filename)\n",
    "  ggsave(path, width=4, height=3, units=c(\"in\"))\n",
    "  # embed_font(path)\n",
    "}"
   ]
  },
  {
   "cell_type": "code",
   "execution_count": 4,
   "metadata": {
    "execution": {
     "iopub.execute_input": "2022-08-31T03:18:02.232918Z",
     "iopub.status.busy": "2022-08-31T03:18:02.232462Z",
     "iopub.status.idle": "2022-08-31T03:18:02.251127Z",
     "shell.execute_reply": "2022-08-31T03:18:02.250551Z"
    },
    "vscode": {
     "languageId": "r"
    }
   },
   "outputs": [
    {
     "data": {
      "text/html": [
       "<table class=\"dataframe\">\n",
       "<caption>A tibble: 6 × 7</caption>\n",
       "<thead>\n",
       "\t<tr><th scope=col>name</th><th scope=col>commit</th><th scope=col>CVE.vanilla</th><th scope=col>CVE.audit fix</th><th scope=col>CVE.audit fix force</th><th scope=col>CVE.maxnpm_cve_oldness</th><th scope=col>CVE.maxnpm_cve_oldness_pip_else_npm</th></tr>\n",
       "\t<tr><th scope=col>&lt;chr&gt;</th><th scope=col>&lt;chr&gt;</th><th scope=col>&lt;dbl&gt;</th><th scope=col>&lt;dbl&gt;</th><th scope=col>&lt;dbl&gt;</th><th scope=col>&lt;dbl&gt;</th><th scope=col>&lt;dbl&gt;</th></tr>\n",
       "</thead>\n",
       "<tbody>\n",
       "\t<tr><td>generator-react              </td><td>09b724e</td><td>12.80</td><td>12.80</td><td>  0.0</td><td>NA</td><td>   NA</td></tr>\n",
       "\t<tr><td>JsSIP                        </td><td>9cdeaa0</td><td>17.45</td><td>17.45</td><td>  0.0</td><td> 0</td><td>17.45</td></tr>\n",
       "\t<tr><td>umi-plugin-datahub           </td><td>0a4a4f9</td><td>33.10</td><td>33.10</td><td>202.5</td><td>NA</td><td>   NA</td></tr>\n",
       "\t<tr><td>postcss-assets-webpack-plugin</td><td>90b69bb</td><td> 0.00</td><td> 0.00</td><td>  0.0</td><td> 0</td><td> 0.00</td></tr>\n",
       "\t<tr><td>accord                       </td><td>262e693</td><td> 0.00</td><td> 0.00</td><td>  0.0</td><td> 0</td><td> 0.00</td></tr>\n",
       "\t<tr><td>asl-validator                </td><td>88949ae</td><td> 0.00</td><td> 0.00</td><td>  0.0</td><td> 0</td><td> 0.00</td></tr>\n",
       "</tbody>\n",
       "</table>\n"
      ],
      "text/latex": [
       "A tibble: 6 × 7\n",
       "\\begin{tabular}{lllllll}\n",
       " name & commit & CVE.vanilla & CVE.audit fix & CVE.audit fix force & CVE.maxnpm\\_cve\\_oldness & CVE.maxnpm\\_cve\\_oldness\\_pip\\_else\\_npm\\\\\n",
       " <chr> & <chr> & <dbl> & <dbl> & <dbl> & <dbl> & <dbl>\\\\\n",
       "\\hline\n",
       "\t generator-react               & 09b724e & 12.80 & 12.80 &   0.0 & NA &    NA\\\\\n",
       "\t JsSIP                         & 9cdeaa0 & 17.45 & 17.45 &   0.0 &  0 & 17.45\\\\\n",
       "\t umi-plugin-datahub            & 0a4a4f9 & 33.10 & 33.10 & 202.5 & NA &    NA\\\\\n",
       "\t postcss-assets-webpack-plugin & 90b69bb &  0.00 &  0.00 &   0.0 &  0 &  0.00\\\\\n",
       "\t accord                        & 262e693 &  0.00 &  0.00 &   0.0 &  0 &  0.00\\\\\n",
       "\t asl-validator                 & 88949ae &  0.00 &  0.00 &   0.0 &  0 &  0.00\\\\\n",
       "\\end{tabular}\n"
      ],
      "text/markdown": [
       "\n",
       "A tibble: 6 × 7\n",
       "\n",
       "| name &lt;chr&gt; | commit &lt;chr&gt; | CVE.vanilla &lt;dbl&gt; | CVE.audit fix &lt;dbl&gt; | CVE.audit fix force &lt;dbl&gt; | CVE.maxnpm_cve_oldness &lt;dbl&gt; | CVE.maxnpm_cve_oldness_pip_else_npm &lt;dbl&gt; |\n",
       "|---|---|---|---|---|---|---|\n",
       "| generator-react               | 09b724e | 12.80 | 12.80 |   0.0 | NA |    NA |\n",
       "| JsSIP                         | 9cdeaa0 | 17.45 | 17.45 |   0.0 |  0 | 17.45 |\n",
       "| umi-plugin-datahub            | 0a4a4f9 | 33.10 | 33.10 | 202.5 | NA |    NA |\n",
       "| postcss-assets-webpack-plugin | 90b69bb |  0.00 |  0.00 |   0.0 |  0 |  0.00 |\n",
       "| accord                        | 262e693 |  0.00 |  0.00 |   0.0 |  0 |  0.00 |\n",
       "| asl-validator                 | 88949ae |  0.00 |  0.00 |   0.0 |  0 |  0.00 |\n",
       "\n"
      ],
      "text/plain": [
       "  name                          commit  CVE.vanilla CVE.audit fix\n",
       "1 generator-react               09b724e 12.80       12.80        \n",
       "2 JsSIP                         9cdeaa0 17.45       17.45        \n",
       "3 umi-plugin-datahub            0a4a4f9 33.10       33.10        \n",
       "4 postcss-assets-webpack-plugin 90b69bb  0.00        0.00        \n",
       "5 accord                        262e693  0.00        0.00        \n",
       "6 asl-validator                 88949ae  0.00        0.00        \n",
       "  CVE.audit fix force CVE.maxnpm_cve_oldness\n",
       "1   0.0               NA                    \n",
       "2   0.0                0                    \n",
       "3 202.5               NA                    \n",
       "4   0.0                0                    \n",
       "5   0.0                0                    \n",
       "6   0.0                0                    \n",
       "  CVE.maxnpm_cve_oldness_pip_else_npm\n",
       "1    NA                              \n",
       "2 17.45                              \n",
       "3    NA                              \n",
       "4  0.00                              \n",
       "5  0.00                              \n",
       "6  0.00                              "
      ]
     },
     "metadata": {},
     "output_type": "display_data"
    },
    {
     "data": {
      "text/html": [
       "715"
      ],
      "text/latex": [
       "715"
      ],
      "text/markdown": [
       "715"
      ],
      "text/plain": [
       "[1] 715"
      ]
     },
     "metadata": {},
     "output_type": "display_data"
    }
   ],
   "source": [
    "# What does it mean when status is \"missing\" - and should we only include those that have no missing?\n",
    "# There are 225/1000 project-versions that have non-NA results: what is missing there?\n",
    "vulnByProject <- vuln %>%\n",
    "    # replace_na(list(CVE=-1)) %>%\n",
    "    pivot_wider(names_from=solver, values_from=CVE, names_prefix=\"CVE.\") #%>%\n",
    "    # group_by(name,commit) %>%\n",
    "    # summarise(across(starts_with(\"CVE.\"), ~sum(.x,na.rm=TRUE))) %>% ungroup()\n",
    "head(vulnByProject)\n",
    "nrow(vulnByProject)"
   ]
  },
  {
   "cell_type": "markdown",
   "metadata": {},
   "source": [
    "## How many times did MaxNPM come to a different CVE score than NPM audit fix?"
   ]
  },
  {
   "cell_type": "code",
   "execution_count": 5,
   "metadata": {
    "execution": {
     "iopub.execute_input": "2022-08-31T03:18:02.253222Z",
     "iopub.status.busy": "2022-08-31T03:18:02.252713Z",
     "iopub.status.idle": "2022-08-31T03:18:02.342058Z",
     "shell.execute_reply": "2022-08-31T03:18:02.341541Z"
    },
    "vscode": {
     "languageId": "r"
    }
   },
   "outputs": [
    {
     "name": "stderr",
     "output_type": "stream",
     "text": [
      "\u001b[1m\u001b[22m`summarise()` has grouped output by 'CVE.audit fix'. You can override using the `.groups` argument.\n"
     ]
    },
    {
     "data": {
      "text/html": [
       "<table class=\"dataframe\">\n",
       "<caption>A tibble: 7 × 8</caption>\n",
       "<thead>\n",
       "\t<tr><th scope=col>CVE.maxnpm_cve_oldness</th><th scope=col>0</th><th scope=col>(   1,   10]</th><th scope=col>(  10,   25]</th><th scope=col>(  25,   50]</th><th scope=col>(  50,  100]</th><th scope=col>( 100, 1000]</th><th scope=col>Total</th></tr>\n",
       "\t<tr><th scope=col>&lt;chr&gt;</th><th scope=col>&lt;dbl&gt;</th><th scope=col>&lt;dbl&gt;</th><th scope=col>&lt;dbl&gt;</th><th scope=col>&lt;dbl&gt;</th><th scope=col>&lt;dbl&gt;</th><th scope=col>&lt;dbl&gt;</th><th scope=col>&lt;dbl&gt;</th></tr>\n",
       "</thead>\n",
       "<tbody>\n",
       "\t<tr><td>(   1,   10]</td><td>  0</td><td>13</td><td> 2</td><td> 3</td><td> 6</td><td> 4</td><td> 28</td></tr>\n",
       "\t<tr><td>(  10,   25]</td><td>  0</td><td> 0</td><td> 9</td><td> 7</td><td> 3</td><td> 0</td><td> 19</td></tr>\n",
       "\t<tr><td>(  25,   50]</td><td>  0</td><td> 0</td><td> 0</td><td> 9</td><td> 4</td><td> 0</td><td> 13</td></tr>\n",
       "\t<tr><td>(  50,  100]</td><td>  0</td><td> 0</td><td> 0</td><td> 0</td><td> 3</td><td> 1</td><td>  4</td></tr>\n",
       "\t<tr><td>( 100, 1000]</td><td>  0</td><td> 0</td><td> 0</td><td> 0</td><td> 0</td><td> 7</td><td>  7</td></tr>\n",
       "\t<tr><td>0           </td><td>209</td><td>86</td><td>49</td><td>37</td><td>17</td><td> 8</td><td>406</td></tr>\n",
       "\t<tr><td>Total       </td><td>209</td><td>99</td><td>60</td><td>56</td><td>33</td><td>20</td><td>477</td></tr>\n",
       "</tbody>\n",
       "</table>\n"
      ],
      "text/latex": [
       "A tibble: 7 × 8\n",
       "\\begin{tabular}{llllllll}\n",
       " CVE.maxnpm\\_cve\\_oldness & 0 & (   1,   10{]} & (  10,   25{]} & (  25,   50{]} & (  50,  100{]} & ( 100, 1000{]} & Total\\\\\n",
       " <chr> & <dbl> & <dbl> & <dbl> & <dbl> & <dbl> & <dbl> & <dbl>\\\\\n",
       "\\hline\n",
       "\t (   1,   10{]} &   0 & 13 &  2 &  3 &  6 &  4 &  28\\\\\n",
       "\t (  10,   25{]} &   0 &  0 &  9 &  7 &  3 &  0 &  19\\\\\n",
       "\t (  25,   50{]} &   0 &  0 &  0 &  9 &  4 &  0 &  13\\\\\n",
       "\t (  50,  100{]} &   0 &  0 &  0 &  0 &  3 &  1 &   4\\\\\n",
       "\t ( 100, 1000{]} &   0 &  0 &  0 &  0 &  0 &  7 &   7\\\\\n",
       "\t 0            & 209 & 86 & 49 & 37 & 17 &  8 & 406\\\\\n",
       "\t Total        & 209 & 99 & 60 & 56 & 33 & 20 & 477\\\\\n",
       "\\end{tabular}\n"
      ],
      "text/markdown": [
       "\n",
       "A tibble: 7 × 8\n",
       "\n",
       "| CVE.maxnpm_cve_oldness &lt;chr&gt; | 0 &lt;dbl&gt; | (   1,   10] &lt;dbl&gt; | (  10,   25] &lt;dbl&gt; | (  25,   50] &lt;dbl&gt; | (  50,  100] &lt;dbl&gt; | ( 100, 1000] &lt;dbl&gt; | Total &lt;dbl&gt; |\n",
       "|---|---|---|---|---|---|---|---|\n",
       "| (   1,   10] |   0 | 13 |  2 |  3 |  6 |  4 |  28 |\n",
       "| (  10,   25] |   0 |  0 |  9 |  7 |  3 |  0 |  19 |\n",
       "| (  25,   50] |   0 |  0 |  0 |  9 |  4 |  0 |  13 |\n",
       "| (  50,  100] |   0 |  0 |  0 |  0 |  3 |  1 |   4 |\n",
       "| ( 100, 1000] |   0 |  0 |  0 |  0 |  0 |  7 |   7 |\n",
       "| 0            | 209 | 86 | 49 | 37 | 17 |  8 | 406 |\n",
       "| Total        | 209 | 99 | 60 | 56 | 33 | 20 | 477 |\n",
       "\n"
      ],
      "text/plain": [
       "  CVE.maxnpm_cve_oldness 0   (   1,   10] (  10,   25] (  25,   50]\n",
       "1 (   1,   10]             0 13            2            3          \n",
       "2 (  10,   25]             0  0            9            7          \n",
       "3 (  25,   50]             0  0            0            9          \n",
       "4 (  50,  100]             0  0            0            0          \n",
       "5 ( 100, 1000]             0  0            0            0          \n",
       "6 0                      209 86           49           37          \n",
       "7 Total                  209 99           60           56          \n",
       "  (  50,  100] ( 100, 1000] Total\n",
       "1  6            4            28  \n",
       "2  3            0            19  \n",
       "3  4            0            13  \n",
       "4  3            1             4  \n",
       "5  0            7             7  \n",
       "6 17            8           406  \n",
       "7 33           20           477  "
      ]
     },
     "metadata": {},
     "output_type": "display_data"
    }
   ],
   "source": [
    "breaks <- c(0, 1, 10, 25, 50, 100, 1000)\n",
    "bucketedVuln <- vulnByProject %>%\n",
    "    filter(`CVE.audit fix` >= 0 & `CVE.audit fix force`>=0 & `CVE.maxnpm_cve_oldness`>=0) %>%\n",
    "    mutate(across(starts_with('CVE'), ~cut_format(.x, breaks=breaks))) %>% # Bucket all CVE columns\n",
    "    mutate_if(is.factor, as.character) %>%  # Default is these are factors, make them char so easier to handle\n",
    "    mutate(across(starts_with('CVE'), ~replace(.,is.na(.), '0'))) %>% # If it was NA, it was because it was outside of the range, aka == 0\n",
    "    group_by(`CVE.audit fix`,`CVE.maxnpm_cve_oldness`) %>% summarise(count=n()) %>%\n",
    "    # Sum the count for CVE audit fix and add a row for that called 'total'\n",
    "    bind_rows(group_by(.,`CVE.audit fix`) %>%\n",
    "        summarise(count=sum(count)) %>%\n",
    "        mutate(`CVE.maxnpm_cve_oldness`='Total')) %>%\n",
    "    bind_rows(group_by(.,`CVE.maxnpm_cve_oldness`) %>%\n",
    "        summarise(count=sum(count)) %>%\n",
    "        mutate(`CVE.audit fix`='Total'))\n",
    "\n",
    "# Create a matrix where the columns are for audit fix, rows are for MaxNPM\n",
    "bucketedVuln %>%\n",
    "    pivot_wider(names_from=`CVE.audit fix`, values_from=count) %>%\n",
    "    relocate(`0`, .before=`(   1,   10]`) %>%\n",
    "    mutate_if(is.numeric,~replace(.,is.na(.), 0)) %>%\n",
    "    arrange(CVE.maxnpm_cve_oldness) #%>%\n",
    "        # kable(\"html\", booktabs=TRUE, linesep=\"\", digits=0, escape=FALSE, format.args = list(big.mark = \",\",\n",
    "        #   scientific = FALSE)) %>% as.character() %>% display_html()"
   ]
  },
  {
   "cell_type": "code",
   "execution_count": 6,
   "metadata": {
    "execution": {
     "iopub.execute_input": "2022-08-31T03:18:02.343905Z",
     "iopub.status.busy": "2022-08-31T03:18:02.343492Z",
     "iopub.status.idle": "2022-08-31T03:18:02.351291Z",
     "shell.execute_reply": "2022-08-31T03:18:02.350807Z"
    },
    "vscode": {
     "languageId": "r"
    }
   },
   "outputs": [
    {
     "data": {
      "text/html": [
       "<table class=\"dataframe\">\n",
       "<caption>A tibble: 1 × 7</caption>\n",
       "<thead>\n",
       "\t<tr><th scope=col>name</th><th scope=col>commit</th><th scope=col>CVE.vanilla</th><th scope=col>CVE.audit fix</th><th scope=col>CVE.audit fix force</th><th scope=col>CVE.maxnpm_cve_oldness</th><th scope=col>CVE.maxnpm_cve_oldness_pip_else_npm</th></tr>\n",
       "\t<tr><th scope=col>&lt;chr&gt;</th><th scope=col>&lt;chr&gt;</th><th scope=col>&lt;dbl&gt;</th><th scope=col>&lt;dbl&gt;</th><th scope=col>&lt;dbl&gt;</th><th scope=col>&lt;dbl&gt;</th><th scope=col>&lt;dbl&gt;</th></tr>\n",
       "</thead>\n",
       "<tbody>\n",
       "\t<tr><td>spreadable</td><td>0803fae</td><td>28.5</td><td>28.5</td><td>13.1</td><td>28.5</td><td>28.5</td></tr>\n",
       "</tbody>\n",
       "</table>\n"
      ],
      "text/latex": [
       "A tibble: 1 × 7\n",
       "\\begin{tabular}{lllllll}\n",
       " name & commit & CVE.vanilla & CVE.audit fix & CVE.audit fix force & CVE.maxnpm\\_cve\\_oldness & CVE.maxnpm\\_cve\\_oldness\\_pip\\_else\\_npm\\\\\n",
       " <chr> & <chr> & <dbl> & <dbl> & <dbl> & <dbl> & <dbl>\\\\\n",
       "\\hline\n",
       "\t spreadable & 0803fae & 28.5 & 28.5 & 13.1 & 28.5 & 28.5\\\\\n",
       "\\end{tabular}\n"
      ],
      "text/markdown": [
       "\n",
       "A tibble: 1 × 7\n",
       "\n",
       "| name &lt;chr&gt; | commit &lt;chr&gt; | CVE.vanilla &lt;dbl&gt; | CVE.audit fix &lt;dbl&gt; | CVE.audit fix force &lt;dbl&gt; | CVE.maxnpm_cve_oldness &lt;dbl&gt; | CVE.maxnpm_cve_oldness_pip_else_npm &lt;dbl&gt; |\n",
       "|---|---|---|---|---|---|---|\n",
       "| spreadable | 0803fae | 28.5 | 28.5 | 13.1 | 28.5 | 28.5 |\n",
       "\n"
      ],
      "text/plain": [
       "  name       commit  CVE.vanilla CVE.audit fix CVE.audit fix force\n",
       "1 spreadable 0803fae 28.5        28.5          13.1               \n",
       "  CVE.maxnpm_cve_oldness CVE.maxnpm_cve_oldness_pip_else_npm\n",
       "1 28.5                   28.5                               "
      ]
     },
     "metadata": {},
     "output_type": "display_data"
    }
   ],
   "source": [
    "vulnByProject %>% filter(name == 'spreadable')"
   ]
  },
  {
   "cell_type": "markdown",
   "metadata": {},
   "source": [
    "## When MaxNPM outperformed NPM Audit, how much better was it?\n",
    "\n",
    "Negative numbers are *better* because they are a decrease in badness."
   ]
  },
  {
   "cell_type": "code",
   "execution_count": 7,
   "metadata": {
    "execution": {
     "iopub.execute_input": "2022-08-31T03:18:02.353061Z",
     "iopub.status.busy": "2022-08-31T03:18:02.352670Z",
     "iopub.status.idle": "2022-08-31T03:18:02.356029Z",
     "shell.execute_reply": "2022-08-31T03:18:02.355545Z"
    },
    "vscode": {
     "languageId": "r"
    }
   },
   "outputs": [],
   "source": [
    "change_cat <- function(x) {\n",
    "    ifelse(is.na(x), NA, ifelse(x == 0, \"same\", ifelse(x > 0, \"better\", \"worse\")))\n",
    "}"
   ]
  },
  {
   "cell_type": "code",
   "execution_count": 8,
   "metadata": {
    "execution": {
     "iopub.execute_input": "2022-08-31T03:18:02.357736Z",
     "iopub.status.busy": "2022-08-31T03:18:02.357347Z",
     "iopub.status.idle": "2022-08-31T03:18:02.366034Z",
     "shell.execute_reply": "2022-08-31T03:18:02.365509Z"
    },
    "vscode": {
     "languageId": "r"
    }
   },
   "outputs": [],
   "source": [
    "CVEDiff <- vulnByProject %>%\n",
    "    mutate(CVEDiff=`CVE.audit fix` - `CVE.maxnpm_cve_oldness`, CVEPIPDiff=`CVE.audit fix` - `CVE.maxnpm_cve_oldness_pip_else_npm`) %>%\n",
    "    mutate(CVEDiff=round(CVEDiff, 6)) %>%\n",
    "    mutate(CVEPIPDiff=round(CVEPIPDiff, 6)) %>%\n",
    "    mutate(CVEChangeCat=change_cat(CVEDiff)) %>%\n",
    "    mutate(CVEPIPChangeCat=change_cat(CVEPIPDiff))"
   ]
  },
  {
   "cell_type": "code",
   "execution_count": 9,
   "metadata": {
    "execution": {
     "iopub.execute_input": "2022-08-31T03:18:02.367726Z",
     "iopub.status.busy": "2022-08-31T03:18:02.367341Z",
     "iopub.status.idle": "2022-08-31T03:18:02.374284Z",
     "shell.execute_reply": "2022-08-31T03:18:02.373821Z"
    },
    "vscode": {
     "languageId": "r"
    }
   },
   "outputs": [
    {
     "data": {
      "text/html": [
       "<table class=\"dataframe\">\n",
       "<caption>A tibble: 6 × 11</caption>\n",
       "<thead>\n",
       "\t<tr><th scope=col>name</th><th scope=col>commit</th><th scope=col>CVE.vanilla</th><th scope=col>CVE.audit fix</th><th scope=col>CVE.audit fix force</th><th scope=col>CVE.maxnpm_cve_oldness</th><th scope=col>CVE.maxnpm_cve_oldness_pip_else_npm</th><th scope=col>CVEDiff</th><th scope=col>CVEPIPDiff</th><th scope=col>CVEChangeCat</th><th scope=col>CVEPIPChangeCat</th></tr>\n",
       "\t<tr><th scope=col>&lt;chr&gt;</th><th scope=col>&lt;chr&gt;</th><th scope=col>&lt;dbl&gt;</th><th scope=col>&lt;dbl&gt;</th><th scope=col>&lt;dbl&gt;</th><th scope=col>&lt;dbl&gt;</th><th scope=col>&lt;dbl&gt;</th><th scope=col>&lt;dbl&gt;</th><th scope=col>&lt;dbl&gt;</th><th scope=col>&lt;chr&gt;</th><th scope=col>&lt;chr&gt;</th></tr>\n",
       "</thead>\n",
       "<tbody>\n",
       "\t<tr><td>generator-react              </td><td>09b724e</td><td>12.80</td><td>12.80</td><td>  0.0</td><td>NA</td><td>   NA</td><td>   NA</td><td>NA</td><td>NA    </td><td>NA  </td></tr>\n",
       "\t<tr><td>JsSIP                        </td><td>9cdeaa0</td><td>17.45</td><td>17.45</td><td>  0.0</td><td> 0</td><td>17.45</td><td>17.45</td><td> 0</td><td>better</td><td>same</td></tr>\n",
       "\t<tr><td>umi-plugin-datahub           </td><td>0a4a4f9</td><td>33.10</td><td>33.10</td><td>202.5</td><td>NA</td><td>   NA</td><td>   NA</td><td>NA</td><td>NA    </td><td>NA  </td></tr>\n",
       "\t<tr><td>postcss-assets-webpack-plugin</td><td>90b69bb</td><td> 0.00</td><td> 0.00</td><td>  0.0</td><td> 0</td><td> 0.00</td><td> 0.00</td><td> 0</td><td>same  </td><td>same</td></tr>\n",
       "\t<tr><td>accord                       </td><td>262e693</td><td> 0.00</td><td> 0.00</td><td>  0.0</td><td> 0</td><td> 0.00</td><td> 0.00</td><td> 0</td><td>same  </td><td>same</td></tr>\n",
       "\t<tr><td>asl-validator                </td><td>88949ae</td><td> 0.00</td><td> 0.00</td><td>  0.0</td><td> 0</td><td> 0.00</td><td> 0.00</td><td> 0</td><td>same  </td><td>same</td></tr>\n",
       "</tbody>\n",
       "</table>\n"
      ],
      "text/latex": [
       "A tibble: 6 × 11\n",
       "\\begin{tabular}{lllllllllll}\n",
       " name & commit & CVE.vanilla & CVE.audit fix & CVE.audit fix force & CVE.maxnpm\\_cve\\_oldness & CVE.maxnpm\\_cve\\_oldness\\_pip\\_else\\_npm & CVEDiff & CVEPIPDiff & CVEChangeCat & CVEPIPChangeCat\\\\\n",
       " <chr> & <chr> & <dbl> & <dbl> & <dbl> & <dbl> & <dbl> & <dbl> & <dbl> & <chr> & <chr>\\\\\n",
       "\\hline\n",
       "\t generator-react               & 09b724e & 12.80 & 12.80 &   0.0 & NA &    NA &    NA & NA & NA     & NA  \\\\\n",
       "\t JsSIP                         & 9cdeaa0 & 17.45 & 17.45 &   0.0 &  0 & 17.45 & 17.45 &  0 & better & same\\\\\n",
       "\t umi-plugin-datahub            & 0a4a4f9 & 33.10 & 33.10 & 202.5 & NA &    NA &    NA & NA & NA     & NA  \\\\\n",
       "\t postcss-assets-webpack-plugin & 90b69bb &  0.00 &  0.00 &   0.0 &  0 &  0.00 &  0.00 &  0 & same   & same\\\\\n",
       "\t accord                        & 262e693 &  0.00 &  0.00 &   0.0 &  0 &  0.00 &  0.00 &  0 & same   & same\\\\\n",
       "\t asl-validator                 & 88949ae &  0.00 &  0.00 &   0.0 &  0 &  0.00 &  0.00 &  0 & same   & same\\\\\n",
       "\\end{tabular}\n"
      ],
      "text/markdown": [
       "\n",
       "A tibble: 6 × 11\n",
       "\n",
       "| name &lt;chr&gt; | commit &lt;chr&gt; | CVE.vanilla &lt;dbl&gt; | CVE.audit fix &lt;dbl&gt; | CVE.audit fix force &lt;dbl&gt; | CVE.maxnpm_cve_oldness &lt;dbl&gt; | CVE.maxnpm_cve_oldness_pip_else_npm &lt;dbl&gt; | CVEDiff &lt;dbl&gt; | CVEPIPDiff &lt;dbl&gt; | CVEChangeCat &lt;chr&gt; | CVEPIPChangeCat &lt;chr&gt; |\n",
       "|---|---|---|---|---|---|---|---|---|---|---|\n",
       "| generator-react               | 09b724e | 12.80 | 12.80 |   0.0 | NA |    NA |    NA | NA | NA     | NA   |\n",
       "| JsSIP                         | 9cdeaa0 | 17.45 | 17.45 |   0.0 |  0 | 17.45 | 17.45 |  0 | better | same |\n",
       "| umi-plugin-datahub            | 0a4a4f9 | 33.10 | 33.10 | 202.5 | NA |    NA |    NA | NA | NA     | NA   |\n",
       "| postcss-assets-webpack-plugin | 90b69bb |  0.00 |  0.00 |   0.0 |  0 |  0.00 |  0.00 |  0 | same   | same |\n",
       "| accord                        | 262e693 |  0.00 |  0.00 |   0.0 |  0 |  0.00 |  0.00 |  0 | same   | same |\n",
       "| asl-validator                 | 88949ae |  0.00 |  0.00 |   0.0 |  0 |  0.00 |  0.00 |  0 | same   | same |\n",
       "\n"
      ],
      "text/plain": [
       "  name                          commit  CVE.vanilla CVE.audit fix\n",
       "1 generator-react               09b724e 12.80       12.80        \n",
       "2 JsSIP                         9cdeaa0 17.45       17.45        \n",
       "3 umi-plugin-datahub            0a4a4f9 33.10       33.10        \n",
       "4 postcss-assets-webpack-plugin 90b69bb  0.00        0.00        \n",
       "5 accord                        262e693  0.00        0.00        \n",
       "6 asl-validator                 88949ae  0.00        0.00        \n",
       "  CVE.audit fix force CVE.maxnpm_cve_oldness\n",
       "1   0.0               NA                    \n",
       "2   0.0                0                    \n",
       "3 202.5               NA                    \n",
       "4   0.0                0                    \n",
       "5   0.0                0                    \n",
       "6   0.0                0                    \n",
       "  CVE.maxnpm_cve_oldness_pip_else_npm CVEDiff CVEPIPDiff CVEChangeCat\n",
       "1    NA                                  NA   NA         NA          \n",
       "2 17.45                               17.45    0         better      \n",
       "3    NA                                  NA   NA         NA          \n",
       "4  0.00                                0.00    0         same        \n",
       "5  0.00                                0.00    0         same        \n",
       "6  0.00                                0.00    0         same        \n",
       "  CVEPIPChangeCat\n",
       "1 NA             \n",
       "2 same           \n",
       "3 NA             \n",
       "4 same           \n",
       "5 same           \n",
       "6 same           "
      ]
     },
     "metadata": {},
     "output_type": "display_data"
    }
   ],
   "source": [
    "head(CVEDiff)"
   ]
  },
  {
   "cell_type": "code",
   "execution_count": 10,
   "metadata": {
    "execution": {
     "iopub.execute_input": "2022-08-31T03:18:02.376044Z",
     "iopub.status.busy": "2022-08-31T03:18:02.375603Z",
     "iopub.status.idle": "2022-08-31T03:18:02.550080Z",
     "shell.execute_reply": "2022-08-31T03:18:02.549582Z"
    },
    "vscode": {
     "languageId": "r"
    }
   },
   "outputs": [
    {
     "name": "stderr",
     "output_type": "stream",
     "text": [
      "Warning message:\n",
      "“Removed 238 rows containing non-finite values (stat_ecdf).”\n",
      "Warning message:\n",
      "“Removed 238 rows containing non-finite values (stat_ecdf).”\n"
     ]
    },
    {
     "data": {
      "image/png": "[encoded data removed]",
      "text/plain": [
       "plot without title"
      ]
     },
     "metadata": {
      "image/png": {
       "height": 420,
       "width": 420
      }
     },
     "output_type": "display_data"
    }
   ],
   "source": [
    "CVEDiff %>% \n",
    "  ggplot(aes(`CVE.maxnpm_cve_oldness` - `CVE.audit fix`  )) +\n",
    "  stat_ecdf() +\n",
    "  ylab(\"Percentange of packages\") +\n",
    "  xlab(\"Difference in CVE badness between NPM and MaxNPM\") +\n",
    "  mytheme()\n",
    "mysave(\"cve-diff-ecdf.pdf\")"
   ]
  },
  {
   "cell_type": "code",
   "execution_count": 11,
   "metadata": {
    "execution": {
     "iopub.execute_input": "2022-08-31T03:18:02.552341Z",
     "iopub.status.busy": "2022-08-31T03:18:02.551912Z",
     "iopub.status.idle": "2022-08-31T03:18:02.806574Z",
     "shell.execute_reply": "2022-08-31T03:18:02.806078Z"
    },
    "vscode": {
     "languageId": "r"
    }
   },
   "outputs": [
    {
     "data": {
      "image/png": "[encoded data removed]",
      "text/plain": [
       "plot without title"
      ]
     },
     "metadata": {
      "image/png": {
       "height": 420,
       "width": 420
      }
     },
     "output_type": "display_data"
    }
   ],
   "source": [
    "CombinedData <- CVEDiff %>% \n",
    "    filter(!is.na(CVEDiff))# %>%\n",
    "    # filter(CVEDiff >= -50 & CVEDiff <= 300)\n",
    "\n",
    "same_rows <- CombinedData %>% filter(CVEChangeCat != 'better')\n",
    "better_rows <- CombinedData %>% filter(CVEChangeCat == 'better')\n",
    "# worse_rows <- CombinedData %>% filter(CVEChangeCat == 'worse')\n",
    "\n",
    "colors <- c(\"Same or Worse\" = \"gray\", \"Better\" = \"#00BA38\")\n",
    "ggplot(CombinedData, aes(x= CVEDiff)) + mytheme() + geom_histogram(data = same_rows, aes(fill = \"Same or Worse\"), alpha = 1, bins=50) + geom_histogram(data = better_rows, aes(fill = \"Better\"), alpha=1, bins=50) + scale_fill_manual(values=colors) + xlab('CVE improvement with MaxNPM') + ylab('Count')\n",
    "\n",
    "mysave('cve-diff-hist.pdf')"
   ]
  },
  {
   "cell_type": "code",
   "execution_count": 12,
   "metadata": {
    "execution": {
     "iopub.execute_input": "2022-08-31T03:18:02.808815Z",
     "iopub.status.busy": "2022-08-31T03:18:02.808406Z",
     "iopub.status.idle": "2022-08-31T03:18:02.829699Z",
     "shell.execute_reply": "2022-08-31T03:18:02.829130Z"
    },
    "vscode": {
     "languageId": "r"
    }
   },
   "outputs": [],
   "source": [
    "total_count <- nrow(CVEDiff)\n",
    "all_ok_count <- nrow(CVEDiff %>% filter(!is.na(CVEDiff)))\n",
    "maxnpm_better_count <- nrow(CVEDiff %>% filter(CVEDiff > 0))\n",
    "maxnpm_same_count <- nrow(CVEDiff %>% filter(CVEDiff == 0))\n",
    "maxnpm_worse_count <- nrow(CVEDiff %>% filter(CVEDiff < 0))\n",
    "cve_diff_mean <- mean(CVEDiff$CVEDiff, na.rm=T)\n",
    "all_ok_perc <- all_ok_count / total_count\n",
    "maxnpm_better_total_perc <- maxnpm_better_count / total_count\n",
    "maxnpm_better_ok_perc <- maxnpm_better_count / all_ok_count\n",
    "\n",
    "write(\n",
    "  str_c(\"\\\\newcommand{\\\\dataCveExpTotalCount}{\", \n",
    "        total_count,\n",
    "        \"}\\n\"),\n",
    "  results_tex, append=TRUE)\n",
    "write(\n",
    "  str_c(\"\\\\newcommand{\\\\dataCveExpSuccessCount}{\", \n",
    "        all_ok_count,\n",
    "        \"}\\n\"),\n",
    "  results_tex, append=TRUE)\n",
    "write(\n",
    "  str_c(\"\\\\newcommand{\\\\dataCveExpMaxNpmBetterCount}{\", \n",
    "        maxnpm_better_count,\n",
    "        \"}\\n\"),\n",
    "  results_tex, append=TRUE)\n",
    "write(\n",
    "  str_c(\"\\\\newcommand{\\\\dataCveExpMaxNpmSameCount}{\", \n",
    "        maxnpm_same_count,\n",
    "        \"}\\n\"),\n",
    "  results_tex, append=TRUE)\n",
    "write(\n",
    "  str_c(\"\\\\newcommand{\\\\dataCveExpMaxNpmWorseCount}{\", \n",
    "        maxnpm_worse_count,\n",
    "        \"}\\n\"),\n",
    "  results_tex, append=TRUE)\n",
    "write(\n",
    "  str_c(\"\\\\newcommand{\\\\dataCveExpMeanCveDiff}{\", \n",
    "        round(cve_diff_mean, 2),\n",
    "        \"}\\n\"),\n",
    "  results_tex, append=TRUE)\n",
    "write(\n",
    "  str_c(\"\\\\newcommand{\\\\dataCveExpSuccessPerc}{\", \n",
    "        round(100 * all_ok_perc),\n",
    "        \"\\\\%}\\n\"),\n",
    "  results_tex, append=TRUE)\n",
    "write(\n",
    "  str_c(\"\\\\newcommand{\\\\dataCveExpMaxNpmBetterTotalPerc}{\", \n",
    "        round(100 * maxnpm_better_total_perc),\n",
    "        \"\\\\%}\\n\"),\n",
    "  results_tex, append=TRUE)\n",
    "write(\n",
    "  str_c(\"\\\\newcommand{\\\\dataCveExpMaxNpmBetterSuccessPerc}{\", \n",
    "        round(100 * maxnpm_better_ok_perc),\n",
    "        \"\\\\%}\\n\"),\n",
    "  results_tex, append=TRUE)\n"
   ]
  },
  {
   "cell_type": "markdown",
   "metadata": {},
   "source": [
    "# These are the ones where MaxNPM did worse somehow?"
   ]
  },
  {
   "cell_type": "code",
   "execution_count": 13,
   "metadata": {
    "execution": {
     "iopub.execute_input": "2022-08-31T03:18:02.831849Z",
     "iopub.status.busy": "2022-08-31T03:18:02.831397Z",
     "iopub.status.idle": "2022-08-31T03:18:02.839920Z",
     "shell.execute_reply": "2022-08-31T03:18:02.839422Z"
    },
    "vscode": {
     "languageId": "r"
    }
   },
   "outputs": [
    {
     "data": {
      "text/html": [
       "<table class=\"dataframe\">\n",
       "<caption>A tibble: 0 × 11</caption>\n",
       "<thead>\n",
       "\t<tr><th scope=col>name</th><th scope=col>commit</th><th scope=col>CVE.vanilla</th><th scope=col>CVE.audit fix</th><th scope=col>CVE.audit fix force</th><th scope=col>CVE.maxnpm_cve_oldness</th><th scope=col>CVE.maxnpm_cve_oldness_pip_else_npm</th><th scope=col>CVEDiff</th><th scope=col>CVEPIPDiff</th><th scope=col>CVEChangeCat</th><th scope=col>CVEPIPChangeCat</th></tr>\n",
       "\t<tr><th scope=col>&lt;chr&gt;</th><th scope=col>&lt;chr&gt;</th><th scope=col>&lt;dbl&gt;</th><th scope=col>&lt;dbl&gt;</th><th scope=col>&lt;dbl&gt;</th><th scope=col>&lt;dbl&gt;</th><th scope=col>&lt;dbl&gt;</th><th scope=col>&lt;dbl&gt;</th><th scope=col>&lt;dbl&gt;</th><th scope=col>&lt;chr&gt;</th><th scope=col>&lt;chr&gt;</th></tr>\n",
       "</thead>\n",
       "<tbody>\n",
       "</tbody>\n",
       "</table>\n"
      ],
      "text/latex": [
       "A tibble: 0 × 11\n",
       "\\begin{tabular}{lllllllllll}\n",
       " name & commit & CVE.vanilla & CVE.audit fix & CVE.audit fix force & CVE.maxnpm\\_cve\\_oldness & CVE.maxnpm\\_cve\\_oldness\\_pip\\_else\\_npm & CVEDiff & CVEPIPDiff & CVEChangeCat & CVEPIPChangeCat\\\\\n",
       " <chr> & <chr> & <dbl> & <dbl> & <dbl> & <dbl> & <dbl> & <dbl> & <dbl> & <chr> & <chr>\\\\\n",
       "\\hline\n",
       "\\end{tabular}\n"
      ],
      "text/markdown": [
       "\n",
       "A tibble: 0 × 11\n",
       "\n",
       "| name &lt;chr&gt; | commit &lt;chr&gt; | CVE.vanilla &lt;dbl&gt; | CVE.audit fix &lt;dbl&gt; | CVE.audit fix force &lt;dbl&gt; | CVE.maxnpm_cve_oldness &lt;dbl&gt; | CVE.maxnpm_cve_oldness_pip_else_npm &lt;dbl&gt; | CVEDiff &lt;dbl&gt; | CVEPIPDiff &lt;dbl&gt; | CVEChangeCat &lt;chr&gt; | CVEPIPChangeCat &lt;chr&gt; |\n",
       "|---|---|---|---|---|---|---|---|---|---|---|\n",
       "\n"
      ],
      "text/plain": [
       "     name commit CVE.vanilla CVE.audit fix CVE.audit fix force\n",
       "     CVE.maxnpm_cve_oldness CVE.maxnpm_cve_oldness_pip_else_npm CVEDiff\n",
       "     CVEPIPDiff CVEChangeCat CVEPIPChangeCat"
      ]
     },
     "metadata": {},
     "output_type": "display_data"
    }
   ],
   "source": [
    "CVEDiff %>% filter(CVEDiff < 0)"
   ]
  },
  {
   "cell_type": "markdown",
   "metadata": {},
   "source": [
    "# These are the ones where MaxNPM did the best"
   ]
  },
  {
   "cell_type": "code",
   "execution_count": 14,
   "metadata": {
    "execution": {
     "iopub.execute_input": "2022-08-31T03:18:02.841840Z",
     "iopub.status.busy": "2022-08-31T03:18:02.841411Z",
     "iopub.status.idle": "2022-08-31T03:18:02.883059Z",
     "shell.execute_reply": "2022-08-31T03:18:02.882523Z"
    },
    "vscode": {
     "languageId": "r"
    }
   },
   "outputs": [
    {
     "data": {
      "text/html": [
       "<table class=\"dataframe\">\n",
       "<caption>A tibble: 237 × 11</caption>\n",
       "<thead>\n",
       "\t<tr><th scope=col>name</th><th scope=col>commit</th><th scope=col>CVE.vanilla</th><th scope=col>CVE.audit fix</th><th scope=col>CVE.audit fix force</th><th scope=col>CVE.maxnpm_cve_oldness</th><th scope=col>CVE.maxnpm_cve_oldness_pip_else_npm</th><th scope=col>CVEDiff</th><th scope=col>CVEPIPDiff</th><th scope=col>CVEChangeCat</th><th scope=col>CVEPIPChangeCat</th></tr>\n",
       "\t<tr><th scope=col>&lt;chr&gt;</th><th scope=col>&lt;chr&gt;</th><th scope=col>&lt;dbl&gt;</th><th scope=col>&lt;dbl&gt;</th><th scope=col>&lt;dbl&gt;</th><th scope=col>&lt;dbl&gt;</th><th scope=col>&lt;dbl&gt;</th><th scope=col>&lt;dbl&gt;</th><th scope=col>&lt;dbl&gt;</th><th scope=col>&lt;chr&gt;</th><th scope=col>&lt;chr&gt;</th></tr>\n",
       "</thead>\n",
       "<tbody>\n",
       "\t<tr><td>node-exif                   </td><td>7dbb55f</td><td>  2.00</td><td>  2.00</td><td>0</td><td>  0.00</td><td>  2.00</td><td>2.0</td><td>0.0</td><td>better</td><td>same  </td></tr>\n",
       "\t<tr><td>node-rest-client            </td><td>082c3ff</td><td>  2.00</td><td>  2.00</td><td>0</td><td>  0.00</td><td>  2.00</td><td>2.0</td><td>0.0</td><td>better</td><td>same  </td></tr>\n",
       "\t<tr><td>remit                       </td><td>03acca6</td><td>  2.00</td><td>  2.00</td><td>0</td><td>  0.00</td><td>  2.00</td><td>2.0</td><td>0.0</td><td>better</td><td>same  </td></tr>\n",
       "\t<tr><td>gm                          </td><td>2fb65ba</td><td>  2.00</td><td>  2.00</td><td>0</td><td>  0.00</td><td>  2.00</td><td>2.0</td><td>0.0</td><td>better</td><td>same  </td></tr>\n",
       "\t<tr><td>socket.io-parser            </td><td>009188f</td><td>  2.00</td><td>  2.00</td><td>0</td><td>  0.00</td><td>  2.00</td><td>2.0</td><td>0.0</td><td>better</td><td>same  </td></tr>\n",
       "\t<tr><td>js-html                     </td><td>02fcbe3</td><td>  2.00</td><td>  2.00</td><td>0</td><td>  0.00</td><td>  2.00</td><td>2.0</td><td>0.0</td><td>better</td><td>same  </td></tr>\n",
       "\t<tr><td>loopback4-authentication    </td><td>07363de</td><td>  4.80</td><td>  4.80</td><td>0</td><td>  0.00</td><td>  4.80</td><td>4.8</td><td>0.0</td><td>better</td><td>same  </td></tr>\n",
       "\t<tr><td>postcss-modules-resolve-path</td><td>9436aba</td><td>  5.30</td><td>  5.30</td><td>0</td><td>  0.00</td><td>  5.30</td><td>5.3</td><td>0.0</td><td>better</td><td>same  </td></tr>\n",
       "\t<tr><td>postcss-responsive-type     </td><td>7cde196</td><td>  5.30</td><td>  5.30</td><td>0</td><td>  0.00</td><td>  5.30</td><td>5.3</td><td>0.0</td><td>better</td><td>same  </td></tr>\n",
       "\t<tr><td>postcss-scopify             </td><td>09949fc</td><td>  5.30</td><td>  5.30</td><td>0</td><td>  0.00</td><td>  5.30</td><td>5.3</td><td>0.0</td><td>better</td><td>same  </td></tr>\n",
       "\t<tr><td>postcss-lh                  </td><td>0d1c1d2</td><td>  5.30</td><td>  5.30</td><td>0</td><td>  0.00</td><td>  5.30</td><td>5.3</td><td>0.0</td><td>better</td><td>same  </td></tr>\n",
       "\t<tr><td>lesshint                    </td><td>0d38e62</td><td>  5.30</td><td>  5.30</td><td>0</td><td>  0.00</td><td>  5.30</td><td>5.3</td><td>0.0</td><td>better</td><td>same  </td></tr>\n",
       "\t<tr><td>authy-client                </td><td>0a0f7a9</td><td>  5.30</td><td>  5.30</td><td>0</td><td>  0.00</td><td>  5.30</td><td>5.3</td><td>0.0</td><td>better</td><td>same  </td></tr>\n",
       "\t<tr><td>quantlab                    </td><td>1169cfe</td><td>108.85</td><td>108.85</td><td>0</td><td>103.55</td><td>103.55</td><td>5.3</td><td>5.3</td><td>better</td><td>better</td></tr>\n",
       "\t<tr><td>postcss-inline-comment      </td><td>147e77b</td><td>  5.30</td><td>  5.30</td><td>0</td><td>  0.00</td><td>  5.30</td><td>5.3</td><td>0.0</td><td>better</td><td>same  </td></tr>\n",
       "\t<tr><td>npm-package-arg             </td><td>1dc802d</td><td>  5.30</td><td>  5.30</td><td>0</td><td>  0.00</td><td>  5.30</td><td>5.3</td><td>0.0</td><td>better</td><td>same  </td></tr>\n",
       "\t<tr><td>postcss-position            </td><td>1d5cdc9</td><td>  5.30</td><td>  5.30</td><td>0</td><td>  0.00</td><td>  5.30</td><td>5.3</td><td>0.0</td><td>better</td><td>same  </td></tr>\n",
       "\t<tr><td>postcss-gradientfixer       </td><td>559f638</td><td>  5.30</td><td>  5.30</td><td>0</td><td>  0.00</td><td>  5.30</td><td>5.3</td><td>0.0</td><td>better</td><td>same  </td></tr>\n",
       "\t<tr><td>css-node-extract            </td><td>1afc251</td><td>  5.30</td><td>  5.30</td><td>0</td><td>  0.00</td><td>  5.30</td><td>5.3</td><td>0.0</td><td>better</td><td>same  </td></tr>\n",
       "\t<tr><td>postcss-flexboxfixer        </td><td>40711d2</td><td>  5.30</td><td>  5.30</td><td>0</td><td>  0.00</td><td>  5.30</td><td>5.3</td><td>0.0</td><td>better</td><td>same  </td></tr>\n",
       "\t<tr><td>css-diff                    </td><td>379147a</td><td>  5.30</td><td>  5.30</td><td>0</td><td>  0.00</td><td>  5.30</td><td>5.3</td><td>0.0</td><td>better</td><td>same  </td></tr>\n",
       "\t<tr><td>node-cli-base               </td><td>a9e05c9</td><td>  5.30</td><td>  5.30</td><td>0</td><td>  0.00</td><td>  5.30</td><td>5.3</td><td>0.0</td><td>better</td><td>same  </td></tr>\n",
       "\t<tr><td>postcss-colors-only         </td><td>2d77d5d</td><td>  5.30</td><td>  5.30</td><td>0</td><td>  0.00</td><td>  5.30</td><td>5.3</td><td>0.0</td><td>better</td><td>same  </td></tr>\n",
       "\t<tr><td>postcss-input-style         </td><td>24d86ef</td><td>  5.30</td><td>  5.30</td><td>0</td><td>  0.00</td><td>  5.30</td><td>5.3</td><td>0.0</td><td>better</td><td>same  </td></tr>\n",
       "\t<tr><td>postcss-opacity             </td><td>3dae717</td><td>  5.30</td><td>  5.30</td><td>0</td><td>  0.00</td><td>  5.30</td><td>5.3</td><td>0.0</td><td>better</td><td>same  </td></tr>\n",
       "\t<tr><td>jest-ratchet                </td><td>4afc61c</td><td>  5.30</td><td>  5.30</td><td>0</td><td>  0.00</td><td>  5.30</td><td>5.3</td><td>0.0</td><td>better</td><td>same  </td></tr>\n",
       "\t<tr><td>saladcss-bem                </td><td>280fcc4</td><td>  5.30</td><td>  5.30</td><td>0</td><td>  0.00</td><td>  5.30</td><td>5.3</td><td>0.0</td><td>better</td><td>same  </td></tr>\n",
       "\t<tr><td>less-plugin-autoprefix      </td><td>0004d46</td><td>  5.30</td><td>  5.30</td><td>0</td><td>  0.00</td><td>  5.30</td><td>5.3</td><td>0.0</td><td>better</td><td>same  </td></tr>\n",
       "\t<tr><td>postcss-extend              </td><td>985cbae</td><td>  5.30</td><td>  5.30</td><td>0</td><td>  0.00</td><td>  5.30</td><td>5.3</td><td>0.0</td><td>better</td><td>same  </td></tr>\n",
       "\t<tr><td>bocha                       </td><td>0789c01</td><td>  5.30</td><td>  5.30</td><td>0</td><td>  0.00</td><td>  5.30</td><td>5.3</td><td>0.0</td><td>better</td><td>same  </td></tr>\n",
       "\t<tr><td>⋮</td><td>⋮</td><td>⋮</td><td>⋮</td><td>⋮</td><td>⋮</td><td>⋮</td><td>⋮</td><td>⋮</td><td>⋮</td><td>⋮</td></tr>\n",
       "\t<tr><td>moleculer-web                       </td><td>0ef0e5c</td><td> 61.80</td><td> 61.80</td><td> 2.00</td><td>  0.00</td><td> 61.80</td><td> 61.80</td><td>  0.00</td><td>better</td><td>same  </td></tr>\n",
       "\t<tr><td>conventional-changelog              </td><td>4c7ec38</td><td> 67.30</td><td> 67.30</td><td>22.90</td><td>  0.00</td><td> 44.40</td><td> 67.30</td><td> 22.90</td><td>better</td><td>better</td></tr>\n",
       "\t<tr><td>commitlint                          </td><td>05c1f61</td><td> 69.00</td><td> 69.00</td><td> 0.00</td><td>  0.00</td><td> 61.70</td><td> 69.00</td><td>  7.30</td><td>better</td><td>better</td></tr>\n",
       "\t<tr><td>jupyterlab-cognos-dashboard-embedded</td><td>2ef647f</td><td> 69.70</td><td> 69.70</td><td> 0.00</td><td>  0.00</td><td> 69.70</td><td> 69.70</td><td>  0.00</td><td>better</td><td>same  </td></tr>\n",
       "\t<tr><td>cabbie                              </td><td>3b9a4b7</td><td> 83.00</td><td> 83.00</td><td>12.55</td><td> 12.55</td><td> 83.00</td><td> 70.45</td><td>  0.00</td><td>better</td><td>same  </td></tr>\n",
       "\t<tr><td>github-stream                       </td><td>9d47643</td><td> 71.00</td><td> 71.00</td><td> 0.00</td><td>  0.00</td><td> 71.00</td><td> 71.00</td><td>  0.00</td><td>better</td><td>same  </td></tr>\n",
       "\t<tr><td>tar-pack                            </td><td>217ed0b</td><td> 73.00</td><td> 73.00</td><td> 0.00</td><td>  0.00</td><td> 73.00</td><td> 73.00</td><td>  0.00</td><td>better</td><td>same  </td></tr>\n",
       "\t<tr><td>bodiless-js                         </td><td>03d52f9</td><td> 83.90</td><td> 83.90</td><td>10.40</td><td> 10.40</td><td> 83.90</td><td> 73.50</td><td>  0.00</td><td>better</td><td>same  </td></tr>\n",
       "\t<tr><td>node-wpapi                          </td><td>69d18fb</td><td> 74.30</td><td> 74.30</td><td> 0.00</td><td>  0.00</td><td> 64.80</td><td> 74.30</td><td>  9.50</td><td>better</td><td>better</td></tr>\n",
       "\t<tr><td>node-convict                        </td><td>2bdfa24</td><td> 80.10</td><td> 80.10</td><td> 0.00</td><td>  0.00</td><td> 80.10</td><td> 80.10</td><td>  0.00</td><td>better</td><td>same  </td></tr>\n",
       "\t<tr><td>react-native-code-push              </td><td>02d8677</td><td> 83.10</td><td> 83.10</td><td> 0.00</td><td>  0.00</td><td> 83.10</td><td> 83.10</td><td>  0.00</td><td>better</td><td>same  </td></tr>\n",
       "\t<tr><td>postman-request                     </td><td>03d903b</td><td> 86.25</td><td> 86.25</td><td> 0.00</td><td>  0.00</td><td> 86.25</td><td> 86.25</td><td>  0.00</td><td>better</td><td>same  </td></tr>\n",
       "\t<tr><td>node-soap                           </td><td>2a44d2a</td><td> 96.05</td><td> 96.05</td><td> 9.80</td><td>  9.80</td><td> 96.05</td><td> 86.25</td><td>  0.00</td><td>better</td><td>same  </td></tr>\n",
       "\t<tr><td>strong-soap                         </td><td>2e557dd</td><td> 96.05</td><td> 96.05</td><td> 9.80</td><td>  9.80</td><td> 96.05</td><td> 86.25</td><td>  0.00</td><td>better</td><td>same  </td></tr>\n",
       "\t<tr><td>passport-saml                       </td><td>050ed13</td><td> 94.70</td><td> 94.70</td><td> 6.50</td><td>  6.50</td><td> 86.20</td><td> 88.20</td><td>  8.50</td><td>better</td><td>better</td></tr>\n",
       "\t<tr><td>zombie                              </td><td>004ae36</td><td> 89.55</td><td> 89.55</td><td> 0.00</td><td>  0.00</td><td> 89.55</td><td> 89.55</td><td>  0.00</td><td>better</td><td>same  </td></tr>\n",
       "\t<tr><td>eyeglass                            </td><td>36f32eb</td><td>111.60</td><td>111.60</td><td> 7.50</td><td>  7.50</td><td>    NA</td><td>104.10</td><td>    NA</td><td>better</td><td>NA    </td></tr>\n",
       "\t<tr><td>inline-critical                     </td><td>0668d89</td><td>105.80</td><td>105.80</td><td> 7.50</td><td>  0.00</td><td> 98.30</td><td>105.80</td><td>  7.50</td><td>better</td><td>better</td></tr>\n",
       "\t<tr><td>composer-concerto                   </td><td>5da3e23</td><td>109.55</td><td>109.55</td><td> 0.00</td><td>  0.00</td><td>109.55</td><td>109.55</td><td>  0.00</td><td>better</td><td>same  </td></tr>\n",
       "\t<tr><td>lighthouse-ci                       </td><td>69c14fa</td><td>114.60</td><td>114.60</td><td> 0.00</td><td>  0.00</td><td> 99.20</td><td>114.60</td><td> 15.40</td><td>better</td><td>better</td></tr>\n",
       "\t<tr><td>ui                                  </td><td>1de6835</td><td>127.85</td><td>127.85</td><td> 7.50</td><td>  7.50</td><td>    NA</td><td>120.35</td><td>    NA</td><td>better</td><td>NA    </td></tr>\n",
       "\t<tr><td>release-it                          </td><td>0ae3e3c</td><td>132.85</td><td>132.85</td><td>48.10</td><td>  3.70</td><td>132.85</td><td>129.15</td><td>  0.00</td><td>better</td><td>same  </td></tr>\n",
       "\t<tr><td>apidoc                              </td><td>0b5d254</td><td>133.15</td><td>133.15</td><td> 0.00</td><td>  0.00</td><td>133.15</td><td>133.15</td><td>  0.00</td><td>better</td><td>same  </td></tr>\n",
       "\t<tr><td>gulp-typedoc                        </td><td>039d47b</td><td>145.40</td><td>145.40</td><td> 0.00</td><td>  0.00</td><td>140.10</td><td>145.40</td><td>  5.30</td><td>better</td><td>better</td></tr>\n",
       "\t<tr><td>storyboard                          </td><td>3c0fa91</td><td>148.35</td><td>148.35</td><td> 0.00</td><td>  0.00</td><td>132.35</td><td>148.35</td><td> 16.00</td><td>better</td><td>better</td></tr>\n",
       "\t<tr><td>lupa                                </td><td>2f2c629</td><td>414.65</td><td>414.65</td><td> 0.00</td><td>263.05</td><td>263.05</td><td>151.60</td><td>151.60</td><td>better</td><td>better</td></tr>\n",
       "\t<tr><td>lockit-sql-adapter                  </td><td>b3171b3</td><td>162.60</td><td>162.60</td><td> 0.00</td><td>  0.00</td><td>    NA</td><td>162.60</td><td>    NA</td><td>better</td><td>NA    </td></tr>\n",
       "\t<tr><td>grant                               </td><td>762badb</td><td>259.60</td><td>259.60</td><td>94.30</td><td> 81.35</td><td>204.25</td><td>178.25</td><td> 55.35</td><td>better</td><td>better</td></tr>\n",
       "\t<tr><td>dgeni-packages                      </td><td>3c75243</td><td>201.90</td><td>201.90</td><td> 7.50</td><td>  7.50</td><td>185.70</td><td>194.40</td><td> 16.20</td><td>better</td><td>better</td></tr>\n",
       "\t<tr><td>node-db-migrate                     </td><td>0354de8</td><td>434.85</td><td>434.85</td><td> 0.00</td><td>  0.00</td><td>    NA</td><td>434.85</td><td>    NA</td><td>better</td><td>NA    </td></tr>\n",
       "</tbody>\n",
       "</table>\n"
      ],
      "text/latex": [
       "A tibble: 237 × 11\n",
       "\\begin{tabular}{lllllllllll}\n",
       " name & commit & CVE.vanilla & CVE.audit fix & CVE.audit fix force & CVE.maxnpm\\_cve\\_oldness & CVE.maxnpm\\_cve\\_oldness\\_pip\\_else\\_npm & CVEDiff & CVEPIPDiff & CVEChangeCat & CVEPIPChangeCat\\\\\n",
       " <chr> & <chr> & <dbl> & <dbl> & <dbl> & <dbl> & <dbl> & <dbl> & <dbl> & <chr> & <chr>\\\\\n",
       "\\hline\n",
       "\t node-exif                    & 7dbb55f &   2.00 &   2.00 & 0 &   0.00 &   2.00 & 2.0 & 0.0 & better & same  \\\\\n",
       "\t node-rest-client             & 082c3ff &   2.00 &   2.00 & 0 &   0.00 &   2.00 & 2.0 & 0.0 & better & same  \\\\\n",
       "\t remit                        & 03acca6 &   2.00 &   2.00 & 0 &   0.00 &   2.00 & 2.0 & 0.0 & better & same  \\\\\n",
       "\t gm                           & 2fb65ba &   2.00 &   2.00 & 0 &   0.00 &   2.00 & 2.0 & 0.0 & better & same  \\\\\n",
       "\t socket.io-parser             & 009188f &   2.00 &   2.00 & 0 &   0.00 &   2.00 & 2.0 & 0.0 & better & same  \\\\\n",
       "\t js-html                      & 02fcbe3 &   2.00 &   2.00 & 0 &   0.00 &   2.00 & 2.0 & 0.0 & better & same  \\\\\n",
       "\t loopback4-authentication     & 07363de &   4.80 &   4.80 & 0 &   0.00 &   4.80 & 4.8 & 0.0 & better & same  \\\\\n",
       "\t postcss-modules-resolve-path & 9436aba &   5.30 &   5.30 & 0 &   0.00 &   5.30 & 5.3 & 0.0 & better & same  \\\\\n",
       "\t postcss-responsive-type      & 7cde196 &   5.30 &   5.30 & 0 &   0.00 &   5.30 & 5.3 & 0.0 & better & same  \\\\\n",
       "\t postcss-scopify              & 09949fc &   5.30 &   5.30 & 0 &   0.00 &   5.30 & 5.3 & 0.0 & better & same  \\\\\n",
       "\t postcss-lh                   & 0d1c1d2 &   5.30 &   5.30 & 0 &   0.00 &   5.30 & 5.3 & 0.0 & better & same  \\\\\n",
       "\t lesshint                     & 0d38e62 &   5.30 &   5.30 & 0 &   0.00 &   5.30 & 5.3 & 0.0 & better & same  \\\\\n",
       "\t authy-client                 & 0a0f7a9 &   5.30 &   5.30 & 0 &   0.00 &   5.30 & 5.3 & 0.0 & better & same  \\\\\n",
       "\t quantlab                     & 1169cfe & 108.85 & 108.85 & 0 & 103.55 & 103.55 & 5.3 & 5.3 & better & better\\\\\n",
       "\t postcss-inline-comment       & 147e77b &   5.30 &   5.30 & 0 &   0.00 &   5.30 & 5.3 & 0.0 & better & same  \\\\\n",
       "\t npm-package-arg              & 1dc802d &   5.30 &   5.30 & 0 &   0.00 &   5.30 & 5.3 & 0.0 & better & same  \\\\\n",
       "\t postcss-position             & 1d5cdc9 &   5.30 &   5.30 & 0 &   0.00 &   5.30 & 5.3 & 0.0 & better & same  \\\\\n",
       "\t postcss-gradientfixer        & 559f638 &   5.30 &   5.30 & 0 &   0.00 &   5.30 & 5.3 & 0.0 & better & same  \\\\\n",
       "\t css-node-extract             & 1afc251 &   5.30 &   5.30 & 0 &   0.00 &   5.30 & 5.3 & 0.0 & better & same  \\\\\n",
       "\t postcss-flexboxfixer         & 40711d2 &   5.30 &   5.30 & 0 &   0.00 &   5.30 & 5.3 & 0.0 & better & same  \\\\\n",
       "\t css-diff                     & 379147a &   5.30 &   5.30 & 0 &   0.00 &   5.30 & 5.3 & 0.0 & better & same  \\\\\n",
       "\t node-cli-base                & a9e05c9 &   5.30 &   5.30 & 0 &   0.00 &   5.30 & 5.3 & 0.0 & better & same  \\\\\n",
       "\t postcss-colors-only          & 2d77d5d &   5.30 &   5.30 & 0 &   0.00 &   5.30 & 5.3 & 0.0 & better & same  \\\\\n",
       "\t postcss-input-style          & 24d86ef &   5.30 &   5.30 & 0 &   0.00 &   5.30 & 5.3 & 0.0 & better & same  \\\\\n",
       "\t postcss-opacity              & 3dae717 &   5.30 &   5.30 & 0 &   0.00 &   5.30 & 5.3 & 0.0 & better & same  \\\\\n",
       "\t jest-ratchet                 & 4afc61c &   5.30 &   5.30 & 0 &   0.00 &   5.30 & 5.3 & 0.0 & better & same  \\\\\n",
       "\t saladcss-bem                 & 280fcc4 &   5.30 &   5.30 & 0 &   0.00 &   5.30 & 5.3 & 0.0 & better & same  \\\\\n",
       "\t less-plugin-autoprefix       & 0004d46 &   5.30 &   5.30 & 0 &   0.00 &   5.30 & 5.3 & 0.0 & better & same  \\\\\n",
       "\t postcss-extend               & 985cbae &   5.30 &   5.30 & 0 &   0.00 &   5.30 & 5.3 & 0.0 & better & same  \\\\\n",
       "\t bocha                        & 0789c01 &   5.30 &   5.30 & 0 &   0.00 &   5.30 & 5.3 & 0.0 & better & same  \\\\\n",
       "\t ⋮ & ⋮ & ⋮ & ⋮ & ⋮ & ⋮ & ⋮ & ⋮ & ⋮ & ⋮ & ⋮\\\\\n",
       "\t moleculer-web                        & 0ef0e5c &  61.80 &  61.80 &  2.00 &   0.00 &  61.80 &  61.80 &   0.00 & better & same  \\\\\n",
       "\t conventional-changelog               & 4c7ec38 &  67.30 &  67.30 & 22.90 &   0.00 &  44.40 &  67.30 &  22.90 & better & better\\\\\n",
       "\t commitlint                           & 05c1f61 &  69.00 &  69.00 &  0.00 &   0.00 &  61.70 &  69.00 &   7.30 & better & better\\\\\n",
       "\t jupyterlab-cognos-dashboard-embedded & 2ef647f &  69.70 &  69.70 &  0.00 &   0.00 &  69.70 &  69.70 &   0.00 & better & same  \\\\\n",
       "\t cabbie                               & 3b9a4b7 &  83.00 &  83.00 & 12.55 &  12.55 &  83.00 &  70.45 &   0.00 & better & same  \\\\\n",
       "\t github-stream                        & 9d47643 &  71.00 &  71.00 &  0.00 &   0.00 &  71.00 &  71.00 &   0.00 & better & same  \\\\\n",
       "\t tar-pack                             & 217ed0b &  73.00 &  73.00 &  0.00 &   0.00 &  73.00 &  73.00 &   0.00 & better & same  \\\\\n",
       "\t bodiless-js                          & 03d52f9 &  83.90 &  83.90 & 10.40 &  10.40 &  83.90 &  73.50 &   0.00 & better & same  \\\\\n",
       "\t node-wpapi                           & 69d18fb &  74.30 &  74.30 &  0.00 &   0.00 &  64.80 &  74.30 &   9.50 & better & better\\\\\n",
       "\t node-convict                         & 2bdfa24 &  80.10 &  80.10 &  0.00 &   0.00 &  80.10 &  80.10 &   0.00 & better & same  \\\\\n",
       "\t react-native-code-push               & 02d8677 &  83.10 &  83.10 &  0.00 &   0.00 &  83.10 &  83.10 &   0.00 & better & same  \\\\\n",
       "\t postman-request                      & 03d903b &  86.25 &  86.25 &  0.00 &   0.00 &  86.25 &  86.25 &   0.00 & better & same  \\\\\n",
       "\t node-soap                            & 2a44d2a &  96.05 &  96.05 &  9.80 &   9.80 &  96.05 &  86.25 &   0.00 & better & same  \\\\\n",
       "\t strong-soap                          & 2e557dd &  96.05 &  96.05 &  9.80 &   9.80 &  96.05 &  86.25 &   0.00 & better & same  \\\\\n",
       "\t passport-saml                        & 050ed13 &  94.70 &  94.70 &  6.50 &   6.50 &  86.20 &  88.20 &   8.50 & better & better\\\\\n",
       "\t zombie                               & 004ae36 &  89.55 &  89.55 &  0.00 &   0.00 &  89.55 &  89.55 &   0.00 & better & same  \\\\\n",
       "\t eyeglass                             & 36f32eb & 111.60 & 111.60 &  7.50 &   7.50 &     NA & 104.10 &     NA & better & NA    \\\\\n",
       "\t inline-critical                      & 0668d89 & 105.80 & 105.80 &  7.50 &   0.00 &  98.30 & 105.80 &   7.50 & better & better\\\\\n",
       "\t composer-concerto                    & 5da3e23 & 109.55 & 109.55 &  0.00 &   0.00 & 109.55 & 109.55 &   0.00 & better & same  \\\\\n",
       "\t lighthouse-ci                        & 69c14fa & 114.60 & 114.60 &  0.00 &   0.00 &  99.20 & 114.60 &  15.40 & better & better\\\\\n",
       "\t ui                                   & 1de6835 & 127.85 & 127.85 &  7.50 &   7.50 &     NA & 120.35 &     NA & better & NA    \\\\\n",
       "\t release-it                           & 0ae3e3c & 132.85 & 132.85 & 48.10 &   3.70 & 132.85 & 129.15 &   0.00 & better & same  \\\\\n",
       "\t apidoc                               & 0b5d254 & 133.15 & 133.15 &  0.00 &   0.00 & 133.15 & 133.15 &   0.00 & better & same  \\\\\n",
       "\t gulp-typedoc                         & 039d47b & 145.40 & 145.40 &  0.00 &   0.00 & 140.10 & 145.40 &   5.30 & better & better\\\\\n",
       "\t storyboard                           & 3c0fa91 & 148.35 & 148.35 &  0.00 &   0.00 & 132.35 & 148.35 &  16.00 & better & better\\\\\n",
       "\t lupa                                 & 2f2c629 & 414.65 & 414.65 &  0.00 & 263.05 & 263.05 & 151.60 & 151.60 & better & better\\\\\n",
       "\t lockit-sql-adapter                   & b3171b3 & 162.60 & 162.60 &  0.00 &   0.00 &     NA & 162.60 &     NA & better & NA    \\\\\n",
       "\t grant                                & 762badb & 259.60 & 259.60 & 94.30 &  81.35 & 204.25 & 178.25 &  55.35 & better & better\\\\\n",
       "\t dgeni-packages                       & 3c75243 & 201.90 & 201.90 &  7.50 &   7.50 & 185.70 & 194.40 &  16.20 & better & better\\\\\n",
       "\t node-db-migrate                      & 0354de8 & 434.85 & 434.85 &  0.00 &   0.00 &     NA & 434.85 &     NA & better & NA    \\\\\n",
       "\\end{tabular}\n"
      ],
      "text/markdown": [
       "\n",
       "A tibble: 237 × 11\n",
       "\n",
       "| name &lt;chr&gt; | commit &lt;chr&gt; | CVE.vanilla &lt;dbl&gt; | CVE.audit fix &lt;dbl&gt; | CVE.audit fix force &lt;dbl&gt; | CVE.maxnpm_cve_oldness &lt;dbl&gt; | CVE.maxnpm_cve_oldness_pip_else_npm &lt;dbl&gt; | CVEDiff &lt;dbl&gt; | CVEPIPDiff &lt;dbl&gt; | CVEChangeCat &lt;chr&gt; | CVEPIPChangeCat &lt;chr&gt; |\n",
       "|---|---|---|---|---|---|---|---|---|---|---|\n",
       "| node-exif                    | 7dbb55f |   2.00 |   2.00 | 0 |   0.00 |   2.00 | 2.0 | 0.0 | better | same   |\n",
       "| node-rest-client             | 082c3ff |   2.00 |   2.00 | 0 |   0.00 |   2.00 | 2.0 | 0.0 | better | same   |\n",
       "| remit                        | 03acca6 |   2.00 |   2.00 | 0 |   0.00 |   2.00 | 2.0 | 0.0 | better | same   |\n",
       "| gm                           | 2fb65ba |   2.00 |   2.00 | 0 |   0.00 |   2.00 | 2.0 | 0.0 | better | same   |\n",
       "| socket.io-parser             | 009188f |   2.00 |   2.00 | 0 |   0.00 |   2.00 | 2.0 | 0.0 | better | same   |\n",
       "| js-html                      | 02fcbe3 |   2.00 |   2.00 | 0 |   0.00 |   2.00 | 2.0 | 0.0 | better | same   |\n",
       "| loopback4-authentication     | 07363de |   4.80 |   4.80 | 0 |   0.00 |   4.80 | 4.8 | 0.0 | better | same   |\n",
       "| postcss-modules-resolve-path | 9436aba |   5.30 |   5.30 | 0 |   0.00 |   5.30 | 5.3 | 0.0 | better | same   |\n",
       "| postcss-responsive-type      | 7cde196 |   5.30 |   5.30 | 0 |   0.00 |   5.30 | 5.3 | 0.0 | better | same   |\n",
       "| postcss-scopify              | 09949fc |   5.30 |   5.30 | 0 |   0.00 |   5.30 | 5.3 | 0.0 | better | same   |\n",
       "| postcss-lh                   | 0d1c1d2 |   5.30 |   5.30 | 0 |   0.00 |   5.30 | 5.3 | 0.0 | better | same   |\n",
       "| lesshint                     | 0d38e62 |   5.30 |   5.30 | 0 |   0.00 |   5.30 | 5.3 | 0.0 | better | same   |\n",
       "| authy-client                 | 0a0f7a9 |   5.30 |   5.30 | 0 |   0.00 |   5.30 | 5.3 | 0.0 | better | same   |\n",
       "| quantlab                     | 1169cfe | 108.85 | 108.85 | 0 | 103.55 | 103.55 | 5.3 | 5.3 | better | better |\n",
       "| postcss-inline-comment       | 147e77b |   5.30 |   5.30 | 0 |   0.00 |   5.30 | 5.3 | 0.0 | better | same   |\n",
       "| npm-package-arg              | 1dc802d |   5.30 |   5.30 | 0 |   0.00 |   5.30 | 5.3 | 0.0 | better | same   |\n",
       "| postcss-position             | 1d5cdc9 |   5.30 |   5.30 | 0 |   0.00 |   5.30 | 5.3 | 0.0 | better | same   |\n",
       "| postcss-gradientfixer        | 559f638 |   5.30 |   5.30 | 0 |   0.00 |   5.30 | 5.3 | 0.0 | better | same   |\n",
       "| css-node-extract             | 1afc251 |   5.30 |   5.30 | 0 |   0.00 |   5.30 | 5.3 | 0.0 | better | same   |\n",
       "| postcss-flexboxfixer         | 40711d2 |   5.30 |   5.30 | 0 |   0.00 |   5.30 | 5.3 | 0.0 | better | same   |\n",
       "| css-diff                     | 379147a |   5.30 |   5.30 | 0 |   0.00 |   5.30 | 5.3 | 0.0 | better | same   |\n",
       "| node-cli-base                | a9e05c9 |   5.30 |   5.30 | 0 |   0.00 |   5.30 | 5.3 | 0.0 | better | same   |\n",
       "| postcss-colors-only          | 2d77d5d |   5.30 |   5.30 | 0 |   0.00 |   5.30 | 5.3 | 0.0 | better | same   |\n",
       "| postcss-input-style          | 24d86ef |   5.30 |   5.30 | 0 |   0.00 |   5.30 | 5.3 | 0.0 | better | same   |\n",
       "| postcss-opacity              | 3dae717 |   5.30 |   5.30 | 0 |   0.00 |   5.30 | 5.3 | 0.0 | better | same   |\n",
       "| jest-ratchet                 | 4afc61c |   5.30 |   5.30 | 0 |   0.00 |   5.30 | 5.3 | 0.0 | better | same   |\n",
       "| saladcss-bem                 | 280fcc4 |   5.30 |   5.30 | 0 |   0.00 |   5.30 | 5.3 | 0.0 | better | same   |\n",
       "| less-plugin-autoprefix       | 0004d46 |   5.30 |   5.30 | 0 |   0.00 |   5.30 | 5.3 | 0.0 | better | same   |\n",
       "| postcss-extend               | 985cbae |   5.30 |   5.30 | 0 |   0.00 |   5.30 | 5.3 | 0.0 | better | same   |\n",
       "| bocha                        | 0789c01 |   5.30 |   5.30 | 0 |   0.00 |   5.30 | 5.3 | 0.0 | better | same   |\n",
       "| ⋮ | ⋮ | ⋮ | ⋮ | ⋮ | ⋮ | ⋮ | ⋮ | ⋮ | ⋮ | ⋮ |\n",
       "| moleculer-web                        | 0ef0e5c |  61.80 |  61.80 |  2.00 |   0.00 |  61.80 |  61.80 |   0.00 | better | same   |\n",
       "| conventional-changelog               | 4c7ec38 |  67.30 |  67.30 | 22.90 |   0.00 |  44.40 |  67.30 |  22.90 | better | better |\n",
       "| commitlint                           | 05c1f61 |  69.00 |  69.00 |  0.00 |   0.00 |  61.70 |  69.00 |   7.30 | better | better |\n",
       "| jupyterlab-cognos-dashboard-embedded | 2ef647f |  69.70 |  69.70 |  0.00 |   0.00 |  69.70 |  69.70 |   0.00 | better | same   |\n",
       "| cabbie                               | 3b9a4b7 |  83.00 |  83.00 | 12.55 |  12.55 |  83.00 |  70.45 |   0.00 | better | same   |\n",
       "| github-stream                        | 9d47643 |  71.00 |  71.00 |  0.00 |   0.00 |  71.00 |  71.00 |   0.00 | better | same   |\n",
       "| tar-pack                             | 217ed0b |  73.00 |  73.00 |  0.00 |   0.00 |  73.00 |  73.00 |   0.00 | better | same   |\n",
       "| bodiless-js                          | 03d52f9 |  83.90 |  83.90 | 10.40 |  10.40 |  83.90 |  73.50 |   0.00 | better | same   |\n",
       "| node-wpapi                           | 69d18fb |  74.30 |  74.30 |  0.00 |   0.00 |  64.80 |  74.30 |   9.50 | better | better |\n",
       "| node-convict                         | 2bdfa24 |  80.10 |  80.10 |  0.00 |   0.00 |  80.10 |  80.10 |   0.00 | better | same   |\n",
       "| react-native-code-push               | 02d8677 |  83.10 |  83.10 |  0.00 |   0.00 |  83.10 |  83.10 |   0.00 | better | same   |\n",
       "| postman-request                      | 03d903b |  86.25 |  86.25 |  0.00 |   0.00 |  86.25 |  86.25 |   0.00 | better | same   |\n",
       "| node-soap                            | 2a44d2a |  96.05 |  96.05 |  9.80 |   9.80 |  96.05 |  86.25 |   0.00 | better | same   |\n",
       "| strong-soap                          | 2e557dd |  96.05 |  96.05 |  9.80 |   9.80 |  96.05 |  86.25 |   0.00 | better | same   |\n",
       "| passport-saml                        | 050ed13 |  94.70 |  94.70 |  6.50 |   6.50 |  86.20 |  88.20 |   8.50 | better | better |\n",
       "| zombie                               | 004ae36 |  89.55 |  89.55 |  0.00 |   0.00 |  89.55 |  89.55 |   0.00 | better | same   |\n",
       "| eyeglass                             | 36f32eb | 111.60 | 111.60 |  7.50 |   7.50 |     NA | 104.10 |     NA | better | NA     |\n",
       "| inline-critical                      | 0668d89 | 105.80 | 105.80 |  7.50 |   0.00 |  98.30 | 105.80 |   7.50 | better | better |\n",
       "| composer-concerto                    | 5da3e23 | 109.55 | 109.55 |  0.00 |   0.00 | 109.55 | 109.55 |   0.00 | better | same   |\n",
       "| lighthouse-ci                        | 69c14fa | 114.60 | 114.60 |  0.00 |   0.00 |  99.20 | 114.60 |  15.40 | better | better |\n",
       "| ui                                   | 1de6835 | 127.85 | 127.85 |  7.50 |   7.50 |     NA | 120.35 |     NA | better | NA     |\n",
       "| release-it                           | 0ae3e3c | 132.85 | 132.85 | 48.10 |   3.70 | 132.85 | 129.15 |   0.00 | better | same   |\n",
       "| apidoc                               | 0b5d254 | 133.15 | 133.15 |  0.00 |   0.00 | 133.15 | 133.15 |   0.00 | better | same   |\n",
       "| gulp-typedoc                         | 039d47b | 145.40 | 145.40 |  0.00 |   0.00 | 140.10 | 145.40 |   5.30 | better | better |\n",
       "| storyboard                           | 3c0fa91 | 148.35 | 148.35 |  0.00 |   0.00 | 132.35 | 148.35 |  16.00 | better | better |\n",
       "| lupa                                 | 2f2c629 | 414.65 | 414.65 |  0.00 | 263.05 | 263.05 | 151.60 | 151.60 | better | better |\n",
       "| lockit-sql-adapter                   | b3171b3 | 162.60 | 162.60 |  0.00 |   0.00 |     NA | 162.60 |     NA | better | NA     |\n",
       "| grant                                | 762badb | 259.60 | 259.60 | 94.30 |  81.35 | 204.25 | 178.25 |  55.35 | better | better |\n",
       "| dgeni-packages                       | 3c75243 | 201.90 | 201.90 |  7.50 |   7.50 | 185.70 | 194.40 |  16.20 | better | better |\n",
       "| node-db-migrate                      | 0354de8 | 434.85 | 434.85 |  0.00 |   0.00 |     NA | 434.85 |     NA | better | NA     |\n",
       "\n"
      ],
      "text/plain": [
       "    name                                 commit  CVE.vanilla CVE.audit fix\n",
       "1   node-exif                            7dbb55f   2.00        2.00       \n",
       "2   node-rest-client                     082c3ff   2.00        2.00       \n",
       "3   remit                                03acca6   2.00        2.00       \n",
       "4   gm                                   2fb65ba   2.00        2.00       \n",
       "5   socket.io-parser                     009188f   2.00        2.00       \n",
       "6   js-html                              02fcbe3   2.00        2.00       \n",
       "7   loopback4-authentication             07363de   4.80        4.80       \n",
       "8   postcss-modules-resolve-path         9436aba   5.30        5.30       \n",
       "9   postcss-responsive-type              7cde196   5.30        5.30       \n",
       "10  postcss-scopify                      09949fc   5.30        5.30       \n",
       "11  postcss-lh                           0d1c1d2   5.30        5.30       \n",
       "12  lesshint                             0d38e62   5.30        5.30       \n",
       "13  authy-client                         0a0f7a9   5.30        5.30       \n",
       "14  quantlab                             1169cfe 108.85      108.85       \n",
       "15  postcss-inline-comment               147e77b   5.30        5.30       \n",
       "16  npm-package-arg                      1dc802d   5.30        5.30       \n",
       "17  postcss-position                     1d5cdc9   5.30        5.30       \n",
       "18  postcss-gradientfixer                559f638   5.30        5.30       \n",
       "19  css-node-extract                     1afc251   5.30        5.30       \n",
       "20  postcss-flexboxfixer                 40711d2   5.30        5.30       \n",
       "21  css-diff                             379147a   5.30        5.30       \n",
       "22  node-cli-base                        a9e05c9   5.30        5.30       \n",
       "23  postcss-colors-only                  2d77d5d   5.30        5.30       \n",
       "24  postcss-input-style                  24d86ef   5.30        5.30       \n",
       "25  postcss-opacity                      3dae717   5.30        5.30       \n",
       "26  jest-ratchet                         4afc61c   5.30        5.30       \n",
       "27  saladcss-bem                         280fcc4   5.30        5.30       \n",
       "28  less-plugin-autoprefix               0004d46   5.30        5.30       \n",
       "29  postcss-extend                       985cbae   5.30        5.30       \n",
       "30  bocha                                0789c01   5.30        5.30       \n",
       "⋮   ⋮                                    ⋮       ⋮           ⋮            \n",
       "208 moleculer-web                        0ef0e5c  61.80       61.80       \n",
       "209 conventional-changelog               4c7ec38  67.30       67.30       \n",
       "210 commitlint                           05c1f61  69.00       69.00       \n",
       "211 jupyterlab-cognos-dashboard-embedded 2ef647f  69.70       69.70       \n",
       "212 cabbie                               3b9a4b7  83.00       83.00       \n",
       "213 github-stream                        9d47643  71.00       71.00       \n",
       "214 tar-pack                             217ed0b  73.00       73.00       \n",
       "215 bodiless-js                          03d52f9  83.90       83.90       \n",
       "216 node-wpapi                           69d18fb  74.30       74.30       \n",
       "217 node-convict                         2bdfa24  80.10       80.10       \n",
       "218 react-native-code-push               02d8677  83.10       83.10       \n",
       "219 postman-request                      03d903b  86.25       86.25       \n",
       "220 node-soap                            2a44d2a  96.05       96.05       \n",
       "221 strong-soap                          2e557dd  96.05       96.05       \n",
       "222 passport-saml                        050ed13  94.70       94.70       \n",
       "223 zombie                               004ae36  89.55       89.55       \n",
       "224 eyeglass                             36f32eb 111.60      111.60       \n",
       "225 inline-critical                      0668d89 105.80      105.80       \n",
       "226 composer-concerto                    5da3e23 109.55      109.55       \n",
       "227 lighthouse-ci                        69c14fa 114.60      114.60       \n",
       "228 ui                                   1de6835 127.85      127.85       \n",
       "229 release-it                           0ae3e3c 132.85      132.85       \n",
       "230 apidoc                               0b5d254 133.15      133.15       \n",
       "231 gulp-typedoc                         039d47b 145.40      145.40       \n",
       "232 storyboard                           3c0fa91 148.35      148.35       \n",
       "233 lupa                                 2f2c629 414.65      414.65       \n",
       "234 lockit-sql-adapter                   b3171b3 162.60      162.60       \n",
       "235 grant                                762badb 259.60      259.60       \n",
       "236 dgeni-packages                       3c75243 201.90      201.90       \n",
       "237 node-db-migrate                      0354de8 434.85      434.85       \n",
       "    CVE.audit fix force CVE.maxnpm_cve_oldness\n",
       "1   0                     0.00                \n",
       "2   0                     0.00                \n",
       "3   0                     0.00                \n",
       "4   0                     0.00                \n",
       "5   0                     0.00                \n",
       "6   0                     0.00                \n",
       "7   0                     0.00                \n",
       "8   0                     0.00                \n",
       "9   0                     0.00                \n",
       "10  0                     0.00                \n",
       "11  0                     0.00                \n",
       "12  0                     0.00                \n",
       "13  0                     0.00                \n",
       "14  0                   103.55                \n",
       "15  0                     0.00                \n",
       "16  0                     0.00                \n",
       "17  0                     0.00                \n",
       "18  0                     0.00                \n",
       "19  0                     0.00                \n",
       "20  0                     0.00                \n",
       "21  0                     0.00                \n",
       "22  0                     0.00                \n",
       "23  0                     0.00                \n",
       "24  0                     0.00                \n",
       "25  0                     0.00                \n",
       "26  0                     0.00                \n",
       "27  0                     0.00                \n",
       "28  0                     0.00                \n",
       "29  0                     0.00                \n",
       "30  0                     0.00                \n",
       "⋮   ⋮                   ⋮                     \n",
       "208  2.00                 0.00                \n",
       "209 22.90                 0.00                \n",
       "210  0.00                 0.00                \n",
       "211  0.00                 0.00                \n",
       "212 12.55                12.55                \n",
       "213  0.00                 0.00                \n",
       "214  0.00                 0.00                \n",
       "215 10.40                10.40                \n",
       "216  0.00                 0.00                \n",
       "217  0.00                 0.00                \n",
       "218  0.00                 0.00                \n",
       "219  0.00                 0.00                \n",
       "220  9.80                 9.80                \n",
       "221  9.80                 9.80                \n",
       "222  6.50                 6.50                \n",
       "223  0.00                 0.00                \n",
       "224  7.50                 7.50                \n",
       "225  7.50                 0.00                \n",
       "226  0.00                 0.00                \n",
       "227  0.00                 0.00                \n",
       "228  7.50                 7.50                \n",
       "229 48.10                 3.70                \n",
       "230  0.00                 0.00                \n",
       "231  0.00                 0.00                \n",
       "232  0.00                 0.00                \n",
       "233  0.00               263.05                \n",
       "234  0.00                 0.00                \n",
       "235 94.30                81.35                \n",
       "236  7.50                 7.50                \n",
       "237  0.00                 0.00                \n",
       "    CVE.maxnpm_cve_oldness_pip_else_npm CVEDiff CVEPIPDiff CVEChangeCat\n",
       "1     2.00                              2.0     0.0        better      \n",
       "2     2.00                              2.0     0.0        better      \n",
       "3     2.00                              2.0     0.0        better      \n",
       "4     2.00                              2.0     0.0        better      \n",
       "5     2.00                              2.0     0.0        better      \n",
       "6     2.00                              2.0     0.0        better      \n",
       "7     4.80                              4.8     0.0        better      \n",
       "8     5.30                              5.3     0.0        better      \n",
       "9     5.30                              5.3     0.0        better      \n",
       "10    5.30                              5.3     0.0        better      \n",
       "11    5.30                              5.3     0.0        better      \n",
       "12    5.30                              5.3     0.0        better      \n",
       "13    5.30                              5.3     0.0        better      \n",
       "14  103.55                              5.3     5.3        better      \n",
       "15    5.30                              5.3     0.0        better      \n",
       "16    5.30                              5.3     0.0        better      \n",
       "17    5.30                              5.3     0.0        better      \n",
       "18    5.30                              5.3     0.0        better      \n",
       "19    5.30                              5.3     0.0        better      \n",
       "20    5.30                              5.3     0.0        better      \n",
       "21    5.30                              5.3     0.0        better      \n",
       "22    5.30                              5.3     0.0        better      \n",
       "23    5.30                              5.3     0.0        better      \n",
       "24    5.30                              5.3     0.0        better      \n",
       "25    5.30                              5.3     0.0        better      \n",
       "26    5.30                              5.3     0.0        better      \n",
       "27    5.30                              5.3     0.0        better      \n",
       "28    5.30                              5.3     0.0        better      \n",
       "29    5.30                              5.3     0.0        better      \n",
       "30    5.30                              5.3     0.0        better      \n",
       "⋮   ⋮                                   ⋮       ⋮          ⋮           \n",
       "208  61.80                               61.80    0.00     better      \n",
       "209  44.40                               67.30   22.90     better      \n",
       "210  61.70                               69.00    7.30     better      \n",
       "211  69.70                               69.70    0.00     better      \n",
       "212  83.00                               70.45    0.00     better      \n",
       "213  71.00                               71.00    0.00     better      \n",
       "214  73.00                               73.00    0.00     better      \n",
       "215  83.90                               73.50    0.00     better      \n",
       "216  64.80                               74.30    9.50     better      \n",
       "217  80.10                               80.10    0.00     better      \n",
       "218  83.10                               83.10    0.00     better      \n",
       "219  86.25                               86.25    0.00     better      \n",
       "220  96.05                               86.25    0.00     better      \n",
       "221  96.05                               86.25    0.00     better      \n",
       "222  86.20                               88.20    8.50     better      \n",
       "223  89.55                               89.55    0.00     better      \n",
       "224     NA                              104.10      NA     better      \n",
       "225  98.30                              105.80    7.50     better      \n",
       "226 109.55                              109.55    0.00     better      \n",
       "227  99.20                              114.60   15.40     better      \n",
       "228     NA                              120.35      NA     better      \n",
       "229 132.85                              129.15    0.00     better      \n",
       "230 133.15                              133.15    0.00     better      \n",
       "231 140.10                              145.40    5.30     better      \n",
       "232 132.35                              148.35   16.00     better      \n",
       "233 263.05                              151.60  151.60     better      \n",
       "234     NA                              162.60      NA     better      \n",
       "235 204.25                              178.25   55.35     better      \n",
       "236 185.70                              194.40   16.20     better      \n",
       "237     NA                              434.85      NA     better      \n",
       "    CVEPIPChangeCat\n",
       "1   same           \n",
       "2   same           \n",
       "3   same           \n",
       "4   same           \n",
       "5   same           \n",
       "6   same           \n",
       "7   same           \n",
       "8   same           \n",
       "9   same           \n",
       "10  same           \n",
       "11  same           \n",
       "12  same           \n",
       "13  same           \n",
       "14  better         \n",
       "15  same           \n",
       "16  same           \n",
       "17  same           \n",
       "18  same           \n",
       "19  same           \n",
       "20  same           \n",
       "21  same           \n",
       "22  same           \n",
       "23  same           \n",
       "24  same           \n",
       "25  same           \n",
       "26  same           \n",
       "27  same           \n",
       "28  same           \n",
       "29  same           \n",
       "30  same           \n",
       "⋮   ⋮              \n",
       "208 same           \n",
       "209 better         \n",
       "210 better         \n",
       "211 same           \n",
       "212 same           \n",
       "213 same           \n",
       "214 same           \n",
       "215 same           \n",
       "216 better         \n",
       "217 same           \n",
       "218 same           \n",
       "219 same           \n",
       "220 same           \n",
       "221 same           \n",
       "222 better         \n",
       "223 same           \n",
       "224 NA             \n",
       "225 better         \n",
       "226 same           \n",
       "227 better         \n",
       "228 NA             \n",
       "229 same           \n",
       "230 same           \n",
       "231 better         \n",
       "232 better         \n",
       "233 better         \n",
       "234 NA             \n",
       "235 better         \n",
       "236 better         \n",
       "237 NA             "
      ]
     },
     "metadata": {},
     "output_type": "display_data"
    }
   ],
   "source": [
    "CVEDiff %>% filter(CVEDiff > 0) %>% arrange(CVEDiff)"
   ]
  },
  {
   "cell_type": "code",
   "execution_count": null,
   "metadata": {
    "vscode": {
     "languageId": "r"
    }
   },
   "outputs": [],
   "source": []
  },
  {
   "cell_type": "code",
   "execution_count": null,
   "metadata": {
    "vscode": {
     "languageId": "r"
    }
   },
   "outputs": [],
   "source": []
  }
 ],
 "metadata": {
  "kernelspec": {
   "display_name": "R",
   "language": "R",
   "name": "ir"
  },
  "language_info": {
   "codemirror_mode": "r",
   "file_extension": ".r",
   "mimetype": "text/x-r-source",
   "name": "R",
   "pygments_lexer": "r",
   "version": "4.2.1"
  },
  "vscode": {
   "interpreter": {
    "hash": "31f2aee4e71d21fbe5cf8b01ff0e069b9275f58929596ceb00d14d90e3e16cd6"
   }
  }
 },
 "nbformat": 4,
 "nbformat_minor": 2
}
