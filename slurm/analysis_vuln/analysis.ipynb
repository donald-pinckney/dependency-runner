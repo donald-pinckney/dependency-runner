{
 "cells": [
  {
   "cell_type": "markdown",
   "metadata": {},
   "source": [
    "# Run from Command Line:\n",
    "\n",
    "```\n",
    "jupyter nbconvert --execute --clear-output analysis_vuln/analysis.ipynb\n",
    "```"
   ]
  },
  {
   "cell_type": "code",
   "execution_count": 6,
   "metadata": {
    "execution": {
     "iopub.execute_input": "2022-09-01T20:11:12.715081Z",
     "iopub.status.busy": "2022-09-01T20:11:12.713170Z",
     "iopub.status.idle": "2022-09-01T20:11:13.208772Z",
     "shell.execute_reply": "2022-09-01T20:11:13.208151Z"
    },
    "vscode": {
     "languageId": "r"
    }
   },
   "outputs": [],
   "source": [
    "library(tidyverse)\n",
    "library(ggplot2)\n",
    "library(lsr)\n",
    "#library(kimisc)"
   ]
  },
  {
   "cell_type": "code",
   "execution_count": 7,
   "metadata": {
    "vscode": {
     "languageId": "r"
    }
   },
   "outputs": [],
   "source": [
    "setwd(\"/mnt/data/donald/pacsolve/slurm/analysis_vuln\")"
   ]
  },
  {
   "cell_type": "code",
   "execution_count": 8,
   "metadata": {
    "execution": {
     "iopub.execute_input": "2022-09-01T20:11:13.223056Z",
     "iopub.status.busy": "2022-09-01T20:11:13.210464Z",
     "iopub.status.idle": "2022-09-01T20:11:13.335295Z",
     "shell.execute_reply": "2022-09-01T20:11:13.334660Z"
    },
    "vscode": {
     "languageId": "r"
    }
   },
   "outputs": [],
   "source": [
    "data_dir <- \"../permanently_saved_results/federico-vuln-exp\"\n",
    "vuln <- read_csv(str_c(data_dir, \"/aug_27_gather.csv\"),\n",
    "        col_types =\"ccfddfc\")\n",
    "results_tex <- str_c(data_dir, \"/results.tex\")\n",
    "plots_dir <- str_c(data_dir, \"/plots\")\n",
    "write(\"% These are results from the R Notebook.\", results_tex, append=FALSE)\n",
    "dir.create(plots_dir, showWarnings = FALSE)\n",
    "vuln <- vuln %>% select(-NDeps,-Status,-Time)"
   ]
  },
  {
   "cell_type": "code",
   "execution_count": 9,
   "metadata": {
    "execution": {
     "iopub.execute_input": "2022-09-01T20:11:13.337673Z",
     "iopub.status.busy": "2022-09-01T20:11:13.337150Z",
     "iopub.status.idle": "2022-09-01T20:11:13.342039Z",
     "shell.execute_reply": "2022-09-01T20:11:13.341470Z"
    },
    "vscode": {
     "languageId": "r"
    }
   },
   "outputs": [],
   "source": [
    "mytheme <- function() {\n",
    "  return(theme_bw() +\n",
    "           theme(\n",
    "             # NOTE: UNCOMMENT WHEN RENDING PLOTS FOR THE PAPER\n",
    "             # (can't get the CM fonts to work in artifact VM...)\n",
    "             text = element_text(family = \"Times\", size=10),\n",
    "              panel.grid.major = element_blank(),\n",
    "             # panel.grid.minor = element_blank(),\n",
    "             # panel.grid.major = element_line(colour=\"gray\", size=0.1),\n",
    "             # panel.grid.minor =\n",
    "             #  element_line(colour=\"gray\", size=0.1, linetype='dotted'),\n",
    "             axis.ticks = element_line(size=0.05),\n",
    "             axis.ticks.length=unit(\"-0.05\", \"in\"),\n",
    "             axis.text.y = element_text(margin = margin(r = 5)),\n",
    "             axis.text.x = element_text(hjust=1),\n",
    "             legend.key = element_rect(colour=NA),\n",
    "             legend.spacing = unit(0.001, \"in\"),\n",
    "             legend.key.size = unit(0.2, \"in\"),\n",
    "             legend.title = element_blank(),\n",
    "             legend.position = c(0.75, .7),\n",
    "             legend.background = element_blank()))\n",
    "}\n",
    "\n",
    "mysave <- function(filename) {\n",
    "  path <- str_c(plots_dir, \"/\", filename)\n",
    "  ggsave(path, width=4, height=3, units=c(\"in\"))\n",
    "  # embed_font(path)\n",
    "}"
   ]
  },
  {
   "cell_type": "code",
   "execution_count": 10,
   "metadata": {
    "execution": {
     "iopub.execute_input": "2022-09-01T20:11:13.344013Z",
     "iopub.status.busy": "2022-09-01T20:11:13.343533Z",
     "iopub.status.idle": "2022-09-01T20:11:13.362251Z",
     "shell.execute_reply": "2022-09-01T20:11:13.361699Z"
    },
    "vscode": {
     "languageId": "r"
    }
   },
   "outputs": [
    {
     "data": {
      "text/html": [
       "<table class=\"dataframe\">\n",
       "<caption>A tibble: 6 × 7</caption>\n",
       "<thead>\n",
       "\t<tr><th scope=col>name</th><th scope=col>commit</th><th scope=col>CVE.vanilla</th><th scope=col>CVE.audit fix</th><th scope=col>CVE.audit fix force</th><th scope=col>CVE.maxnpm_cve_oldness</th><th scope=col>CVE.maxnpm_cve_oldness_pip_else_npm</th></tr>\n",
       "\t<tr><th scope=col>&lt;chr&gt;</th><th scope=col>&lt;chr&gt;</th><th scope=col>&lt;dbl&gt;</th><th scope=col>&lt;dbl&gt;</th><th scope=col>&lt;dbl&gt;</th><th scope=col>&lt;dbl&gt;</th><th scope=col>&lt;dbl&gt;</th></tr>\n",
       "</thead>\n",
       "<tbody>\n",
       "\t<tr><td>generator-react              </td><td>09b724e</td><td>12.80</td><td>12.80</td><td>  0.0</td><td>NA</td><td>   NA</td></tr>\n",
       "\t<tr><td>JsSIP                        </td><td>9cdeaa0</td><td>17.45</td><td>17.45</td><td>  0.0</td><td> 0</td><td>17.45</td></tr>\n",
       "\t<tr><td>umi-plugin-datahub           </td><td>0a4a4f9</td><td>33.10</td><td>33.10</td><td>202.5</td><td>NA</td><td>   NA</td></tr>\n",
       "\t<tr><td>postcss-assets-webpack-plugin</td><td>90b69bb</td><td> 0.00</td><td> 0.00</td><td>  0.0</td><td> 0</td><td> 0.00</td></tr>\n",
       "\t<tr><td>accord                       </td><td>262e693</td><td> 0.00</td><td> 0.00</td><td>  0.0</td><td> 0</td><td> 0.00</td></tr>\n",
       "\t<tr><td>asl-validator                </td><td>88949ae</td><td> 0.00</td><td> 0.00</td><td>  0.0</td><td> 0</td><td> 0.00</td></tr>\n",
       "</tbody>\n",
       "</table>\n"
      ],
      "text/latex": [
       "A tibble: 6 × 7\n",
       "\\begin{tabular}{lllllll}\n",
       " name & commit & CVE.vanilla & CVE.audit fix & CVE.audit fix force & CVE.maxnpm\\_cve\\_oldness & CVE.maxnpm\\_cve\\_oldness\\_pip\\_else\\_npm\\\\\n",
       " <chr> & <chr> & <dbl> & <dbl> & <dbl> & <dbl> & <dbl>\\\\\n",
       "\\hline\n",
       "\t generator-react               & 09b724e & 12.80 & 12.80 &   0.0 & NA &    NA\\\\\n",
       "\t JsSIP                         & 9cdeaa0 & 17.45 & 17.45 &   0.0 &  0 & 17.45\\\\\n",
       "\t umi-plugin-datahub            & 0a4a4f9 & 33.10 & 33.10 & 202.5 & NA &    NA\\\\\n",
       "\t postcss-assets-webpack-plugin & 90b69bb &  0.00 &  0.00 &   0.0 &  0 &  0.00\\\\\n",
       "\t accord                        & 262e693 &  0.00 &  0.00 &   0.0 &  0 &  0.00\\\\\n",
       "\t asl-validator                 & 88949ae &  0.00 &  0.00 &   0.0 &  0 &  0.00\\\\\n",
       "\\end{tabular}\n"
      ],
      "text/markdown": [
       "\n",
       "A tibble: 6 × 7\n",
       "\n",
       "| name &lt;chr&gt; | commit &lt;chr&gt; | CVE.vanilla &lt;dbl&gt; | CVE.audit fix &lt;dbl&gt; | CVE.audit fix force &lt;dbl&gt; | CVE.maxnpm_cve_oldness &lt;dbl&gt; | CVE.maxnpm_cve_oldness_pip_else_npm &lt;dbl&gt; |\n",
       "|---|---|---|---|---|---|---|\n",
       "| generator-react               | 09b724e | 12.80 | 12.80 |   0.0 | NA |    NA |\n",
       "| JsSIP                         | 9cdeaa0 | 17.45 | 17.45 |   0.0 |  0 | 17.45 |\n",
       "| umi-plugin-datahub            | 0a4a4f9 | 33.10 | 33.10 | 202.5 | NA |    NA |\n",
       "| postcss-assets-webpack-plugin | 90b69bb |  0.00 |  0.00 |   0.0 |  0 |  0.00 |\n",
       "| accord                        | 262e693 |  0.00 |  0.00 |   0.0 |  0 |  0.00 |\n",
       "| asl-validator                 | 88949ae |  0.00 |  0.00 |   0.0 |  0 |  0.00 |\n",
       "\n"
      ],
      "text/plain": [
       "  name                          commit  CVE.vanilla CVE.audit fix\n",
       "1 generator-react               09b724e 12.80       12.80        \n",
       "2 JsSIP                         9cdeaa0 17.45       17.45        \n",
       "3 umi-plugin-datahub            0a4a4f9 33.10       33.10        \n",
       "4 postcss-assets-webpack-plugin 90b69bb  0.00        0.00        \n",
       "5 accord                        262e693  0.00        0.00        \n",
       "6 asl-validator                 88949ae  0.00        0.00        \n",
       "  CVE.audit fix force CVE.maxnpm_cve_oldness\n",
       "1   0.0               NA                    \n",
       "2   0.0                0                    \n",
       "3 202.5               NA                    \n",
       "4   0.0                0                    \n",
       "5   0.0                0                    \n",
       "6   0.0                0                    \n",
       "  CVE.maxnpm_cve_oldness_pip_else_npm\n",
       "1    NA                              \n",
       "2 17.45                              \n",
       "3    NA                              \n",
       "4  0.00                              \n",
       "5  0.00                              \n",
       "6  0.00                              "
      ]
     },
     "metadata": {},
     "output_type": "display_data"
    },
    {
     "data": {
      "text/html": [
       "715"
      ],
      "text/latex": [
       "715"
      ],
      "text/markdown": [
       "715"
      ],
      "text/plain": [
       "[1] 715"
      ]
     },
     "metadata": {},
     "output_type": "display_data"
    }
   ],
   "source": [
    "# What does it mean when status is \"missing\" - and should we only include those that have no missing?\n",
    "# There are 225/1000 project-versions that have non-NA results: what is missing there?\n",
    "vulnByProject <- vuln %>%\n",
    "    # replace_na(list(CVE=-1)) %>%\n",
    "    pivot_wider(names_from=solver, values_from=CVE, names_prefix=\"CVE.\") #%>%\n",
    "    # group_by(name,commit) %>%\n",
    "    # summarise(across(starts_with(\"CVE.\"), ~sum(.x,na.rm=TRUE))) %>% ungroup()\n",
    "head(vulnByProject)\n",
    "nrow(vulnByProject)"
   ]
  },
  {
   "cell_type": "markdown",
   "metadata": {},
   "source": [
    "## How many times did MaxNPM come to a different CVE score than NPM audit fix?"
   ]
  },
  {
   "cell_type": "code",
   "execution_count": 11,
   "metadata": {
    "execution": {
     "iopub.execute_input": "2022-09-01T20:11:13.364454Z",
     "iopub.status.busy": "2022-09-01T20:11:13.363981Z",
     "iopub.status.idle": "2022-09-01T20:11:13.367710Z",
     "shell.execute_reply": "2022-09-01T20:11:13.367157Z"
    },
    "vscode": {
     "languageId": "r"
    }
   },
   "outputs": [],
   "source": [
    "# breaks <- c(0, 1, 10, 25, 50, 100, 1000)\n",
    "# bucketedVuln <- vulnByProject %>%\n",
    "#     filter(`CVE.audit fix` >= 0 & `CVE.audit fix force`>=0 & `CVE.maxnpm_cve_oldness`>=0) %>%\n",
    "#     mutate(across(starts_with('CVE'), ~cut_format(.x, breaks=breaks))) %>% # Bucket all CVE columns\n",
    "#     mutate_if(is.factor, as.character) %>%  # Default is these are factors, make them char so easier to handle\n",
    "#     mutate(across(starts_with('CVE'), ~replace(.,is.na(.), '0'))) %>% # If it was NA, it was because it was outside of the range, aka == 0\n",
    "#     group_by(`CVE.audit fix`,`CVE.maxnpm_cve_oldness`) %>% summarise(count=n()) %>%\n",
    "#     # Sum the count for CVE audit fix and add a row for that called 'total'\n",
    "#     bind_rows(group_by(.,`CVE.audit fix`) %>%\n",
    "#         summarise(count=sum(count)) %>%\n",
    "#         mutate(`CVE.maxnpm_cve_oldness`='Total')) %>%\n",
    "#     bind_rows(group_by(.,`CVE.maxnpm_cve_oldness`) %>%\n",
    "#         summarise(count=sum(count)) %>%\n",
    "#         mutate(`CVE.audit fix`='Total'))\n",
    "\n",
    "# # Create a matrix where the columns are for audit fix, rows are for MaxNPM\n",
    "# bucketedVuln %>%\n",
    "#     pivot_wider(names_from=`CVE.audit fix`, values_from=count) %>%\n",
    "#     relocate(`0`, .before=`(   1,   10]`) %>%\n",
    "#     mutate_if(is.numeric,~replace(.,is.na(.), 0)) %>%\n",
    "#     arrange(CVE.maxnpm_cve_oldness) #%>%\n",
    "#         # kable(\"html\", booktabs=TRUE, linesep=\"\", digits=0, escape=FALSE, format.args = list(big.mark = \",\",\n",
    "#         #   scientific = FALSE)) %>% as.character() %>% display_html()"
   ]
  },
  {
   "cell_type": "code",
   "execution_count": 12,
   "metadata": {
    "execution": {
     "iopub.execute_input": "2022-09-01T20:11:13.369611Z",
     "iopub.status.busy": "2022-09-01T20:11:13.369085Z",
     "iopub.status.idle": "2022-09-01T20:11:13.389369Z",
     "shell.execute_reply": "2022-09-01T20:11:13.388874Z"
    },
    "vscode": {
     "languageId": "r"
    }
   },
   "outputs": [
    {
     "data": {
      "text/html": [
       "<table class=\"dataframe\">\n",
       "<caption>A tibble: 1 × 7</caption>\n",
       "<thead>\n",
       "\t<tr><th scope=col>name</th><th scope=col>commit</th><th scope=col>CVE.vanilla</th><th scope=col>CVE.audit fix</th><th scope=col>CVE.audit fix force</th><th scope=col>CVE.maxnpm_cve_oldness</th><th scope=col>CVE.maxnpm_cve_oldness_pip_else_npm</th></tr>\n",
       "\t<tr><th scope=col>&lt;chr&gt;</th><th scope=col>&lt;chr&gt;</th><th scope=col>&lt;dbl&gt;</th><th scope=col>&lt;dbl&gt;</th><th scope=col>&lt;dbl&gt;</th><th scope=col>&lt;dbl&gt;</th><th scope=col>&lt;dbl&gt;</th></tr>\n",
       "</thead>\n",
       "<tbody>\n",
       "\t<tr><td>spreadable</td><td>0803fae</td><td>28.5</td><td>28.5</td><td>13.1</td><td>94.8</td><td>110.2</td></tr>\n",
       "</tbody>\n",
       "</table>\n"
      ],
      "text/latex": [
       "A tibble: 1 × 7\n",
       "\\begin{tabular}{lllllll}\n",
       " name & commit & CVE.vanilla & CVE.audit fix & CVE.audit fix force & CVE.maxnpm\\_cve\\_oldness & CVE.maxnpm\\_cve\\_oldness\\_pip\\_else\\_npm\\\\\n",
       " <chr> & <chr> & <dbl> & <dbl> & <dbl> & <dbl> & <dbl>\\\\\n",
       "\\hline\n",
       "\t spreadable & 0803fae & 28.5 & 28.5 & 13.1 & 94.8 & 110.2\\\\\n",
       "\\end{tabular}\n"
      ],
      "text/markdown": [
       "\n",
       "A tibble: 1 × 7\n",
       "\n",
       "| name &lt;chr&gt; | commit &lt;chr&gt; | CVE.vanilla &lt;dbl&gt; | CVE.audit fix &lt;dbl&gt; | CVE.audit fix force &lt;dbl&gt; | CVE.maxnpm_cve_oldness &lt;dbl&gt; | CVE.maxnpm_cve_oldness_pip_else_npm &lt;dbl&gt; |\n",
       "|---|---|---|---|---|---|---|\n",
       "| spreadable | 0803fae | 28.5 | 28.5 | 13.1 | 94.8 | 110.2 |\n",
       "\n"
      ],
      "text/plain": [
       "  name       commit  CVE.vanilla CVE.audit fix CVE.audit fix force\n",
       "1 spreadable 0803fae 28.5        28.5          13.1               \n",
       "  CVE.maxnpm_cve_oldness CVE.maxnpm_cve_oldness_pip_else_npm\n",
       "1 94.8                   110.2                              "
      ]
     },
     "metadata": {},
     "output_type": "display_data"
    }
   ],
   "source": [
    "vulnByProject %>% filter(name == 'spreadable')"
   ]
  },
  {
   "cell_type": "markdown",
   "metadata": {},
   "source": [
    "## When MaxNPM outperformed NPM Audit, how much better was it?\n",
    "\n",
    "Negative numbers are *better* because they are a decrease in badness."
   ]
  },
  {
   "cell_type": "code",
   "execution_count": 13,
   "metadata": {
    "execution": {
     "iopub.execute_input": "2022-09-01T20:11:13.391294Z",
     "iopub.status.busy": "2022-09-01T20:11:13.390908Z",
     "iopub.status.idle": "2022-09-01T20:11:13.394418Z",
     "shell.execute_reply": "2022-09-01T20:11:13.393918Z"
    },
    "vscode": {
     "languageId": "r"
    }
   },
   "outputs": [],
   "source": [
    "change_cat <- function(x) {\n",
    "    ifelse(is.na(x), NA, ifelse(x == 0, \"same\", ifelse(x > 0, \"better\", \"worse\")))\n",
    "}"
   ]
  },
  {
   "cell_type": "code",
   "execution_count": 14,
   "metadata": {
    "execution": {
     "iopub.execute_input": "2022-09-01T20:11:13.396184Z",
     "iopub.status.busy": "2022-09-01T20:11:13.395803Z",
     "iopub.status.idle": "2022-09-01T20:11:13.405822Z",
     "shell.execute_reply": "2022-09-01T20:11:13.405296Z"
    },
    "vscode": {
     "languageId": "r"
    }
   },
   "outputs": [],
   "source": [
    "CVEDiff <- vulnByProject %>%\n",
    "    mutate(CVEDiff=`CVE.audit fix` - `CVE.maxnpm_cve_oldness`, CVEPIPDiff=`CVE.audit fix` - `CVE.maxnpm_cve_oldness_pip_else_npm`) %>%\n",
    "    mutate(CVEDiff=round(CVEDiff, 6)) %>%\n",
    "    mutate(CVEPIPDiff=round(CVEPIPDiff, 6)) %>%\n",
    "    mutate(CVEChangeCat=change_cat(CVEDiff)) %>%\n",
    "    mutate(CVEPIPChangeCat=change_cat(CVEPIPDiff))"
   ]
  },
  {
   "cell_type": "code",
   "execution_count": 15,
   "metadata": {
    "execution": {
     "iopub.execute_input": "2022-09-01T20:11:13.407880Z",
     "iopub.status.busy": "2022-09-01T20:11:13.407426Z",
     "iopub.status.idle": "2022-09-01T20:11:13.414800Z",
     "shell.execute_reply": "2022-09-01T20:11:13.414320Z"
    },
    "vscode": {
     "languageId": "r"
    }
   },
   "outputs": [
    {
     "data": {
      "text/html": [
       "<table class=\"dataframe\">\n",
       "<caption>A tibble: 6 × 11</caption>\n",
       "<thead>\n",
       "\t<tr><th scope=col>name</th><th scope=col>commit</th><th scope=col>CVE.vanilla</th><th scope=col>CVE.audit fix</th><th scope=col>CVE.audit fix force</th><th scope=col>CVE.maxnpm_cve_oldness</th><th scope=col>CVE.maxnpm_cve_oldness_pip_else_npm</th><th scope=col>CVEDiff</th><th scope=col>CVEPIPDiff</th><th scope=col>CVEChangeCat</th><th scope=col>CVEPIPChangeCat</th></tr>\n",
       "\t<tr><th scope=col>&lt;chr&gt;</th><th scope=col>&lt;chr&gt;</th><th scope=col>&lt;dbl&gt;</th><th scope=col>&lt;dbl&gt;</th><th scope=col>&lt;dbl&gt;</th><th scope=col>&lt;dbl&gt;</th><th scope=col>&lt;dbl&gt;</th><th scope=col>&lt;dbl&gt;</th><th scope=col>&lt;dbl&gt;</th><th scope=col>&lt;chr&gt;</th><th scope=col>&lt;chr&gt;</th></tr>\n",
       "</thead>\n",
       "<tbody>\n",
       "\t<tr><td>generator-react              </td><td>09b724e</td><td>12.80</td><td>12.80</td><td>  0.0</td><td>NA</td><td>   NA</td><td>   NA</td><td>NA</td><td>NA    </td><td>NA  </td></tr>\n",
       "\t<tr><td>JsSIP                        </td><td>9cdeaa0</td><td>17.45</td><td>17.45</td><td>  0.0</td><td> 0</td><td>17.45</td><td>17.45</td><td> 0</td><td>better</td><td>same</td></tr>\n",
       "\t<tr><td>umi-plugin-datahub           </td><td>0a4a4f9</td><td>33.10</td><td>33.10</td><td>202.5</td><td>NA</td><td>   NA</td><td>   NA</td><td>NA</td><td>NA    </td><td>NA  </td></tr>\n",
       "\t<tr><td>postcss-assets-webpack-plugin</td><td>90b69bb</td><td> 0.00</td><td> 0.00</td><td>  0.0</td><td> 0</td><td> 0.00</td><td> 0.00</td><td> 0</td><td>same  </td><td>same</td></tr>\n",
       "\t<tr><td>accord                       </td><td>262e693</td><td> 0.00</td><td> 0.00</td><td>  0.0</td><td> 0</td><td> 0.00</td><td> 0.00</td><td> 0</td><td>same  </td><td>same</td></tr>\n",
       "\t<tr><td>asl-validator                </td><td>88949ae</td><td> 0.00</td><td> 0.00</td><td>  0.0</td><td> 0</td><td> 0.00</td><td> 0.00</td><td> 0</td><td>same  </td><td>same</td></tr>\n",
       "</tbody>\n",
       "</table>\n"
      ],
      "text/latex": [
       "A tibble: 6 × 11\n",
       "\\begin{tabular}{lllllllllll}\n",
       " name & commit & CVE.vanilla & CVE.audit fix & CVE.audit fix force & CVE.maxnpm\\_cve\\_oldness & CVE.maxnpm\\_cve\\_oldness\\_pip\\_else\\_npm & CVEDiff & CVEPIPDiff & CVEChangeCat & CVEPIPChangeCat\\\\\n",
       " <chr> & <chr> & <dbl> & <dbl> & <dbl> & <dbl> & <dbl> & <dbl> & <dbl> & <chr> & <chr>\\\\\n",
       "\\hline\n",
       "\t generator-react               & 09b724e & 12.80 & 12.80 &   0.0 & NA &    NA &    NA & NA & NA     & NA  \\\\\n",
       "\t JsSIP                         & 9cdeaa0 & 17.45 & 17.45 &   0.0 &  0 & 17.45 & 17.45 &  0 & better & same\\\\\n",
       "\t umi-plugin-datahub            & 0a4a4f9 & 33.10 & 33.10 & 202.5 & NA &    NA &    NA & NA & NA     & NA  \\\\\n",
       "\t postcss-assets-webpack-plugin & 90b69bb &  0.00 &  0.00 &   0.0 &  0 &  0.00 &  0.00 &  0 & same   & same\\\\\n",
       "\t accord                        & 262e693 &  0.00 &  0.00 &   0.0 &  0 &  0.00 &  0.00 &  0 & same   & same\\\\\n",
       "\t asl-validator                 & 88949ae &  0.00 &  0.00 &   0.0 &  0 &  0.00 &  0.00 &  0 & same   & same\\\\\n",
       "\\end{tabular}\n"
      ],
      "text/markdown": [
       "\n",
       "A tibble: 6 × 11\n",
       "\n",
       "| name &lt;chr&gt; | commit &lt;chr&gt; | CVE.vanilla &lt;dbl&gt; | CVE.audit fix &lt;dbl&gt; | CVE.audit fix force &lt;dbl&gt; | CVE.maxnpm_cve_oldness &lt;dbl&gt; | CVE.maxnpm_cve_oldness_pip_else_npm &lt;dbl&gt; | CVEDiff &lt;dbl&gt; | CVEPIPDiff &lt;dbl&gt; | CVEChangeCat &lt;chr&gt; | CVEPIPChangeCat &lt;chr&gt; |\n",
       "|---|---|---|---|---|---|---|---|---|---|---|\n",
       "| generator-react               | 09b724e | 12.80 | 12.80 |   0.0 | NA |    NA |    NA | NA | NA     | NA   |\n",
       "| JsSIP                         | 9cdeaa0 | 17.45 | 17.45 |   0.0 |  0 | 17.45 | 17.45 |  0 | better | same |\n",
       "| umi-plugin-datahub            | 0a4a4f9 | 33.10 | 33.10 | 202.5 | NA |    NA |    NA | NA | NA     | NA   |\n",
       "| postcss-assets-webpack-plugin | 90b69bb |  0.00 |  0.00 |   0.0 |  0 |  0.00 |  0.00 |  0 | same   | same |\n",
       "| accord                        | 262e693 |  0.00 |  0.00 |   0.0 |  0 |  0.00 |  0.00 |  0 | same   | same |\n",
       "| asl-validator                 | 88949ae |  0.00 |  0.00 |   0.0 |  0 |  0.00 |  0.00 |  0 | same   | same |\n",
       "\n"
      ],
      "text/plain": [
       "  name                          commit  CVE.vanilla CVE.audit fix\n",
       "1 generator-react               09b724e 12.80       12.80        \n",
       "2 JsSIP                         9cdeaa0 17.45       17.45        \n",
       "3 umi-plugin-datahub            0a4a4f9 33.10       33.10        \n",
       "4 postcss-assets-webpack-plugin 90b69bb  0.00        0.00        \n",
       "5 accord                        262e693  0.00        0.00        \n",
       "6 asl-validator                 88949ae  0.00        0.00        \n",
       "  CVE.audit fix force CVE.maxnpm_cve_oldness\n",
       "1   0.0               NA                    \n",
       "2   0.0                0                    \n",
       "3 202.5               NA                    \n",
       "4   0.0                0                    \n",
       "5   0.0                0                    \n",
       "6   0.0                0                    \n",
       "  CVE.maxnpm_cve_oldness_pip_else_npm CVEDiff CVEPIPDiff CVEChangeCat\n",
       "1    NA                                  NA   NA         NA          \n",
       "2 17.45                               17.45    0         better      \n",
       "3    NA                                  NA   NA         NA          \n",
       "4  0.00                                0.00    0         same        \n",
       "5  0.00                                0.00    0         same        \n",
       "6  0.00                                0.00    0         same        \n",
       "  CVEPIPChangeCat\n",
       "1 NA             \n",
       "2 same           \n",
       "3 NA             \n",
       "4 same           \n",
       "5 same           \n",
       "6 same           "
      ]
     },
     "metadata": {},
     "output_type": "display_data"
    }
   ],
   "source": [
    "head(CVEDiff)"
   ]
  },
  {
   "cell_type": "code",
   "execution_count": 16,
   "metadata": {
    "execution": {
     "iopub.execute_input": "2022-09-01T20:11:13.416676Z",
     "iopub.status.busy": "2022-09-01T20:11:13.416279Z",
     "iopub.status.idle": "2022-09-01T20:11:13.596709Z",
     "shell.execute_reply": "2022-09-01T20:11:13.596163Z"
    },
    "vscode": {
     "languageId": "r"
    }
   },
   "outputs": [
    {
     "name": "stderr",
     "output_type": "stream",
     "text": [
      "Warning message:\n",
      "“Removed 243 rows containing non-finite values (stat_ecdf).”\n",
      "Warning message:\n",
      "“Removed 243 rows containing non-finite values (stat_ecdf).”\n"
     ]
    },
    {
     "data": {
      "image/png": "[encoded data removed]",
      "text/plain": [
       "plot without title"
      ]
     },
     "metadata": {
      "image/png": {
       "height": 420,
       "width": 420
      }
     },
     "output_type": "display_data"
    }
   ],
   "source": [
    "CVEDiff %>% \n",
    "  ggplot(aes(`CVE.maxnpm_cve_oldness` - `CVE.audit fix`  )) +\n",
    "  stat_ecdf() +\n",
    "  ylab(\"Percentange of packages\") +\n",
    "  xlab(\"Difference in CVE badness between NPM and MaxNPM\") +\n",
    "  mytheme()\n",
    "mysave(\"cve-diff-ecdf.pdf\")"
   ]
  },
  {
   "cell_type": "code",
   "execution_count": 17,
   "metadata": {
    "execution": {
     "iopub.execute_input": "2022-09-01T20:11:13.599230Z",
     "iopub.status.busy": "2022-09-01T20:11:13.598782Z",
     "iopub.status.idle": "2022-09-01T20:11:13.756066Z",
     "shell.execute_reply": "2022-09-01T20:11:13.755568Z"
    },
    "vscode": {
     "languageId": "r"
    }
   },
   "outputs": [
    {
     "name": "stderr",
     "output_type": "stream",
     "text": [
      "`stat_bin()` using `bins = 30`. Pick better value with `binwidth`.\n",
      "\n",
      "`stat_bin()` using `bins = 30`. Pick better value with `binwidth`.\n",
      "\n"
     ]
    },
    {
     "data": {
      "image/png": "[encoded data removed]",
      "text/plain": [
       "plot without title"
      ]
     },
     "metadata": {
      "image/png": {
       "height": 420,
       "width": 420
      }
     },
     "output_type": "display_data"
    }
   ],
   "source": [
    "# CombinedData <- CVEDiff %>% \n",
    "#     filter(!is.na(CVEDiff))# %>%\n",
    "#     # filter(CVEDiff >= -50 & CVEDiff <= 300)\n",
    "\n",
    "# same_rows <- CombinedData %>% filter(CVEChangeCat != 'better')\n",
    "# better_rows <- CombinedData %>% filter(CVEChangeCat == 'better')\n",
    "# # worse_rows <- CombinedData %>% filter(CVEChangeCat == 'worse')\n",
    "\n",
    "# colors <- c(\"Same or Worse\" = \"gray\", \"Better\" = \"#00BA38\")\n",
    "# ggplot(CombinedData, aes(x= CVEDiff)) + mytheme() + \n",
    "#     geom_histogram(data = same_rows, aes(fill = \"Same or Worse\"), alpha = 1, bins=50) + \n",
    "#     geom_histogram(data = better_rows, aes(fill = \"Better\"), alpha=1, bins=50) + \n",
    "#     scale_fill_manual(values=colors) + xlab('CVE improvement with MaxNPM') + \n",
    "#     ylab('Count') #+\n",
    "#     #coord_trans(x=\"log2\")\n",
    "#     # scale_y_continuous(trans='log10')\n",
    "#     #scale_x_continuous(trans='log10')\n",
    "\n",
    "CVEDiff %>% filter(!is.na(CVEDiff)) %>%\n",
    "    ggplot(aes(x=CVEDiff)) +\n",
    "    geom_histogram() +\n",
    "    xlab('CVE improvement with MaxNPM') + \n",
    "    ylab('# packages') +\n",
    "    mytheme()\n",
    "\n",
    "mysave('cve-diff-hist.pdf')"
   ]
  },
  {
   "cell_type": "code",
   "execution_count": 18,
   "metadata": {
    "execution": {
     "iopub.execute_input": "2022-09-01T20:11:13.758415Z",
     "iopub.status.busy": "2022-09-01T20:11:13.757978Z",
     "iopub.status.idle": "2022-09-01T20:11:13.803386Z",
     "shell.execute_reply": "2022-09-01T20:11:13.800458Z"
    },
    "vscode": {
     "languageId": "r"
    }
   },
   "outputs": [
    {
     "data": {
      "text/html": [
       "<table class=\"dataframe\">\n",
       "<caption>A tibble: 234 × 11</caption>\n",
       "<thead>\n",
       "\t<tr><th scope=col>name</th><th scope=col>commit</th><th scope=col>CVE.vanilla</th><th scope=col>CVE.audit fix</th><th scope=col>CVE.audit fix force</th><th scope=col>CVE.maxnpm_cve_oldness</th><th scope=col>CVE.maxnpm_cve_oldness_pip_else_npm</th><th scope=col>CVEDiff</th><th scope=col>CVEPIPDiff</th><th scope=col>CVEChangeCat</th><th scope=col>CVEPIPChangeCat</th></tr>\n",
       "\t<tr><th scope=col>&lt;chr&gt;</th><th scope=col>&lt;chr&gt;</th><th scope=col>&lt;dbl&gt;</th><th scope=col>&lt;dbl&gt;</th><th scope=col>&lt;dbl&gt;</th><th scope=col>&lt;dbl&gt;</th><th scope=col>&lt;dbl&gt;</th><th scope=col>&lt;dbl&gt;</th><th scope=col>&lt;dbl&gt;</th><th scope=col>&lt;chr&gt;</th><th scope=col>&lt;chr&gt;</th></tr>\n",
       "</thead>\n",
       "<tbody>\n",
       "\t<tr><td>postcss-assets-webpack-plugin </td><td>90b69bb</td><td> 0.00</td><td> 0.00</td><td> 0.00</td><td> 0.00</td><td> 0.00</td><td>0</td><td>0</td><td>same</td><td>same</td></tr>\n",
       "\t<tr><td>accord                        </td><td>262e693</td><td> 0.00</td><td> 0.00</td><td> 0.00</td><td> 0.00</td><td> 0.00</td><td>0</td><td>0</td><td>same</td><td>same</td></tr>\n",
       "\t<tr><td>asl-validator                 </td><td>88949ae</td><td> 0.00</td><td> 0.00</td><td> 0.00</td><td> 0.00</td><td> 0.00</td><td>0</td><td>0</td><td>same</td><td>same</td></tr>\n",
       "\t<tr><td>lz                            </td><td>126e910</td><td> 0.00</td><td> 0.00</td><td> 0.00</td><td> 0.00</td><td> 0.00</td><td>0</td><td>0</td><td>same</td><td>same</td></tr>\n",
       "\t<tr><td>microservice-call             </td><td>33daf19</td><td> 0.00</td><td> 0.00</td><td> 0.00</td><td> 0.00</td><td> 0.00</td><td>0</td><td>0</td><td>same</td><td>same</td></tr>\n",
       "\t<tr><td>node-mailchimp                </td><td>cbbab51</td><td> 0.00</td><td> 0.00</td><td> 0.00</td><td> 0.00</td><td> 0.00</td><td>0</td><td>0</td><td>same</td><td>same</td></tr>\n",
       "\t<tr><td>cabin                         </td><td>9a3b169</td><td> 0.00</td><td> 0.00</td><td> 0.00</td><td> 0.00</td><td> 0.00</td><td>0</td><td>0</td><td>same</td><td>same</td></tr>\n",
       "\t<tr><td>license-checker               </td><td>315de0b</td><td> 0.00</td><td> 0.00</td><td> 0.00</td><td> 0.00</td><td> 0.00</td><td>0</td><td>0</td><td>same</td><td>same</td></tr>\n",
       "\t<tr><td>loopback-next                 </td><td>02ba54b</td><td> 0.00</td><td> 0.00</td><td> 0.00</td><td> 0.00</td><td> 0.00</td><td>0</td><td>0</td><td>same</td><td>same</td></tr>\n",
       "\t<tr><td>bullmq                        </td><td>0e0540e</td><td> 0.00</td><td> 0.00</td><td> 0.00</td><td> 0.00</td><td> 0.00</td><td>0</td><td>0</td><td>same</td><td>same</td></tr>\n",
       "\t<tr><td>css-modules-typings-loader    </td><td>478cf63</td><td> 0.00</td><td> 0.00</td><td> 0.00</td><td> 0.00</td><td> 0.00</td><td>0</td><td>0</td><td>same</td><td>same</td></tr>\n",
       "\t<tr><td>kafka-node                    </td><td>6d58279</td><td> 0.00</td><td> 0.00</td><td> 0.00</td><td> 0.00</td><td> 0.00</td><td>0</td><td>0</td><td>same</td><td>same</td></tr>\n",
       "\t<tr><td>broccoli-postcss-single       </td><td>0a96a8b</td><td> 0.00</td><td> 0.00</td><td> 0.00</td><td> 0.00</td><td> 0.00</td><td>0</td><td>0</td><td>same</td><td>same</td></tr>\n",
       "\t<tr><td>webapi-parser                 </td><td>197ff9d</td><td> 5.60</td><td> 5.60</td><td> 5.60</td><td> 5.60</td><td> 5.60</td><td>0</td><td>0</td><td>same</td><td>same</td></tr>\n",
       "\t<tr><td>frisbee                       </td><td>dab1175</td><td> 5.45</td><td> 5.45</td><td> 5.45</td><td> 5.45</td><td> 5.45</td><td>0</td><td>0</td><td>same</td><td>same</td></tr>\n",
       "\t<tr><td>httpx                         </td><td>25963d1</td><td> 0.00</td><td> 0.00</td><td> 0.00</td><td> 0.00</td><td> 0.00</td><td>0</td><td>0</td><td>same</td><td>same</td></tr>\n",
       "\t<tr><td>last-release-git              </td><td>3338d94</td><td> 0.00</td><td> 0.00</td><td> 0.00</td><td> 0.00</td><td> 0.00</td><td>0</td><td>0</td><td>same</td><td>same</td></tr>\n",
       "\t<tr><td>curl-generator                </td><td>194acbb</td><td> 0.00</td><td> 0.00</td><td> 0.00</td><td> 0.00</td><td> 0.00</td><td>0</td><td>0</td><td>same</td><td>same</td></tr>\n",
       "\t<tr><td>mnemonic-lib                  </td><td>0bf9937</td><td>14.50</td><td>14.50</td><td>14.50</td><td>14.50</td><td>14.50</td><td>0</td><td>0</td><td>same</td><td>same</td></tr>\n",
       "\t<tr><td>bip21                         </td><td>270a168</td><td> 0.00</td><td> 0.00</td><td> 0.00</td><td> 0.00</td><td> 0.00</td><td>0</td><td>0</td><td>same</td><td>same</td></tr>\n",
       "\t<tr><td>with-query                    </td><td>26964e6</td><td> 0.00</td><td> 0.00</td><td> 0.00</td><td> 0.00</td><td> 0.00</td><td>0</td><td>0</td><td>same</td><td>same</td></tr>\n",
       "\t<tr><td>axon                          </td><td>1e9a6bc</td><td> 0.00</td><td> 0.00</td><td> 0.00</td><td> 0.00</td><td> 0.00</td><td>0</td><td>0</td><td>same</td><td>same</td></tr>\n",
       "\t<tr><td>matrix-js-sdk                 </td><td>5d95398</td><td> 0.00</td><td> 0.00</td><td> 0.00</td><td> 0.00</td><td> 0.00</td><td>0</td><td>0</td><td>same</td><td>same</td></tr>\n",
       "\t<tr><td>script-ext-html-webpack-plugin</td><td>33406ad</td><td> 0.00</td><td> 0.00</td><td> 0.00</td><td> 0.00</td><td> 0.00</td><td>0</td><td>0</td><td>same</td><td>same</td></tr>\n",
       "\t<tr><td>wrap-words                    </td><td>9904ddd</td><td> 0.00</td><td> 0.00</td><td> 0.00</td><td> 0.00</td><td> 0.00</td><td>0</td><td>0</td><td>same</td><td>same</td></tr>\n",
       "\t<tr><td>koa-views                     </td><td>0d60757</td><td> 0.00</td><td> 0.00</td><td> 0.00</td><td> 0.00</td><td> 0.00</td><td>0</td><td>0</td><td>same</td><td>same</td></tr>\n",
       "\t<tr><td>nodecg-io                     </td><td>0447129</td><td> 0.00</td><td> 0.00</td><td> 0.00</td><td> 0.00</td><td> 0.00</td><td>0</td><td>0</td><td>same</td><td>same</td></tr>\n",
       "\t<tr><td>react-popover                 </td><td>0521902</td><td> 0.00</td><td> 0.00</td><td> 0.00</td><td> 0.00</td><td> 0.00</td><td>0</td><td>0</td><td>same</td><td>same</td></tr>\n",
       "\t<tr><td>cliss                         </td><td>92c3d73</td><td> 5.30</td><td> 5.30</td><td> 0.00</td><td> 5.30</td><td> 5.30</td><td>0</td><td>0</td><td>same</td><td>same</td></tr>\n",
       "\t<tr><td>3Dmol.js                      </td><td>1cc27de</td><td> 0.00</td><td> 0.00</td><td> 0.00</td><td> 0.00</td><td> 0.00</td><td>0</td><td>0</td><td>same</td><td>same</td></tr>\n",
       "\t<tr><td>⋮</td><td>⋮</td><td>⋮</td><td>⋮</td><td>⋮</td><td>⋮</td><td>⋮</td><td>⋮</td><td>⋮</td><td>⋮</td><td>⋮</td></tr>\n",
       "\t<tr><td>babel-plugin-styled-components-css-namespace</td><td>3e8735a</td><td>  5.3</td><td>  5.3</td><td>5.3</td><td>  5.3</td><td>  5.3</td><td>0</td><td> 0</td><td>same</td><td>same</td></tr>\n",
       "\t<tr><td>gun-vue                                     </td><td>2b24a3a</td><td>  0.0</td><td>  0.0</td><td>0.0</td><td>  0.0</td><td>  0.0</td><td>0</td><td> 0</td><td>same</td><td>same</td></tr>\n",
       "\t<tr><td>testit                                      </td><td>164e944</td><td>  0.0</td><td>  0.0</td><td>0.0</td><td>  0.0</td><td>  0.0</td><td>0</td><td> 0</td><td>same</td><td>same</td></tr>\n",
       "\t<tr><td>commit-analyzer                             </td><td>06cebb5</td><td>  0.0</td><td>  0.0</td><td>0.0</td><td>  0.0</td><td>  0.0</td><td>0</td><td> 0</td><td>same</td><td>same</td></tr>\n",
       "\t<tr><td>postcss-simple-extend                       </td><td>060c11b</td><td>  5.3</td><td>  5.3</td><td>0.0</td><td>  5.3</td><td>  5.3</td><td>0</td><td> 0</td><td>same</td><td>same</td></tr>\n",
       "\t<tr><td>node-7z                                     </td><td>1803529</td><td>  0.0</td><td>  0.0</td><td>0.0</td><td>  0.0</td><td>  0.0</td><td>0</td><td> 0</td><td>same</td><td>same</td></tr>\n",
       "\t<tr><td>ylog                                        </td><td>1cb81b6</td><td>  0.0</td><td>  0.0</td><td>0.0</td><td>  0.0</td><td>  0.0</td><td>0</td><td> 0</td><td>same</td><td>same</td></tr>\n",
       "\t<tr><td>auto-changelog                              </td><td>0fafde3</td><td>  0.0</td><td>  0.0</td><td>0.0</td><td>  0.0</td><td>   NA</td><td>0</td><td>NA</td><td>same</td><td>NA  </td></tr>\n",
       "\t<tr><td>heml                                        </td><td>ff7c277</td><td>  0.0</td><td>  0.0</td><td>0.0</td><td>  0.0</td><td>  0.0</td><td>0</td><td> 0</td><td>same</td><td>same</td></tr>\n",
       "\t<tr><td>mpvue-loader                                </td><td>08e0cbb</td><td>  0.0</td><td>  0.0</td><td>0.0</td><td>  0.0</td><td>  0.0</td><td>0</td><td> 0</td><td>same</td><td>same</td></tr>\n",
       "\t<tr><td>openapi-typescript                          </td><td>0b42acd</td><td>  0.0</td><td>  0.0</td><td>0.0</td><td>  0.0</td><td>  0.0</td><td>0</td><td> 0</td><td>same</td><td>same</td></tr>\n",
       "\t<tr><td>create-html5-boilerplate                    </td><td>f62a992</td><td>  0.0</td><td>  0.0</td><td>0.0</td><td>  0.0</td><td>  0.0</td><td>0</td><td> 0</td><td>same</td><td>same</td></tr>\n",
       "\t<tr><td>koa-simple-ratelimit                        </td><td>c5c6c85</td><td>  0.0</td><td>  0.0</td><td>0.0</td><td>  0.0</td><td>  0.0</td><td>0</td><td> 0</td><td>same</td><td>same</td></tr>\n",
       "\t<tr><td>aws-cdk                                     </td><td>07e2ece</td><td>  0.0</td><td>  0.0</td><td>0.0</td><td>  0.0</td><td>  0.0</td><td>0</td><td> 0</td><td>same</td><td>same</td></tr>\n",
       "\t<tr><td>node-client                                 </td><td>34a04ce</td><td>116.7</td><td>116.7</td><td>0.0</td><td>116.7</td><td>116.7</td><td>0</td><td> 0</td><td>same</td><td>same</td></tr>\n",
       "\t<tr><td>vite-plugin-windicss                        </td><td>0aca77c</td><td>  0.0</td><td>  0.0</td><td>0.0</td><td>  0.0</td><td>  0.0</td><td>0</td><td> 0</td><td>same</td><td>same</td></tr>\n",
       "\t<tr><td>is-es-version                               </td><td>a060787</td><td>  0.0</td><td>  0.0</td><td>0.0</td><td>  0.0</td><td>  0.0</td><td>0</td><td> 0</td><td>same</td><td>same</td></tr>\n",
       "\t<tr><td>icebreaker-rpc                              </td><td>3ff645a</td><td>  0.0</td><td>  0.0</td><td>0.0</td><td>  0.0</td><td>  0.0</td><td>0</td><td> 0</td><td>same</td><td>same</td></tr>\n",
       "\t<tr><td>async-chainable                             </td><td>859fe4d</td><td>  0.0</td><td>  0.0</td><td>0.0</td><td>  0.0</td><td>  0.0</td><td>0</td><td> 0</td><td>same</td><td>same</td></tr>\n",
       "\t<tr><td>percy-storybook                             </td><td>664cc50</td><td>  0.0</td><td>  0.0</td><td>0.0</td><td>  0.0</td><td>  0.0</td><td>0</td><td> 0</td><td>same</td><td>same</td></tr>\n",
       "\t<tr><td>eslint-plugin-import                        </td><td>180d71a</td><td>  0.0</td><td>  0.0</td><td>0.0</td><td>  0.0</td><td>  0.0</td><td>0</td><td> 0</td><td>same</td><td>same</td></tr>\n",
       "\t<tr><td>node-meshblu-http                           </td><td>c8c6648</td><td> 44.4</td><td> 44.4</td><td>0.0</td><td> 44.4</td><td> 44.4</td><td>0</td><td> 0</td><td>same</td><td>same</td></tr>\n",
       "\t<tr><td>sleep-ts                                    </td><td>320b2f3</td><td>  0.0</td><td>  0.0</td><td>0.0</td><td>  0.0</td><td>  0.0</td><td>0</td><td> 0</td><td>same</td><td>same</td></tr>\n",
       "\t<tr><td>unplugin-vue-components                     </td><td>0026020</td><td>  0.0</td><td>  0.0</td><td>0.0</td><td>  0.0</td><td>  0.0</td><td>0</td><td> 0</td><td>same</td><td>same</td></tr>\n",
       "\t<tr><td>simple-oauth2                               </td><td>24a1968</td><td>  0.0</td><td>  0.0</td><td>0.0</td><td>  0.0</td><td>  0.0</td><td>0</td><td> 0</td><td>same</td><td>same</td></tr>\n",
       "\t<tr><td>utils                                       </td><td>8af3711</td><td>  0.0</td><td>  0.0</td><td>0.0</td><td>  0.0</td><td>  0.0</td><td>0</td><td> 0</td><td>same</td><td>same</td></tr>\n",
       "\t<tr><td>elv-js-helpers                              </td><td>2316e4e</td><td>  0.0</td><td>  0.0</td><td>0.0</td><td>  0.0</td><td>  0.0</td><td>0</td><td> 0</td><td>same</td><td>same</td></tr>\n",
       "\t<tr><td>postcss-banner                              </td><td>63d43c1</td><td>  0.0</td><td>  0.0</td><td>0.0</td><td>  0.0</td><td>  0.0</td><td>0</td><td> 0</td><td>same</td><td>same</td></tr>\n",
       "\t<tr><td>nock                                        </td><td>0c0aaca</td><td>  0.0</td><td>  0.0</td><td>0.0</td><td>  0.0</td><td>  0.0</td><td>0</td><td> 0</td><td>same</td><td>same</td></tr>\n",
       "\t<tr><td>roblox-ts                                   </td><td>54f4d8e</td><td>  0.0</td><td>  0.0</td><td>0.0</td><td>  0.0</td><td>  0.0</td><td>0</td><td> 0</td><td>same</td><td>same</td></tr>\n",
       "</tbody>\n",
       "</table>\n"
      ],
      "text/latex": [
       "A tibble: 234 × 11\n",
       "\\begin{tabular}{lllllllllll}\n",
       " name & commit & CVE.vanilla & CVE.audit fix & CVE.audit fix force & CVE.maxnpm\\_cve\\_oldness & CVE.maxnpm\\_cve\\_oldness\\_pip\\_else\\_npm & CVEDiff & CVEPIPDiff & CVEChangeCat & CVEPIPChangeCat\\\\\n",
       " <chr> & <chr> & <dbl> & <dbl> & <dbl> & <dbl> & <dbl> & <dbl> & <dbl> & <chr> & <chr>\\\\\n",
       "\\hline\n",
       "\t postcss-assets-webpack-plugin  & 90b69bb &  0.00 &  0.00 &  0.00 &  0.00 &  0.00 & 0 & 0 & same & same\\\\\n",
       "\t accord                         & 262e693 &  0.00 &  0.00 &  0.00 &  0.00 &  0.00 & 0 & 0 & same & same\\\\\n",
       "\t asl-validator                  & 88949ae &  0.00 &  0.00 &  0.00 &  0.00 &  0.00 & 0 & 0 & same & same\\\\\n",
       "\t lz                             & 126e910 &  0.00 &  0.00 &  0.00 &  0.00 &  0.00 & 0 & 0 & same & same\\\\\n",
       "\t microservice-call              & 33daf19 &  0.00 &  0.00 &  0.00 &  0.00 &  0.00 & 0 & 0 & same & same\\\\\n",
       "\t node-mailchimp                 & cbbab51 &  0.00 &  0.00 &  0.00 &  0.00 &  0.00 & 0 & 0 & same & same\\\\\n",
       "\t cabin                          & 9a3b169 &  0.00 &  0.00 &  0.00 &  0.00 &  0.00 & 0 & 0 & same & same\\\\\n",
       "\t license-checker                & 315de0b &  0.00 &  0.00 &  0.00 &  0.00 &  0.00 & 0 & 0 & same & same\\\\\n",
       "\t loopback-next                  & 02ba54b &  0.00 &  0.00 &  0.00 &  0.00 &  0.00 & 0 & 0 & same & same\\\\\n",
       "\t bullmq                         & 0e0540e &  0.00 &  0.00 &  0.00 &  0.00 &  0.00 & 0 & 0 & same & same\\\\\n",
       "\t css-modules-typings-loader     & 478cf63 &  0.00 &  0.00 &  0.00 &  0.00 &  0.00 & 0 & 0 & same & same\\\\\n",
       "\t kafka-node                     & 6d58279 &  0.00 &  0.00 &  0.00 &  0.00 &  0.00 & 0 & 0 & same & same\\\\\n",
       "\t broccoli-postcss-single        & 0a96a8b &  0.00 &  0.00 &  0.00 &  0.00 &  0.00 & 0 & 0 & same & same\\\\\n",
       "\t webapi-parser                  & 197ff9d &  5.60 &  5.60 &  5.60 &  5.60 &  5.60 & 0 & 0 & same & same\\\\\n",
       "\t frisbee                        & dab1175 &  5.45 &  5.45 &  5.45 &  5.45 &  5.45 & 0 & 0 & same & same\\\\\n",
       "\t httpx                          & 25963d1 &  0.00 &  0.00 &  0.00 &  0.00 &  0.00 & 0 & 0 & same & same\\\\\n",
       "\t last-release-git               & 3338d94 &  0.00 &  0.00 &  0.00 &  0.00 &  0.00 & 0 & 0 & same & same\\\\\n",
       "\t curl-generator                 & 194acbb &  0.00 &  0.00 &  0.00 &  0.00 &  0.00 & 0 & 0 & same & same\\\\\n",
       "\t mnemonic-lib                   & 0bf9937 & 14.50 & 14.50 & 14.50 & 14.50 & 14.50 & 0 & 0 & same & same\\\\\n",
       "\t bip21                          & 270a168 &  0.00 &  0.00 &  0.00 &  0.00 &  0.00 & 0 & 0 & same & same\\\\\n",
       "\t with-query                     & 26964e6 &  0.00 &  0.00 &  0.00 &  0.00 &  0.00 & 0 & 0 & same & same\\\\\n",
       "\t axon                           & 1e9a6bc &  0.00 &  0.00 &  0.00 &  0.00 &  0.00 & 0 & 0 & same & same\\\\\n",
       "\t matrix-js-sdk                  & 5d95398 &  0.00 &  0.00 &  0.00 &  0.00 &  0.00 & 0 & 0 & same & same\\\\\n",
       "\t script-ext-html-webpack-plugin & 33406ad &  0.00 &  0.00 &  0.00 &  0.00 &  0.00 & 0 & 0 & same & same\\\\\n",
       "\t wrap-words                     & 9904ddd &  0.00 &  0.00 &  0.00 &  0.00 &  0.00 & 0 & 0 & same & same\\\\\n",
       "\t koa-views                      & 0d60757 &  0.00 &  0.00 &  0.00 &  0.00 &  0.00 & 0 & 0 & same & same\\\\\n",
       "\t nodecg-io                      & 0447129 &  0.00 &  0.00 &  0.00 &  0.00 &  0.00 & 0 & 0 & same & same\\\\\n",
       "\t react-popover                  & 0521902 &  0.00 &  0.00 &  0.00 &  0.00 &  0.00 & 0 & 0 & same & same\\\\\n",
       "\t cliss                          & 92c3d73 &  5.30 &  5.30 &  0.00 &  5.30 &  5.30 & 0 & 0 & same & same\\\\\n",
       "\t 3Dmol.js                       & 1cc27de &  0.00 &  0.00 &  0.00 &  0.00 &  0.00 & 0 & 0 & same & same\\\\\n",
       "\t ⋮ & ⋮ & ⋮ & ⋮ & ⋮ & ⋮ & ⋮ & ⋮ & ⋮ & ⋮ & ⋮\\\\\n",
       "\t babel-plugin-styled-components-css-namespace & 3e8735a &   5.3 &   5.3 & 5.3 &   5.3 &   5.3 & 0 &  0 & same & same\\\\\n",
       "\t gun-vue                                      & 2b24a3a &   0.0 &   0.0 & 0.0 &   0.0 &   0.0 & 0 &  0 & same & same\\\\\n",
       "\t testit                                       & 164e944 &   0.0 &   0.0 & 0.0 &   0.0 &   0.0 & 0 &  0 & same & same\\\\\n",
       "\t commit-analyzer                              & 06cebb5 &   0.0 &   0.0 & 0.0 &   0.0 &   0.0 & 0 &  0 & same & same\\\\\n",
       "\t postcss-simple-extend                        & 060c11b &   5.3 &   5.3 & 0.0 &   5.3 &   5.3 & 0 &  0 & same & same\\\\\n",
       "\t node-7z                                      & 1803529 &   0.0 &   0.0 & 0.0 &   0.0 &   0.0 & 0 &  0 & same & same\\\\\n",
       "\t ylog                                         & 1cb81b6 &   0.0 &   0.0 & 0.0 &   0.0 &   0.0 & 0 &  0 & same & same\\\\\n",
       "\t auto-changelog                               & 0fafde3 &   0.0 &   0.0 & 0.0 &   0.0 &    NA & 0 & NA & same & NA  \\\\\n",
       "\t heml                                         & ff7c277 &   0.0 &   0.0 & 0.0 &   0.0 &   0.0 & 0 &  0 & same & same\\\\\n",
       "\t mpvue-loader                                 & 08e0cbb &   0.0 &   0.0 & 0.0 &   0.0 &   0.0 & 0 &  0 & same & same\\\\\n",
       "\t openapi-typescript                           & 0b42acd &   0.0 &   0.0 & 0.0 &   0.0 &   0.0 & 0 &  0 & same & same\\\\\n",
       "\t create-html5-boilerplate                     & f62a992 &   0.0 &   0.0 & 0.0 &   0.0 &   0.0 & 0 &  0 & same & same\\\\\n",
       "\t koa-simple-ratelimit                         & c5c6c85 &   0.0 &   0.0 & 0.0 &   0.0 &   0.0 & 0 &  0 & same & same\\\\\n",
       "\t aws-cdk                                      & 07e2ece &   0.0 &   0.0 & 0.0 &   0.0 &   0.0 & 0 &  0 & same & same\\\\\n",
       "\t node-client                                  & 34a04ce & 116.7 & 116.7 & 0.0 & 116.7 & 116.7 & 0 &  0 & same & same\\\\\n",
       "\t vite-plugin-windicss                         & 0aca77c &   0.0 &   0.0 & 0.0 &   0.0 &   0.0 & 0 &  0 & same & same\\\\\n",
       "\t is-es-version                                & a060787 &   0.0 &   0.0 & 0.0 &   0.0 &   0.0 & 0 &  0 & same & same\\\\\n",
       "\t icebreaker-rpc                               & 3ff645a &   0.0 &   0.0 & 0.0 &   0.0 &   0.0 & 0 &  0 & same & same\\\\\n",
       "\t async-chainable                              & 859fe4d &   0.0 &   0.0 & 0.0 &   0.0 &   0.0 & 0 &  0 & same & same\\\\\n",
       "\t percy-storybook                              & 664cc50 &   0.0 &   0.0 & 0.0 &   0.0 &   0.0 & 0 &  0 & same & same\\\\\n",
       "\t eslint-plugin-import                         & 180d71a &   0.0 &   0.0 & 0.0 &   0.0 &   0.0 & 0 &  0 & same & same\\\\\n",
       "\t node-meshblu-http                            & c8c6648 &  44.4 &  44.4 & 0.0 &  44.4 &  44.4 & 0 &  0 & same & same\\\\\n",
       "\t sleep-ts                                     & 320b2f3 &   0.0 &   0.0 & 0.0 &   0.0 &   0.0 & 0 &  0 & same & same\\\\\n",
       "\t unplugin-vue-components                      & 0026020 &   0.0 &   0.0 & 0.0 &   0.0 &   0.0 & 0 &  0 & same & same\\\\\n",
       "\t simple-oauth2                                & 24a1968 &   0.0 &   0.0 & 0.0 &   0.0 &   0.0 & 0 &  0 & same & same\\\\\n",
       "\t utils                                        & 8af3711 &   0.0 &   0.0 & 0.0 &   0.0 &   0.0 & 0 &  0 & same & same\\\\\n",
       "\t elv-js-helpers                               & 2316e4e &   0.0 &   0.0 & 0.0 &   0.0 &   0.0 & 0 &  0 & same & same\\\\\n",
       "\t postcss-banner                               & 63d43c1 &   0.0 &   0.0 & 0.0 &   0.0 &   0.0 & 0 &  0 & same & same\\\\\n",
       "\t nock                                         & 0c0aaca &   0.0 &   0.0 & 0.0 &   0.0 &   0.0 & 0 &  0 & same & same\\\\\n",
       "\t roblox-ts                                    & 54f4d8e &   0.0 &   0.0 & 0.0 &   0.0 &   0.0 & 0 &  0 & same & same\\\\\n",
       "\\end{tabular}\n"
      ],
      "text/markdown": [
       "\n",
       "A tibble: 234 × 11\n",
       "\n",
       "| name &lt;chr&gt; | commit &lt;chr&gt; | CVE.vanilla &lt;dbl&gt; | CVE.audit fix &lt;dbl&gt; | CVE.audit fix force &lt;dbl&gt; | CVE.maxnpm_cve_oldness &lt;dbl&gt; | CVE.maxnpm_cve_oldness_pip_else_npm &lt;dbl&gt; | CVEDiff &lt;dbl&gt; | CVEPIPDiff &lt;dbl&gt; | CVEChangeCat &lt;chr&gt; | CVEPIPChangeCat &lt;chr&gt; |\n",
       "|---|---|---|---|---|---|---|---|---|---|---|\n",
       "| postcss-assets-webpack-plugin  | 90b69bb |  0.00 |  0.00 |  0.00 |  0.00 |  0.00 | 0 | 0 | same | same |\n",
       "| accord                         | 262e693 |  0.00 |  0.00 |  0.00 |  0.00 |  0.00 | 0 | 0 | same | same |\n",
       "| asl-validator                  | 88949ae |  0.00 |  0.00 |  0.00 |  0.00 |  0.00 | 0 | 0 | same | same |\n",
       "| lz                             | 126e910 |  0.00 |  0.00 |  0.00 |  0.00 |  0.00 | 0 | 0 | same | same |\n",
       "| microservice-call              | 33daf19 |  0.00 |  0.00 |  0.00 |  0.00 |  0.00 | 0 | 0 | same | same |\n",
       "| node-mailchimp                 | cbbab51 |  0.00 |  0.00 |  0.00 |  0.00 |  0.00 | 0 | 0 | same | same |\n",
       "| cabin                          | 9a3b169 |  0.00 |  0.00 |  0.00 |  0.00 |  0.00 | 0 | 0 | same | same |\n",
       "| license-checker                | 315de0b |  0.00 |  0.00 |  0.00 |  0.00 |  0.00 | 0 | 0 | same | same |\n",
       "| loopback-next                  | 02ba54b |  0.00 |  0.00 |  0.00 |  0.00 |  0.00 | 0 | 0 | same | same |\n",
       "| bullmq                         | 0e0540e |  0.00 |  0.00 |  0.00 |  0.00 |  0.00 | 0 | 0 | same | same |\n",
       "| css-modules-typings-loader     | 478cf63 |  0.00 |  0.00 |  0.00 |  0.00 |  0.00 | 0 | 0 | same | same |\n",
       "| kafka-node                     | 6d58279 |  0.00 |  0.00 |  0.00 |  0.00 |  0.00 | 0 | 0 | same | same |\n",
       "| broccoli-postcss-single        | 0a96a8b |  0.00 |  0.00 |  0.00 |  0.00 |  0.00 | 0 | 0 | same | same |\n",
       "| webapi-parser                  | 197ff9d |  5.60 |  5.60 |  5.60 |  5.60 |  5.60 | 0 | 0 | same | same |\n",
       "| frisbee                        | dab1175 |  5.45 |  5.45 |  5.45 |  5.45 |  5.45 | 0 | 0 | same | same |\n",
       "| httpx                          | 25963d1 |  0.00 |  0.00 |  0.00 |  0.00 |  0.00 | 0 | 0 | same | same |\n",
       "| last-release-git               | 3338d94 |  0.00 |  0.00 |  0.00 |  0.00 |  0.00 | 0 | 0 | same | same |\n",
       "| curl-generator                 | 194acbb |  0.00 |  0.00 |  0.00 |  0.00 |  0.00 | 0 | 0 | same | same |\n",
       "| mnemonic-lib                   | 0bf9937 | 14.50 | 14.50 | 14.50 | 14.50 | 14.50 | 0 | 0 | same | same |\n",
       "| bip21                          | 270a168 |  0.00 |  0.00 |  0.00 |  0.00 |  0.00 | 0 | 0 | same | same |\n",
       "| with-query                     | 26964e6 |  0.00 |  0.00 |  0.00 |  0.00 |  0.00 | 0 | 0 | same | same |\n",
       "| axon                           | 1e9a6bc |  0.00 |  0.00 |  0.00 |  0.00 |  0.00 | 0 | 0 | same | same |\n",
       "| matrix-js-sdk                  | 5d95398 |  0.00 |  0.00 |  0.00 |  0.00 |  0.00 | 0 | 0 | same | same |\n",
       "| script-ext-html-webpack-plugin | 33406ad |  0.00 |  0.00 |  0.00 |  0.00 |  0.00 | 0 | 0 | same | same |\n",
       "| wrap-words                     | 9904ddd |  0.00 |  0.00 |  0.00 |  0.00 |  0.00 | 0 | 0 | same | same |\n",
       "| koa-views                      | 0d60757 |  0.00 |  0.00 |  0.00 |  0.00 |  0.00 | 0 | 0 | same | same |\n",
       "| nodecg-io                      | 0447129 |  0.00 |  0.00 |  0.00 |  0.00 |  0.00 | 0 | 0 | same | same |\n",
       "| react-popover                  | 0521902 |  0.00 |  0.00 |  0.00 |  0.00 |  0.00 | 0 | 0 | same | same |\n",
       "| cliss                          | 92c3d73 |  5.30 |  5.30 |  0.00 |  5.30 |  5.30 | 0 | 0 | same | same |\n",
       "| 3Dmol.js                       | 1cc27de |  0.00 |  0.00 |  0.00 |  0.00 |  0.00 | 0 | 0 | same | same |\n",
       "| ⋮ | ⋮ | ⋮ | ⋮ | ⋮ | ⋮ | ⋮ | ⋮ | ⋮ | ⋮ | ⋮ |\n",
       "| babel-plugin-styled-components-css-namespace | 3e8735a |   5.3 |   5.3 | 5.3 |   5.3 |   5.3 | 0 |  0 | same | same |\n",
       "| gun-vue                                      | 2b24a3a |   0.0 |   0.0 | 0.0 |   0.0 |   0.0 | 0 |  0 | same | same |\n",
       "| testit                                       | 164e944 |   0.0 |   0.0 | 0.0 |   0.0 |   0.0 | 0 |  0 | same | same |\n",
       "| commit-analyzer                              | 06cebb5 |   0.0 |   0.0 | 0.0 |   0.0 |   0.0 | 0 |  0 | same | same |\n",
       "| postcss-simple-extend                        | 060c11b |   5.3 |   5.3 | 0.0 |   5.3 |   5.3 | 0 |  0 | same | same |\n",
       "| node-7z                                      | 1803529 |   0.0 |   0.0 | 0.0 |   0.0 |   0.0 | 0 |  0 | same | same |\n",
       "| ylog                                         | 1cb81b6 |   0.0 |   0.0 | 0.0 |   0.0 |   0.0 | 0 |  0 | same | same |\n",
       "| auto-changelog                               | 0fafde3 |   0.0 |   0.0 | 0.0 |   0.0 |    NA | 0 | NA | same | NA   |\n",
       "| heml                                         | ff7c277 |   0.0 |   0.0 | 0.0 |   0.0 |   0.0 | 0 |  0 | same | same |\n",
       "| mpvue-loader                                 | 08e0cbb |   0.0 |   0.0 | 0.0 |   0.0 |   0.0 | 0 |  0 | same | same |\n",
       "| openapi-typescript                           | 0b42acd |   0.0 |   0.0 | 0.0 |   0.0 |   0.0 | 0 |  0 | same | same |\n",
       "| create-html5-boilerplate                     | f62a992 |   0.0 |   0.0 | 0.0 |   0.0 |   0.0 | 0 |  0 | same | same |\n",
       "| koa-simple-ratelimit                         | c5c6c85 |   0.0 |   0.0 | 0.0 |   0.0 |   0.0 | 0 |  0 | same | same |\n",
       "| aws-cdk                                      | 07e2ece |   0.0 |   0.0 | 0.0 |   0.0 |   0.0 | 0 |  0 | same | same |\n",
       "| node-client                                  | 34a04ce | 116.7 | 116.7 | 0.0 | 116.7 | 116.7 | 0 |  0 | same | same |\n",
       "| vite-plugin-windicss                         | 0aca77c |   0.0 |   0.0 | 0.0 |   0.0 |   0.0 | 0 |  0 | same | same |\n",
       "| is-es-version                                | a060787 |   0.0 |   0.0 | 0.0 |   0.0 |   0.0 | 0 |  0 | same | same |\n",
       "| icebreaker-rpc                               | 3ff645a |   0.0 |   0.0 | 0.0 |   0.0 |   0.0 | 0 |  0 | same | same |\n",
       "| async-chainable                              | 859fe4d |   0.0 |   0.0 | 0.0 |   0.0 |   0.0 | 0 |  0 | same | same |\n",
       "| percy-storybook                              | 664cc50 |   0.0 |   0.0 | 0.0 |   0.0 |   0.0 | 0 |  0 | same | same |\n",
       "| eslint-plugin-import                         | 180d71a |   0.0 |   0.0 | 0.0 |   0.0 |   0.0 | 0 |  0 | same | same |\n",
       "| node-meshblu-http                            | c8c6648 |  44.4 |  44.4 | 0.0 |  44.4 |  44.4 | 0 |  0 | same | same |\n",
       "| sleep-ts                                     | 320b2f3 |   0.0 |   0.0 | 0.0 |   0.0 |   0.0 | 0 |  0 | same | same |\n",
       "| unplugin-vue-components                      | 0026020 |   0.0 |   0.0 | 0.0 |   0.0 |   0.0 | 0 |  0 | same | same |\n",
       "| simple-oauth2                                | 24a1968 |   0.0 |   0.0 | 0.0 |   0.0 |   0.0 | 0 |  0 | same | same |\n",
       "| utils                                        | 8af3711 |   0.0 |   0.0 | 0.0 |   0.0 |   0.0 | 0 |  0 | same | same |\n",
       "| elv-js-helpers                               | 2316e4e |   0.0 |   0.0 | 0.0 |   0.0 |   0.0 | 0 |  0 | same | same |\n",
       "| postcss-banner                               | 63d43c1 |   0.0 |   0.0 | 0.0 |   0.0 |   0.0 | 0 |  0 | same | same |\n",
       "| nock                                         | 0c0aaca |   0.0 |   0.0 | 0.0 |   0.0 |   0.0 | 0 |  0 | same | same |\n",
       "| roblox-ts                                    | 54f4d8e |   0.0 |   0.0 | 0.0 |   0.0 |   0.0 | 0 |  0 | same | same |\n",
       "\n"
      ],
      "text/plain": [
       "    name                                         commit  CVE.vanilla\n",
       "1   postcss-assets-webpack-plugin                90b69bb  0.00      \n",
       "2   accord                                       262e693  0.00      \n",
       "3   asl-validator                                88949ae  0.00      \n",
       "4   lz                                           126e910  0.00      \n",
       "5   microservice-call                            33daf19  0.00      \n",
       "6   node-mailchimp                               cbbab51  0.00      \n",
       "7   cabin                                        9a3b169  0.00      \n",
       "8   license-checker                              315de0b  0.00      \n",
       "9   loopback-next                                02ba54b  0.00      \n",
       "10  bullmq                                       0e0540e  0.00      \n",
       "11  css-modules-typings-loader                   478cf63  0.00      \n",
       "12  kafka-node                                   6d58279  0.00      \n",
       "13  broccoli-postcss-single                      0a96a8b  0.00      \n",
       "14  webapi-parser                                197ff9d  5.60      \n",
       "15  frisbee                                      dab1175  5.45      \n",
       "16  httpx                                        25963d1  0.00      \n",
       "17  last-release-git                             3338d94  0.00      \n",
       "18  curl-generator                               194acbb  0.00      \n",
       "19  mnemonic-lib                                 0bf9937 14.50      \n",
       "20  bip21                                        270a168  0.00      \n",
       "21  with-query                                   26964e6  0.00      \n",
       "22  axon                                         1e9a6bc  0.00      \n",
       "23  matrix-js-sdk                                5d95398  0.00      \n",
       "24  script-ext-html-webpack-plugin               33406ad  0.00      \n",
       "25  wrap-words                                   9904ddd  0.00      \n",
       "26  koa-views                                    0d60757  0.00      \n",
       "27  nodecg-io                                    0447129  0.00      \n",
       "28  react-popover                                0521902  0.00      \n",
       "29  cliss                                        92c3d73  5.30      \n",
       "30  3Dmol.js                                     1cc27de  0.00      \n",
       "⋮   ⋮                                            ⋮       ⋮          \n",
       "205 babel-plugin-styled-components-css-namespace 3e8735a   5.3      \n",
       "206 gun-vue                                      2b24a3a   0.0      \n",
       "207 testit                                       164e944   0.0      \n",
       "208 commit-analyzer                              06cebb5   0.0      \n",
       "209 postcss-simple-extend                        060c11b   5.3      \n",
       "210 node-7z                                      1803529   0.0      \n",
       "211 ylog                                         1cb81b6   0.0      \n",
       "212 auto-changelog                               0fafde3   0.0      \n",
       "213 heml                                         ff7c277   0.0      \n",
       "214 mpvue-loader                                 08e0cbb   0.0      \n",
       "215 openapi-typescript                           0b42acd   0.0      \n",
       "216 create-html5-boilerplate                     f62a992   0.0      \n",
       "217 koa-simple-ratelimit                         c5c6c85   0.0      \n",
       "218 aws-cdk                                      07e2ece   0.0      \n",
       "219 node-client                                  34a04ce 116.7      \n",
       "220 vite-plugin-windicss                         0aca77c   0.0      \n",
       "221 is-es-version                                a060787   0.0      \n",
       "222 icebreaker-rpc                               3ff645a   0.0      \n",
       "223 async-chainable                              859fe4d   0.0      \n",
       "224 percy-storybook                              664cc50   0.0      \n",
       "225 eslint-plugin-import                         180d71a   0.0      \n",
       "226 node-meshblu-http                            c8c6648  44.4      \n",
       "227 sleep-ts                                     320b2f3   0.0      \n",
       "228 unplugin-vue-components                      0026020   0.0      \n",
       "229 simple-oauth2                                24a1968   0.0      \n",
       "230 utils                                        8af3711   0.0      \n",
       "231 elv-js-helpers                               2316e4e   0.0      \n",
       "232 postcss-banner                               63d43c1   0.0      \n",
       "233 nock                                         0c0aaca   0.0      \n",
       "234 roblox-ts                                    54f4d8e   0.0      \n",
       "    CVE.audit fix CVE.audit fix force CVE.maxnpm_cve_oldness\n",
       "1    0.00          0.00                0.00                 \n",
       "2    0.00          0.00                0.00                 \n",
       "3    0.00          0.00                0.00                 \n",
       "4    0.00          0.00                0.00                 \n",
       "5    0.00          0.00                0.00                 \n",
       "6    0.00          0.00                0.00                 \n",
       "7    0.00          0.00                0.00                 \n",
       "8    0.00          0.00                0.00                 \n",
       "9    0.00          0.00                0.00                 \n",
       "10   0.00          0.00                0.00                 \n",
       "11   0.00          0.00                0.00                 \n",
       "12   0.00          0.00                0.00                 \n",
       "13   0.00          0.00                0.00                 \n",
       "14   5.60          5.60                5.60                 \n",
       "15   5.45          5.45                5.45                 \n",
       "16   0.00          0.00                0.00                 \n",
       "17   0.00          0.00                0.00                 \n",
       "18   0.00          0.00                0.00                 \n",
       "19  14.50         14.50               14.50                 \n",
       "20   0.00          0.00                0.00                 \n",
       "21   0.00          0.00                0.00                 \n",
       "22   0.00          0.00                0.00                 \n",
       "23   0.00          0.00                0.00                 \n",
       "24   0.00          0.00                0.00                 \n",
       "25   0.00          0.00                0.00                 \n",
       "26   0.00          0.00                0.00                 \n",
       "27   0.00          0.00                0.00                 \n",
       "28   0.00          0.00                0.00                 \n",
       "29   5.30          0.00                5.30                 \n",
       "30   0.00          0.00                0.00                 \n",
       "⋮   ⋮             ⋮                   ⋮                     \n",
       "205   5.3         5.3                   5.3                 \n",
       "206   0.0         0.0                   0.0                 \n",
       "207   0.0         0.0                   0.0                 \n",
       "208   0.0         0.0                   0.0                 \n",
       "209   5.3         0.0                   5.3                 \n",
       "210   0.0         0.0                   0.0                 \n",
       "211   0.0         0.0                   0.0                 \n",
       "212   0.0         0.0                   0.0                 \n",
       "213   0.0         0.0                   0.0                 \n",
       "214   0.0         0.0                   0.0                 \n",
       "215   0.0         0.0                   0.0                 \n",
       "216   0.0         0.0                   0.0                 \n",
       "217   0.0         0.0                   0.0                 \n",
       "218   0.0         0.0                   0.0                 \n",
       "219 116.7         0.0                 116.7                 \n",
       "220   0.0         0.0                   0.0                 \n",
       "221   0.0         0.0                   0.0                 \n",
       "222   0.0         0.0                   0.0                 \n",
       "223   0.0         0.0                   0.0                 \n",
       "224   0.0         0.0                   0.0                 \n",
       "225   0.0         0.0                   0.0                 \n",
       "226  44.4         0.0                  44.4                 \n",
       "227   0.0         0.0                   0.0                 \n",
       "228   0.0         0.0                   0.0                 \n",
       "229   0.0         0.0                   0.0                 \n",
       "230   0.0         0.0                   0.0                 \n",
       "231   0.0         0.0                   0.0                 \n",
       "232   0.0         0.0                   0.0                 \n",
       "233   0.0         0.0                   0.0                 \n",
       "234   0.0         0.0                   0.0                 \n",
       "    CVE.maxnpm_cve_oldness_pip_else_npm CVEDiff CVEPIPDiff CVEChangeCat\n",
       "1    0.00                               0       0          same        \n",
       "2    0.00                               0       0          same        \n",
       "3    0.00                               0       0          same        \n",
       "4    0.00                               0       0          same        \n",
       "5    0.00                               0       0          same        \n",
       "6    0.00                               0       0          same        \n",
       "7    0.00                               0       0          same        \n",
       "8    0.00                               0       0          same        \n",
       "9    0.00                               0       0          same        \n",
       "10   0.00                               0       0          same        \n",
       "11   0.00                               0       0          same        \n",
       "12   0.00                               0       0          same        \n",
       "13   0.00                               0       0          same        \n",
       "14   5.60                               0       0          same        \n",
       "15   5.45                               0       0          same        \n",
       "16   0.00                               0       0          same        \n",
       "17   0.00                               0       0          same        \n",
       "18   0.00                               0       0          same        \n",
       "19  14.50                               0       0          same        \n",
       "20   0.00                               0       0          same        \n",
       "21   0.00                               0       0          same        \n",
       "22   0.00                               0       0          same        \n",
       "23   0.00                               0       0          same        \n",
       "24   0.00                               0       0          same        \n",
       "25   0.00                               0       0          same        \n",
       "26   0.00                               0       0          same        \n",
       "27   0.00                               0       0          same        \n",
       "28   0.00                               0       0          same        \n",
       "29   5.30                               0       0          same        \n",
       "30   0.00                               0       0          same        \n",
       "⋮   ⋮                                   ⋮       ⋮          ⋮           \n",
       "205   5.3                               0        0         same        \n",
       "206   0.0                               0        0         same        \n",
       "207   0.0                               0        0         same        \n",
       "208   0.0                               0        0         same        \n",
       "209   5.3                               0        0         same        \n",
       "210   0.0                               0        0         same        \n",
       "211   0.0                               0        0         same        \n",
       "212    NA                               0       NA         same        \n",
       "213   0.0                               0        0         same        \n",
       "214   0.0                               0        0         same        \n",
       "215   0.0                               0        0         same        \n",
       "216   0.0                               0        0         same        \n",
       "217   0.0                               0        0         same        \n",
       "218   0.0                               0        0         same        \n",
       "219 116.7                               0        0         same        \n",
       "220   0.0                               0        0         same        \n",
       "221   0.0                               0        0         same        \n",
       "222   0.0                               0        0         same        \n",
       "223   0.0                               0        0         same        \n",
       "224   0.0                               0        0         same        \n",
       "225   0.0                               0        0         same        \n",
       "226  44.4                               0        0         same        \n",
       "227   0.0                               0        0         same        \n",
       "228   0.0                               0        0         same        \n",
       "229   0.0                               0        0         same        \n",
       "230   0.0                               0        0         same        \n",
       "231   0.0                               0        0         same        \n",
       "232   0.0                               0        0         same        \n",
       "233   0.0                               0        0         same        \n",
       "234   0.0                               0        0         same        \n",
       "    CVEPIPChangeCat\n",
       "1   same           \n",
       "2   same           \n",
       "3   same           \n",
       "4   same           \n",
       "5   same           \n",
       "6   same           \n",
       "7   same           \n",
       "8   same           \n",
       "9   same           \n",
       "10  same           \n",
       "11  same           \n",
       "12  same           \n",
       "13  same           \n",
       "14  same           \n",
       "15  same           \n",
       "16  same           \n",
       "17  same           \n",
       "18  same           \n",
       "19  same           \n",
       "20  same           \n",
       "21  same           \n",
       "22  same           \n",
       "23  same           \n",
       "24  same           \n",
       "25  same           \n",
       "26  same           \n",
       "27  same           \n",
       "28  same           \n",
       "29  same           \n",
       "30  same           \n",
       "⋮   ⋮              \n",
       "205 same           \n",
       "206 same           \n",
       "207 same           \n",
       "208 same           \n",
       "209 same           \n",
       "210 same           \n",
       "211 same           \n",
       "212 NA             \n",
       "213 same           \n",
       "214 same           \n",
       "215 same           \n",
       "216 same           \n",
       "217 same           \n",
       "218 same           \n",
       "219 same           \n",
       "220 same           \n",
       "221 same           \n",
       "222 same           \n",
       "223 same           \n",
       "224 same           \n",
       "225 same           \n",
       "226 same           \n",
       "227 same           \n",
       "228 same           \n",
       "229 same           \n",
       "230 same           \n",
       "231 same           \n",
       "232 same           \n",
       "233 same           \n",
       "234 same           "
      ]
     },
     "metadata": {},
     "output_type": "display_data"
    }
   ],
   "source": [
    "CVEDiff %>% filter(`CVE.maxnpm_cve_oldness` == `CVE.vanilla`)"
   ]
  },
  {
   "cell_type": "markdown",
   "metadata": {},
   "source": [
    "## Statistical Tests"
   ]
  },
  {
   "cell_type": "code",
   "execution_count": 35,
   "metadata": {
    "vscode": {
     "languageId": "r"
    }
   },
   "outputs": [
    {
     "data": {
      "text/html": [
       "30.5095153020806"
      ],
      "text/latex": [
       "30.5095153020806"
      ],
      "text/markdown": [
       "30.5095153020806"
      ],
      "text/plain": [
       "[1] 30.50952"
      ]
     },
     "metadata": {},
     "output_type": "display_data"
    }
   ],
   "source": [
    "# Mean percent improvement\n",
    "perc_improvements <- (CVEDiff$`CVE.audit fix` - CVEDiff$CVE.maxnpm_cve_oldness) / CVEDiff$`CVE.audit fix`\n",
    "perc_improvements[is.na(perc_improvements)] <- 0\n",
    "mean(perc_improvements) * 100"
   ]
  },
  {
   "cell_type": "code",
   "execution_count": 36,
   "metadata": {
    "vscode": {
     "languageId": "r"
    }
   },
   "outputs": [
    {
     "data": {
      "text/plain": [
       "\n",
       "\tShapiro-Wilk normality test\n",
       "\n",
       "data:  CVEDiff$`CVE.audit fix`\n",
       "W = 0.40206, p-value < 2.2e-16\n"
      ]
     },
     "metadata": {},
     "output_type": "display_data"
    },
    {
     "data": {
      "text/plain": [
       "\n",
       "\tShapiro-Wilk normality test\n",
       "\n",
       "data:  CVEDiff$CVE.maxnpm_cve_oldness\n",
       "W = 0.26915, p-value < 2.2e-16\n"
      ]
     },
     "metadata": {},
     "output_type": "display_data"
    }
   ],
   "source": [
    "shapiro.test(CVEDiff$`CVE.audit fix`)\n",
    "shapiro.test(CVEDiff$CVE.maxnpm_cve_oldness)"
   ]
  },
  {
   "cell_type": "markdown",
   "metadata": {},
   "source": [
    "They aren't normally distributed, so we do Wilcoxon signed rank test"
   ]
  },
  {
   "cell_type": "code",
   "execution_count": 37,
   "metadata": {
    "vscode": {
     "languageId": "r"
    }
   },
   "outputs": [
    {
     "data": {
      "text/plain": [
       "\n",
       "\tWilcoxon signed rank test with continuity correction\n",
       "\n",
       "data:  CVEDiff$`CVE.audit fix` and CVEDiff$CVE.maxnpm_cve_oldness\n",
       "V = 28230, p-value < 2.2e-16\n",
       "alternative hypothesis: true location shift is greater than 0\n"
      ]
     },
     "metadata": {},
     "output_type": "display_data"
    }
   ],
   "source": [
    "wilcox.test(CVEDiff$`CVE.audit fix`, CVEDiff$CVE.maxnpm_cve_oldness, paired = TRUE, alternative = \"greater\")"
   ]
  },
  {
   "cell_type": "markdown",
   "metadata": {},
   "source": [
    "So, `CVEDiff$CVE.maxnpm_cve_oldness` is statistically smaller!"
   ]
  },
  {
   "cell_type": "code",
   "execution_count": 38,
   "metadata": {
    "vscode": {
     "languageId": "r"
    }
   },
   "outputs": [
    {
     "data": {
      "text/html": [
       "0.4584650797983"
      ],
      "text/latex": [
       "0.4584650797983"
      ],
      "text/markdown": [
       "0.4584650797983"
      ],
      "text/plain": [
       "[1] 0.4584651"
      ]
     },
     "metadata": {},
     "output_type": "display_data"
    }
   ],
   "source": [
    "cohensD(CVEDiff$`CVE.audit fix`, CVEDiff$CVE.maxnpm_cve_oldness)"
   ]
  },
  {
   "cell_type": "markdown",
   "metadata": {},
   "source": [
    "## Main Results"
   ]
  },
  {
   "cell_type": "code",
   "execution_count": 30,
   "metadata": {
    "execution": {
     "iopub.execute_input": "2022-09-01T20:11:13.805376Z",
     "iopub.status.busy": "2022-09-01T20:11:13.804968Z",
     "iopub.status.idle": "2022-09-01T20:11:13.827639Z",
     "shell.execute_reply": "2022-09-01T20:11:13.827066Z"
    },
    "vscode": {
     "languageId": "r"
    }
   },
   "outputs": [],
   "source": [
    "total_count <- nrow(CVEDiff)\n",
    "all_ok_count <- nrow(CVEDiff %>% filter(!is.na(CVEDiff)))\n",
    "maxnpm_better_count <- nrow(CVEDiff %>% filter(CVEDiff > 0))\n",
    "maxnpm_same_count <- nrow(CVEDiff %>% filter(CVEDiff == 0))\n",
    "maxnpm_worse_count <- nrow(CVEDiff %>% filter(CVEDiff < 0))\n",
    "fixed_all_vulns_count <- nrow(CVEDiff %>% filter(`CVE.audit fix` > 0) %>% filter(`CVE.maxnpm_cve_oldness` == 0))\n",
    "cve_diff_mean <- mean(CVEDiff$CVEDiff, na.rm=T)\n",
    "all_ok_perc <- all_ok_count / total_count\n",
    "maxnpm_better_total_perc <- maxnpm_better_count / total_count\n",
    "maxnpm_better_ok_perc <- maxnpm_better_count / all_ok_count\n",
    "\n",
    "write(\n",
    "  str_c(\"\\\\newcommand{\\\\dataCveExpTotalCount}{\", \n",
    "        total_count,\n",
    "        \"}\\n\"),\n",
    "  results_tex, append=TRUE)\n",
    "write(\n",
    "  str_c(\"\\\\newcommand{\\\\dataCveExpSuccessCount}{\", \n",
    "        all_ok_count,\n",
    "        \"}\\n\"),\n",
    "  results_tex, append=TRUE)\n",
    "write(\n",
    "  str_c(\"\\\\newcommand{\\\\dataCveExpMaxNpmBetterCount}{\", \n",
    "        maxnpm_better_count,\n",
    "        \"}\\n\"),\n",
    "  results_tex, append=TRUE)\n",
    "write(\n",
    "  str_c(\"\\\\newcommand{\\\\dataCveExpMaxNpmSameCount}{\", \n",
    "        maxnpm_same_count,\n",
    "        \"}\\n\"),\n",
    "  results_tex, append=TRUE)\n",
    "write(\n",
    "  str_c(\"\\\\newcommand{\\\\dataCveExpMaxNpmWorseCount}{\", \n",
    "        maxnpm_worse_count,\n",
    "        \"}\\n\"),\n",
    "  results_tex, append=TRUE)\n",
    "write(\n",
    "  str_c(\"\\\\newcommand{\\\\dataCveExpMeanCveDiff}{\", \n",
    "        round(cve_diff_mean, 2),\n",
    "        \"}\\n\"),\n",
    "  results_tex, append=TRUE)\n",
    "write(\n",
    "  str_c(\"\\\\newcommand{\\\\dataCveExpSuccessPerc}{\", \n",
    "        round(100 * all_ok_perc),\n",
    "        \"\\\\%}\\n\"),\n",
    "  results_tex, append=TRUE)\n",
    "write(\n",
    "  str_c(\"\\\\newcommand{\\\\dataCveExpMaxNpmBetterTotalPerc}{\", \n",
    "        round(100 * maxnpm_better_total_perc),\n",
    "        \"\\\\%}\\n\"),\n",
    "  results_tex, append=TRUE)\n",
    "write(\n",
    "  str_c(\"\\\\newcommand{\\\\dataCveExpMaxNpmBetterSuccessPerc}{\", \n",
    "        round(100 * maxnpm_better_ok_perc),\n",
    "        \"\\\\%}\\n\"),\n",
    "  results_tex, append=TRUE)\n",
    "write(\n",
    "  str_c(\"\\\\newcommand{\\\\dataCveExpMaxNpmFixedCompletelyCount}{\", \n",
    "        fixed_all_vulns_count,\n",
    "        \"}\\n\"),\n",
    "  results_tex, append=TRUE)\n"
   ]
  },
  {
   "cell_type": "markdown",
   "metadata": {},
   "source": [
    "# These are the ones where MaxNPM did worse somehow?"
   ]
  },
  {
   "cell_type": "code",
   "execution_count": 20,
   "metadata": {
    "execution": {
     "iopub.execute_input": "2022-09-01T20:11:13.829860Z",
     "iopub.status.busy": "2022-09-01T20:11:13.829396Z",
     "iopub.status.idle": "2022-09-01T20:11:13.837682Z",
     "shell.execute_reply": "2022-09-01T20:11:13.837198Z"
    },
    "vscode": {
     "languageId": "r"
    }
   },
   "outputs": [
    {
     "data": {
      "text/html": [
       "<table class=\"dataframe\">\n",
       "<caption>A tibble: 1 × 11</caption>\n",
       "<thead>\n",
       "\t<tr><th scope=col>name</th><th scope=col>commit</th><th scope=col>CVE.vanilla</th><th scope=col>CVE.audit fix</th><th scope=col>CVE.audit fix force</th><th scope=col>CVE.maxnpm_cve_oldness</th><th scope=col>CVE.maxnpm_cve_oldness_pip_else_npm</th><th scope=col>CVEDiff</th><th scope=col>CVEPIPDiff</th><th scope=col>CVEChangeCat</th><th scope=col>CVEPIPChangeCat</th></tr>\n",
       "\t<tr><th scope=col>&lt;chr&gt;</th><th scope=col>&lt;chr&gt;</th><th scope=col>&lt;dbl&gt;</th><th scope=col>&lt;dbl&gt;</th><th scope=col>&lt;dbl&gt;</th><th scope=col>&lt;dbl&gt;</th><th scope=col>&lt;dbl&gt;</th><th scope=col>&lt;dbl&gt;</th><th scope=col>&lt;dbl&gt;</th><th scope=col>&lt;chr&gt;</th><th scope=col>&lt;chr&gt;</th></tr>\n",
       "</thead>\n",
       "<tbody>\n",
       "\t<tr><td>spreadable</td><td>0803fae</td><td>28.5</td><td>28.5</td><td>13.1</td><td>94.8</td><td>110.2</td><td>-66.3</td><td>-81.7</td><td>worse</td><td>worse</td></tr>\n",
       "</tbody>\n",
       "</table>\n"
      ],
      "text/latex": [
       "A tibble: 1 × 11\n",
       "\\begin{tabular}{lllllllllll}\n",
       " name & commit & CVE.vanilla & CVE.audit fix & CVE.audit fix force & CVE.maxnpm\\_cve\\_oldness & CVE.maxnpm\\_cve\\_oldness\\_pip\\_else\\_npm & CVEDiff & CVEPIPDiff & CVEChangeCat & CVEPIPChangeCat\\\\\n",
       " <chr> & <chr> & <dbl> & <dbl> & <dbl> & <dbl> & <dbl> & <dbl> & <dbl> & <chr> & <chr>\\\\\n",
       "\\hline\n",
       "\t spreadable & 0803fae & 28.5 & 28.5 & 13.1 & 94.8 & 110.2 & -66.3 & -81.7 & worse & worse\\\\\n",
       "\\end{tabular}\n"
      ],
      "text/markdown": [
       "\n",
       "A tibble: 1 × 11\n",
       "\n",
       "| name &lt;chr&gt; | commit &lt;chr&gt; | CVE.vanilla &lt;dbl&gt; | CVE.audit fix &lt;dbl&gt; | CVE.audit fix force &lt;dbl&gt; | CVE.maxnpm_cve_oldness &lt;dbl&gt; | CVE.maxnpm_cve_oldness_pip_else_npm &lt;dbl&gt; | CVEDiff &lt;dbl&gt; | CVEPIPDiff &lt;dbl&gt; | CVEChangeCat &lt;chr&gt; | CVEPIPChangeCat &lt;chr&gt; |\n",
       "|---|---|---|---|---|---|---|---|---|---|---|\n",
       "| spreadable | 0803fae | 28.5 | 28.5 | 13.1 | 94.8 | 110.2 | -66.3 | -81.7 | worse | worse |\n",
       "\n"
      ],
      "text/plain": [
       "  name       commit  CVE.vanilla CVE.audit fix CVE.audit fix force\n",
       "1 spreadable 0803fae 28.5        28.5          13.1               \n",
       "  CVE.maxnpm_cve_oldness CVE.maxnpm_cve_oldness_pip_else_npm CVEDiff CVEPIPDiff\n",
       "1 94.8                   110.2                               -66.3   -81.7     \n",
       "  CVEChangeCat CVEPIPChangeCat\n",
       "1 worse        worse          "
      ]
     },
     "metadata": {},
     "output_type": "display_data"
    }
   ],
   "source": [
    "CVEDiff %>% filter(CVEDiff < 0)"
   ]
  },
  {
   "cell_type": "markdown",
   "metadata": {},
   "source": [
    "# These are the ones where MaxNPM did the best"
   ]
  },
  {
   "cell_type": "code",
   "execution_count": 21,
   "metadata": {
    "execution": {
     "iopub.execute_input": "2022-09-01T20:11:13.839509Z",
     "iopub.status.busy": "2022-09-01T20:11:13.839129Z",
     "iopub.status.idle": "2022-09-01T20:11:13.880628Z",
     "shell.execute_reply": "2022-09-01T20:11:13.880081Z"
    },
    "vscode": {
     "languageId": "r"
    }
   },
   "outputs": [
    {
     "data": {
      "text/html": [
       "<table class=\"dataframe\">\n",
       "<caption>A tibble: 235 × 11</caption>\n",
       "<thead>\n",
       "\t<tr><th scope=col>name</th><th scope=col>commit</th><th scope=col>CVE.vanilla</th><th scope=col>CVE.audit fix</th><th scope=col>CVE.audit fix force</th><th scope=col>CVE.maxnpm_cve_oldness</th><th scope=col>CVE.maxnpm_cve_oldness_pip_else_npm</th><th scope=col>CVEDiff</th><th scope=col>CVEPIPDiff</th><th scope=col>CVEChangeCat</th><th scope=col>CVEPIPChangeCat</th></tr>\n",
       "\t<tr><th scope=col>&lt;chr&gt;</th><th scope=col>&lt;chr&gt;</th><th scope=col>&lt;dbl&gt;</th><th scope=col>&lt;dbl&gt;</th><th scope=col>&lt;dbl&gt;</th><th scope=col>&lt;dbl&gt;</th><th scope=col>&lt;dbl&gt;</th><th scope=col>&lt;dbl&gt;</th><th scope=col>&lt;dbl&gt;</th><th scope=col>&lt;chr&gt;</th><th scope=col>&lt;chr&gt;</th></tr>\n",
       "</thead>\n",
       "<tbody>\n",
       "\t<tr><td>node-db-migrate                     </td><td>0354de8  </td><td>434.85</td><td>434.85</td><td> 0.00</td><td> 0.00</td><td>    NA</td><td>434.85</td><td>   NA</td><td>better</td><td>NA    </td></tr>\n",
       "\t<tr><td>dgeni-packages                      </td><td>3c75243  </td><td>201.90</td><td>201.90</td><td> 7.50</td><td> 7.50</td><td>185.70</td><td>194.40</td><td>16.20</td><td>better</td><td>better</td></tr>\n",
       "\t<tr><td>grant                               </td><td>762badb  </td><td>259.60</td><td>259.60</td><td>94.30</td><td>81.35</td><td>204.25</td><td>178.25</td><td>55.35</td><td>better</td><td>better</td></tr>\n",
       "\t<tr><td>lockit-sql-adapter                  </td><td>b3171b3  </td><td>162.60</td><td>162.60</td><td> 0.00</td><td> 0.00</td><td>    NA</td><td>162.60</td><td>   NA</td><td>better</td><td>NA    </td></tr>\n",
       "\t<tr><td>storyboard                          </td><td>3c0fa91  </td><td>148.35</td><td>148.35</td><td> 0.00</td><td> 0.00</td><td>132.35</td><td>148.35</td><td>16.00</td><td>better</td><td>better</td></tr>\n",
       "\t<tr><td>gulp-typedoc                        </td><td>039d47b  </td><td>145.40</td><td>145.40</td><td> 0.00</td><td> 0.00</td><td>140.10</td><td>145.40</td><td> 5.30</td><td>better</td><td>better</td></tr>\n",
       "\t<tr><td>apidoc                              </td><td>0b5d254  </td><td>133.15</td><td>133.15</td><td> 0.00</td><td> 0.00</td><td>133.15</td><td>133.15</td><td> 0.00</td><td>better</td><td>same  </td></tr>\n",
       "\t<tr><td>release-it                          </td><td>0ae3e3c  </td><td>132.85</td><td>132.85</td><td>48.10</td><td> 3.70</td><td>132.85</td><td>129.15</td><td> 0.00</td><td>better</td><td>same  </td></tr>\n",
       "\t<tr><td>ui                                  </td><td>1de6835  </td><td>127.85</td><td>127.85</td><td> 7.50</td><td> 7.50</td><td>    NA</td><td>120.35</td><td>   NA</td><td>better</td><td>NA    </td></tr>\n",
       "\t<tr><td>lighthouse-ci                       </td><td>69c14fa  </td><td>114.60</td><td>114.60</td><td> 0.00</td><td> 0.00</td><td> 99.20</td><td>114.60</td><td>15.40</td><td>better</td><td>better</td></tr>\n",
       "\t<tr><td>composer-concerto                   </td><td>5da3e23  </td><td>109.55</td><td>109.55</td><td> 0.00</td><td> 0.00</td><td>109.55</td><td>109.55</td><td> 0.00</td><td>better</td><td>same  </td></tr>\n",
       "\t<tr><td>inline-critical                     </td><td>0668d89  </td><td>105.80</td><td>105.80</td><td> 7.50</td><td> 0.00</td><td> 98.30</td><td>105.80</td><td> 7.50</td><td>better</td><td>better</td></tr>\n",
       "\t<tr><td>eyeglass                            </td><td>36f32eb  </td><td>111.60</td><td>111.60</td><td> 7.50</td><td> 7.50</td><td>    NA</td><td>104.10</td><td>   NA</td><td>better</td><td>NA    </td></tr>\n",
       "\t<tr><td>zombie                              </td><td>004ae36  </td><td> 89.55</td><td> 89.55</td><td> 0.00</td><td> 0.00</td><td> 89.55</td><td> 89.55</td><td> 0.00</td><td>better</td><td>same  </td></tr>\n",
       "\t<tr><td>passport-saml                       </td><td>050ed13  </td><td> 94.70</td><td> 94.70</td><td> 6.50</td><td> 6.50</td><td> 86.20</td><td> 88.20</td><td> 8.50</td><td>better</td><td>better</td></tr>\n",
       "\t<tr><td>postman-request                     </td><td>03d903b  </td><td> 86.25</td><td> 86.25</td><td> 0.00</td><td> 0.00</td><td> 86.25</td><td> 86.25</td><td> 0.00</td><td>better</td><td>same  </td></tr>\n",
       "\t<tr><td>node-soap                           </td><td>2a44d2a  </td><td> 96.05</td><td> 96.05</td><td> 9.80</td><td> 9.80</td><td> 96.05</td><td> 86.25</td><td> 0.00</td><td>better</td><td>same  </td></tr>\n",
       "\t<tr><td>strong-soap                         </td><td>2e557dd  </td><td> 96.05</td><td> 96.05</td><td> 9.80</td><td> 9.80</td><td> 96.05</td><td> 86.25</td><td> 0.00</td><td>better</td><td>same  </td></tr>\n",
       "\t<tr><td>react-native-code-push              </td><td>02d8677  </td><td> 83.10</td><td> 83.10</td><td> 0.00</td><td> 0.00</td><td> 83.10</td><td> 83.10</td><td> 0.00</td><td>better</td><td>same  </td></tr>\n",
       "\t<tr><td>node-convict                        </td><td>2bdfa24  </td><td> 80.10</td><td> 80.10</td><td> 0.00</td><td> 0.00</td><td> 80.10</td><td> 80.10</td><td> 0.00</td><td>better</td><td>same  </td></tr>\n",
       "\t<tr><td>node-wpapi                          </td><td>69d18fb  </td><td> 74.30</td><td> 74.30</td><td> 0.00</td><td> 0.00</td><td> 64.80</td><td> 74.30</td><td> 9.50</td><td>better</td><td>better</td></tr>\n",
       "\t<tr><td>bodiless-js                         </td><td>03d52f9  </td><td> 83.90</td><td> 83.90</td><td>10.40</td><td>10.40</td><td> 83.90</td><td> 73.50</td><td> 0.00</td><td>better</td><td>same  </td></tr>\n",
       "\t<tr><td>tar-pack                            </td><td>217ed0b  </td><td> 73.00</td><td> 73.00</td><td> 0.00</td><td> 0.00</td><td> 73.00</td><td> 73.00</td><td> 0.00</td><td>better</td><td>same  </td></tr>\n",
       "\t<tr><td>github-stream                       </td><td>9d47643  </td><td> 71.00</td><td> 71.00</td><td> 0.00</td><td> 0.00</td><td> 71.00</td><td> 71.00</td><td> 0.00</td><td>better</td><td>same  </td></tr>\n",
       "\t<tr><td>cabbie                              </td><td>3b9a4b7  </td><td> 83.00</td><td> 83.00</td><td>12.55</td><td>12.55</td><td> 83.00</td><td> 70.45</td><td> 0.00</td><td>better</td><td>same  </td></tr>\n",
       "\t<tr><td>jupyterlab-cognos-dashboard-embedded</td><td>2ef647f  </td><td> 69.70</td><td> 69.70</td><td> 0.00</td><td> 0.00</td><td> 69.70</td><td> 69.70</td><td> 0.00</td><td>better</td><td>same  </td></tr>\n",
       "\t<tr><td>commitlint                          </td><td>05c1f61  </td><td> 69.00</td><td> 69.00</td><td> 0.00</td><td> 0.00</td><td> 61.70</td><td> 69.00</td><td> 7.30</td><td>better</td><td>better</td></tr>\n",
       "\t<tr><td>conventional-changelog              </td><td>4c7ec38  </td><td> 67.30</td><td> 67.30</td><td>22.90</td><td> 0.00</td><td> 44.40</td><td> 67.30</td><td>22.90</td><td>better</td><td>better</td></tr>\n",
       "\t<tr><td>moleculer-web                       </td><td>0ef0e5c  </td><td> 61.80</td><td> 61.80</td><td> 2.00</td><td> 0.00</td><td> 61.80</td><td> 61.80</td><td> 0.00</td><td>better</td><td>same  </td></tr>\n",
       "\t<tr><td>babel                               </td><td>5b09114b8</td><td> 59.40</td><td> 59.40</td><td> 7.50</td><td> 0.00</td><td> 51.90</td><td> 59.40</td><td> 7.50</td><td>better</td><td>better</td></tr>\n",
       "\t<tr><td>⋮</td><td>⋮</td><td>⋮</td><td>⋮</td><td>⋮</td><td>⋮</td><td>⋮</td><td>⋮</td><td>⋮</td><td>⋮</td><td>⋮</td></tr>\n",
       "\t<tr><td>node-cli-base            </td><td>a9e05c9</td><td>5.3</td><td>5.3</td><td>0.0</td><td>0</td><td>5.3</td><td>5.3</td><td>0.0</td><td>better</td><td>same  </td></tr>\n",
       "\t<tr><td>postcss-colors-only      </td><td>2d77d5d</td><td>5.3</td><td>5.3</td><td>0.0</td><td>0</td><td>5.3</td><td>5.3</td><td>0.0</td><td>better</td><td>same  </td></tr>\n",
       "\t<tr><td>postcss-input-style      </td><td>24d86ef</td><td>5.3</td><td>5.3</td><td>0.0</td><td>0</td><td>5.3</td><td>5.3</td><td>0.0</td><td>better</td><td>same  </td></tr>\n",
       "\t<tr><td>postcss-opacity          </td><td>3dae717</td><td>5.3</td><td>5.3</td><td>0.0</td><td>0</td><td>5.3</td><td>5.3</td><td>0.0</td><td>better</td><td>same  </td></tr>\n",
       "\t<tr><td>jest-ratchet             </td><td>4afc61c</td><td>5.3</td><td>5.3</td><td>0.0</td><td>0</td><td>5.3</td><td>5.3</td><td>0.0</td><td>better</td><td>same  </td></tr>\n",
       "\t<tr><td>saladcss-bem             </td><td>280fcc4</td><td>5.3</td><td>5.3</td><td>0.0</td><td>0</td><td>5.3</td><td>5.3</td><td>0.0</td><td>better</td><td>same  </td></tr>\n",
       "\t<tr><td>less-plugin-autoprefix   </td><td>0004d46</td><td>5.3</td><td>5.3</td><td>0.0</td><td>0</td><td>5.3</td><td>5.3</td><td>0.0</td><td>better</td><td>same  </td></tr>\n",
       "\t<tr><td>postcss-extend           </td><td>985cbae</td><td>5.3</td><td>5.3</td><td>0.0</td><td>0</td><td>5.3</td><td>5.3</td><td>0.0</td><td>better</td><td>same  </td></tr>\n",
       "\t<tr><td>bocha                    </td><td>0789c01</td><td>5.3</td><td>5.3</td><td>0.0</td><td>0</td><td>5.3</td><td>5.3</td><td>0.0</td><td>better</td><td>same  </td></tr>\n",
       "\t<tr><td>electrode-bundle-analyzer</td><td>54e5098</td><td>5.3</td><td>5.3</td><td>0.0</td><td>0</td><td>5.3</td><td>5.3</td><td>0.0</td><td>better</td><td>same  </td></tr>\n",
       "\t<tr><td>criticalcss              </td><td>1cd2dc8</td><td>5.3</td><td>5.3</td><td>0.0</td><td>0</td><td>5.3</td><td>5.3</td><td>0.0</td><td>better</td><td>same  </td></tr>\n",
       "\t<tr><td>bids-validator           </td><td>8bdbf67</td><td>5.3</td><td>5.3</td><td>0.0</td><td>0</td><td>5.3</td><td>5.3</td><td>0.0</td><td>better</td><td>same  </td></tr>\n",
       "\t<tr><td>postcss-clearfix         </td><td>2206379</td><td>5.3</td><td>5.3</td><td>0.0</td><td>0</td><td>5.3</td><td>5.3</td><td>0.0</td><td>better</td><td>same  </td></tr>\n",
       "\t<tr><td>inline-import            </td><td>7bf9f6b</td><td>5.3</td><td>5.3</td><td>0.0</td><td>0</td><td>5.3</td><td>5.3</td><td>0.0</td><td>better</td><td>same  </td></tr>\n",
       "\t<tr><td>H5P-Nodejs-library       </td><td>e3ed81e</td><td>5.3</td><td>5.3</td><td>5.3</td><td>0</td><td>0.0</td><td>5.3</td><td>5.3</td><td>better</td><td>better</td></tr>\n",
       "\t<tr><td>postcss-for              </td><td>6f2c8b9</td><td>5.3</td><td>5.3</td><td>0.0</td><td>0</td><td>5.3</td><td>5.3</td><td>0.0</td><td>better</td><td>same  </td></tr>\n",
       "\t<tr><td>postcss-safe-area-inset  </td><td>6dd0567</td><td>5.3</td><td>5.3</td><td>0.0</td><td>0</td><td>5.3</td><td>5.3</td><td>0.0</td><td>better</td><td>same  </td></tr>\n",
       "\t<tr><td>css-color-extractor      </td><td>50b1ce1</td><td>5.3</td><td>5.3</td><td>0.0</td><td>0</td><td>5.3</td><td>5.3</td><td>0.0</td><td>better</td><td>same  </td></tr>\n",
       "\t<tr><td>css-scss                 </td><td>4017274</td><td>5.3</td><td>5.3</td><td>0.0</td><td>0</td><td>5.3</td><td>5.3</td><td>0.0</td><td>better</td><td>same  </td></tr>\n",
       "\t<tr><td>postcss-plugin-px2rem    </td><td>8e84247</td><td>5.3</td><td>5.3</td><td>0.0</td><td>0</td><td>5.3</td><td>5.3</td><td>0.0</td><td>better</td><td>same  </td></tr>\n",
       "\t<tr><td>postcss-neat             </td><td>10aba1f</td><td>5.3</td><td>5.3</td><td>0.0</td><td>0</td><td>5.3</td><td>5.3</td><td>0.0</td><td>better</td><td>same  </td></tr>\n",
       "\t<tr><td>ink-router               </td><td>1a28733</td><td>5.3</td><td>5.3</td><td>0.0</td><td>0</td><td>5.3</td><td>5.3</td><td>0.0</td><td>better</td><td>same  </td></tr>\n",
       "\t<tr><td>plugin-argv              </td><td>5f1c61d</td><td>5.3</td><td>5.3</td><td>0.0</td><td>0</td><td>5.3</td><td>5.3</td><td>0.0</td><td>better</td><td>same  </td></tr>\n",
       "\t<tr><td>loopback4-authentication </td><td>07363de</td><td>4.8</td><td>4.8</td><td>0.0</td><td>0</td><td>4.8</td><td>4.8</td><td>0.0</td><td>better</td><td>same  </td></tr>\n",
       "\t<tr><td>node-exif                </td><td>7dbb55f</td><td>2.0</td><td>2.0</td><td>0.0</td><td>0</td><td>2.0</td><td>2.0</td><td>0.0</td><td>better</td><td>same  </td></tr>\n",
       "\t<tr><td>node-rest-client         </td><td>082c3ff</td><td>2.0</td><td>2.0</td><td>0.0</td><td>0</td><td>2.0</td><td>2.0</td><td>0.0</td><td>better</td><td>same  </td></tr>\n",
       "\t<tr><td>remit                    </td><td>03acca6</td><td>2.0</td><td>2.0</td><td>0.0</td><td>0</td><td>2.0</td><td>2.0</td><td>0.0</td><td>better</td><td>same  </td></tr>\n",
       "\t<tr><td>gm                       </td><td>2fb65ba</td><td>2.0</td><td>2.0</td><td>0.0</td><td>0</td><td>2.0</td><td>2.0</td><td>0.0</td><td>better</td><td>same  </td></tr>\n",
       "\t<tr><td>socket.io-parser         </td><td>009188f</td><td>2.0</td><td>2.0</td><td>0.0</td><td>0</td><td>2.0</td><td>2.0</td><td>0.0</td><td>better</td><td>same  </td></tr>\n",
       "\t<tr><td>js-html                  </td><td>02fcbe3</td><td>2.0</td><td>2.0</td><td>0.0</td><td>0</td><td>2.0</td><td>2.0</td><td>0.0</td><td>better</td><td>same  </td></tr>\n",
       "</tbody>\n",
       "</table>\n"
      ],
      "text/latex": [
       "A tibble: 235 × 11\n",
       "\\begin{tabular}{lllllllllll}\n",
       " name & commit & CVE.vanilla & CVE.audit fix & CVE.audit fix force & CVE.maxnpm\\_cve\\_oldness & CVE.maxnpm\\_cve\\_oldness\\_pip\\_else\\_npm & CVEDiff & CVEPIPDiff & CVEChangeCat & CVEPIPChangeCat\\\\\n",
       " <chr> & <chr> & <dbl> & <dbl> & <dbl> & <dbl> & <dbl> & <dbl> & <dbl> & <chr> & <chr>\\\\\n",
       "\\hline\n",
       "\t node-db-migrate                      & 0354de8   & 434.85 & 434.85 &  0.00 &  0.00 &     NA & 434.85 &    NA & better & NA    \\\\\n",
       "\t dgeni-packages                       & 3c75243   & 201.90 & 201.90 &  7.50 &  7.50 & 185.70 & 194.40 & 16.20 & better & better\\\\\n",
       "\t grant                                & 762badb   & 259.60 & 259.60 & 94.30 & 81.35 & 204.25 & 178.25 & 55.35 & better & better\\\\\n",
       "\t lockit-sql-adapter                   & b3171b3   & 162.60 & 162.60 &  0.00 &  0.00 &     NA & 162.60 &    NA & better & NA    \\\\\n",
       "\t storyboard                           & 3c0fa91   & 148.35 & 148.35 &  0.00 &  0.00 & 132.35 & 148.35 & 16.00 & better & better\\\\\n",
       "\t gulp-typedoc                         & 039d47b   & 145.40 & 145.40 &  0.00 &  0.00 & 140.10 & 145.40 &  5.30 & better & better\\\\\n",
       "\t apidoc                               & 0b5d254   & 133.15 & 133.15 &  0.00 &  0.00 & 133.15 & 133.15 &  0.00 & better & same  \\\\\n",
       "\t release-it                           & 0ae3e3c   & 132.85 & 132.85 & 48.10 &  3.70 & 132.85 & 129.15 &  0.00 & better & same  \\\\\n",
       "\t ui                                   & 1de6835   & 127.85 & 127.85 &  7.50 &  7.50 &     NA & 120.35 &    NA & better & NA    \\\\\n",
       "\t lighthouse-ci                        & 69c14fa   & 114.60 & 114.60 &  0.00 &  0.00 &  99.20 & 114.60 & 15.40 & better & better\\\\\n",
       "\t composer-concerto                    & 5da3e23   & 109.55 & 109.55 &  0.00 &  0.00 & 109.55 & 109.55 &  0.00 & better & same  \\\\\n",
       "\t inline-critical                      & 0668d89   & 105.80 & 105.80 &  7.50 &  0.00 &  98.30 & 105.80 &  7.50 & better & better\\\\\n",
       "\t eyeglass                             & 36f32eb   & 111.60 & 111.60 &  7.50 &  7.50 &     NA & 104.10 &    NA & better & NA    \\\\\n",
       "\t zombie                               & 004ae36   &  89.55 &  89.55 &  0.00 &  0.00 &  89.55 &  89.55 &  0.00 & better & same  \\\\\n",
       "\t passport-saml                        & 050ed13   &  94.70 &  94.70 &  6.50 &  6.50 &  86.20 &  88.20 &  8.50 & better & better\\\\\n",
       "\t postman-request                      & 03d903b   &  86.25 &  86.25 &  0.00 &  0.00 &  86.25 &  86.25 &  0.00 & better & same  \\\\\n",
       "\t node-soap                            & 2a44d2a   &  96.05 &  96.05 &  9.80 &  9.80 &  96.05 &  86.25 &  0.00 & better & same  \\\\\n",
       "\t strong-soap                          & 2e557dd   &  96.05 &  96.05 &  9.80 &  9.80 &  96.05 &  86.25 &  0.00 & better & same  \\\\\n",
       "\t react-native-code-push               & 02d8677   &  83.10 &  83.10 &  0.00 &  0.00 &  83.10 &  83.10 &  0.00 & better & same  \\\\\n",
       "\t node-convict                         & 2bdfa24   &  80.10 &  80.10 &  0.00 &  0.00 &  80.10 &  80.10 &  0.00 & better & same  \\\\\n",
       "\t node-wpapi                           & 69d18fb   &  74.30 &  74.30 &  0.00 &  0.00 &  64.80 &  74.30 &  9.50 & better & better\\\\\n",
       "\t bodiless-js                          & 03d52f9   &  83.90 &  83.90 & 10.40 & 10.40 &  83.90 &  73.50 &  0.00 & better & same  \\\\\n",
       "\t tar-pack                             & 217ed0b   &  73.00 &  73.00 &  0.00 &  0.00 &  73.00 &  73.00 &  0.00 & better & same  \\\\\n",
       "\t github-stream                        & 9d47643   &  71.00 &  71.00 &  0.00 &  0.00 &  71.00 &  71.00 &  0.00 & better & same  \\\\\n",
       "\t cabbie                               & 3b9a4b7   &  83.00 &  83.00 & 12.55 & 12.55 &  83.00 &  70.45 &  0.00 & better & same  \\\\\n",
       "\t jupyterlab-cognos-dashboard-embedded & 2ef647f   &  69.70 &  69.70 &  0.00 &  0.00 &  69.70 &  69.70 &  0.00 & better & same  \\\\\n",
       "\t commitlint                           & 05c1f61   &  69.00 &  69.00 &  0.00 &  0.00 &  61.70 &  69.00 &  7.30 & better & better\\\\\n",
       "\t conventional-changelog               & 4c7ec38   &  67.30 &  67.30 & 22.90 &  0.00 &  44.40 &  67.30 & 22.90 & better & better\\\\\n",
       "\t moleculer-web                        & 0ef0e5c   &  61.80 &  61.80 &  2.00 &  0.00 &  61.80 &  61.80 &  0.00 & better & same  \\\\\n",
       "\t babel                                & 5b09114b8 &  59.40 &  59.40 &  7.50 &  0.00 &  51.90 &  59.40 &  7.50 & better & better\\\\\n",
       "\t ⋮ & ⋮ & ⋮ & ⋮ & ⋮ & ⋮ & ⋮ & ⋮ & ⋮ & ⋮ & ⋮\\\\\n",
       "\t node-cli-base             & a9e05c9 & 5.3 & 5.3 & 0.0 & 0 & 5.3 & 5.3 & 0.0 & better & same  \\\\\n",
       "\t postcss-colors-only       & 2d77d5d & 5.3 & 5.3 & 0.0 & 0 & 5.3 & 5.3 & 0.0 & better & same  \\\\\n",
       "\t postcss-input-style       & 24d86ef & 5.3 & 5.3 & 0.0 & 0 & 5.3 & 5.3 & 0.0 & better & same  \\\\\n",
       "\t postcss-opacity           & 3dae717 & 5.3 & 5.3 & 0.0 & 0 & 5.3 & 5.3 & 0.0 & better & same  \\\\\n",
       "\t jest-ratchet              & 4afc61c & 5.3 & 5.3 & 0.0 & 0 & 5.3 & 5.3 & 0.0 & better & same  \\\\\n",
       "\t saladcss-bem              & 280fcc4 & 5.3 & 5.3 & 0.0 & 0 & 5.3 & 5.3 & 0.0 & better & same  \\\\\n",
       "\t less-plugin-autoprefix    & 0004d46 & 5.3 & 5.3 & 0.0 & 0 & 5.3 & 5.3 & 0.0 & better & same  \\\\\n",
       "\t postcss-extend            & 985cbae & 5.3 & 5.3 & 0.0 & 0 & 5.3 & 5.3 & 0.0 & better & same  \\\\\n",
       "\t bocha                     & 0789c01 & 5.3 & 5.3 & 0.0 & 0 & 5.3 & 5.3 & 0.0 & better & same  \\\\\n",
       "\t electrode-bundle-analyzer & 54e5098 & 5.3 & 5.3 & 0.0 & 0 & 5.3 & 5.3 & 0.0 & better & same  \\\\\n",
       "\t criticalcss               & 1cd2dc8 & 5.3 & 5.3 & 0.0 & 0 & 5.3 & 5.3 & 0.0 & better & same  \\\\\n",
       "\t bids-validator            & 8bdbf67 & 5.3 & 5.3 & 0.0 & 0 & 5.3 & 5.3 & 0.0 & better & same  \\\\\n",
       "\t postcss-clearfix          & 2206379 & 5.3 & 5.3 & 0.0 & 0 & 5.3 & 5.3 & 0.0 & better & same  \\\\\n",
       "\t inline-import             & 7bf9f6b & 5.3 & 5.3 & 0.0 & 0 & 5.3 & 5.3 & 0.0 & better & same  \\\\\n",
       "\t H5P-Nodejs-library        & e3ed81e & 5.3 & 5.3 & 5.3 & 0 & 0.0 & 5.3 & 5.3 & better & better\\\\\n",
       "\t postcss-for               & 6f2c8b9 & 5.3 & 5.3 & 0.0 & 0 & 5.3 & 5.3 & 0.0 & better & same  \\\\\n",
       "\t postcss-safe-area-inset   & 6dd0567 & 5.3 & 5.3 & 0.0 & 0 & 5.3 & 5.3 & 0.0 & better & same  \\\\\n",
       "\t css-color-extractor       & 50b1ce1 & 5.3 & 5.3 & 0.0 & 0 & 5.3 & 5.3 & 0.0 & better & same  \\\\\n",
       "\t css-scss                  & 4017274 & 5.3 & 5.3 & 0.0 & 0 & 5.3 & 5.3 & 0.0 & better & same  \\\\\n",
       "\t postcss-plugin-px2rem     & 8e84247 & 5.3 & 5.3 & 0.0 & 0 & 5.3 & 5.3 & 0.0 & better & same  \\\\\n",
       "\t postcss-neat              & 10aba1f & 5.3 & 5.3 & 0.0 & 0 & 5.3 & 5.3 & 0.0 & better & same  \\\\\n",
       "\t ink-router                & 1a28733 & 5.3 & 5.3 & 0.0 & 0 & 5.3 & 5.3 & 0.0 & better & same  \\\\\n",
       "\t plugin-argv               & 5f1c61d & 5.3 & 5.3 & 0.0 & 0 & 5.3 & 5.3 & 0.0 & better & same  \\\\\n",
       "\t loopback4-authentication  & 07363de & 4.8 & 4.8 & 0.0 & 0 & 4.8 & 4.8 & 0.0 & better & same  \\\\\n",
       "\t node-exif                 & 7dbb55f & 2.0 & 2.0 & 0.0 & 0 & 2.0 & 2.0 & 0.0 & better & same  \\\\\n",
       "\t node-rest-client          & 082c3ff & 2.0 & 2.0 & 0.0 & 0 & 2.0 & 2.0 & 0.0 & better & same  \\\\\n",
       "\t remit                     & 03acca6 & 2.0 & 2.0 & 0.0 & 0 & 2.0 & 2.0 & 0.0 & better & same  \\\\\n",
       "\t gm                        & 2fb65ba & 2.0 & 2.0 & 0.0 & 0 & 2.0 & 2.0 & 0.0 & better & same  \\\\\n",
       "\t socket.io-parser          & 009188f & 2.0 & 2.0 & 0.0 & 0 & 2.0 & 2.0 & 0.0 & better & same  \\\\\n",
       "\t js-html                   & 02fcbe3 & 2.0 & 2.0 & 0.0 & 0 & 2.0 & 2.0 & 0.0 & better & same  \\\\\n",
       "\\end{tabular}\n"
      ],
      "text/markdown": [
       "\n",
       "A tibble: 235 × 11\n",
       "\n",
       "| name &lt;chr&gt; | commit &lt;chr&gt; | CVE.vanilla &lt;dbl&gt; | CVE.audit fix &lt;dbl&gt; | CVE.audit fix force &lt;dbl&gt; | CVE.maxnpm_cve_oldness &lt;dbl&gt; | CVE.maxnpm_cve_oldness_pip_else_npm &lt;dbl&gt; | CVEDiff &lt;dbl&gt; | CVEPIPDiff &lt;dbl&gt; | CVEChangeCat &lt;chr&gt; | CVEPIPChangeCat &lt;chr&gt; |\n",
       "|---|---|---|---|---|---|---|---|---|---|---|\n",
       "| node-db-migrate                      | 0354de8   | 434.85 | 434.85 |  0.00 |  0.00 |     NA | 434.85 |    NA | better | NA     |\n",
       "| dgeni-packages                       | 3c75243   | 201.90 | 201.90 |  7.50 |  7.50 | 185.70 | 194.40 | 16.20 | better | better |\n",
       "| grant                                | 762badb   | 259.60 | 259.60 | 94.30 | 81.35 | 204.25 | 178.25 | 55.35 | better | better |\n",
       "| lockit-sql-adapter                   | b3171b3   | 162.60 | 162.60 |  0.00 |  0.00 |     NA | 162.60 |    NA | better | NA     |\n",
       "| storyboard                           | 3c0fa91   | 148.35 | 148.35 |  0.00 |  0.00 | 132.35 | 148.35 | 16.00 | better | better |\n",
       "| gulp-typedoc                         | 039d47b   | 145.40 | 145.40 |  0.00 |  0.00 | 140.10 | 145.40 |  5.30 | better | better |\n",
       "| apidoc                               | 0b5d254   | 133.15 | 133.15 |  0.00 |  0.00 | 133.15 | 133.15 |  0.00 | better | same   |\n",
       "| release-it                           | 0ae3e3c   | 132.85 | 132.85 | 48.10 |  3.70 | 132.85 | 129.15 |  0.00 | better | same   |\n",
       "| ui                                   | 1de6835   | 127.85 | 127.85 |  7.50 |  7.50 |     NA | 120.35 |    NA | better | NA     |\n",
       "| lighthouse-ci                        | 69c14fa   | 114.60 | 114.60 |  0.00 |  0.00 |  99.20 | 114.60 | 15.40 | better | better |\n",
       "| composer-concerto                    | 5da3e23   | 109.55 | 109.55 |  0.00 |  0.00 | 109.55 | 109.55 |  0.00 | better | same   |\n",
       "| inline-critical                      | 0668d89   | 105.80 | 105.80 |  7.50 |  0.00 |  98.30 | 105.80 |  7.50 | better | better |\n",
       "| eyeglass                             | 36f32eb   | 111.60 | 111.60 |  7.50 |  7.50 |     NA | 104.10 |    NA | better | NA     |\n",
       "| zombie                               | 004ae36   |  89.55 |  89.55 |  0.00 |  0.00 |  89.55 |  89.55 |  0.00 | better | same   |\n",
       "| passport-saml                        | 050ed13   |  94.70 |  94.70 |  6.50 |  6.50 |  86.20 |  88.20 |  8.50 | better | better |\n",
       "| postman-request                      | 03d903b   |  86.25 |  86.25 |  0.00 |  0.00 |  86.25 |  86.25 |  0.00 | better | same   |\n",
       "| node-soap                            | 2a44d2a   |  96.05 |  96.05 |  9.80 |  9.80 |  96.05 |  86.25 |  0.00 | better | same   |\n",
       "| strong-soap                          | 2e557dd   |  96.05 |  96.05 |  9.80 |  9.80 |  96.05 |  86.25 |  0.00 | better | same   |\n",
       "| react-native-code-push               | 02d8677   |  83.10 |  83.10 |  0.00 |  0.00 |  83.10 |  83.10 |  0.00 | better | same   |\n",
       "| node-convict                         | 2bdfa24   |  80.10 |  80.10 |  0.00 |  0.00 |  80.10 |  80.10 |  0.00 | better | same   |\n",
       "| node-wpapi                           | 69d18fb   |  74.30 |  74.30 |  0.00 |  0.00 |  64.80 |  74.30 |  9.50 | better | better |\n",
       "| bodiless-js                          | 03d52f9   |  83.90 |  83.90 | 10.40 | 10.40 |  83.90 |  73.50 |  0.00 | better | same   |\n",
       "| tar-pack                             | 217ed0b   |  73.00 |  73.00 |  0.00 |  0.00 |  73.00 |  73.00 |  0.00 | better | same   |\n",
       "| github-stream                        | 9d47643   |  71.00 |  71.00 |  0.00 |  0.00 |  71.00 |  71.00 |  0.00 | better | same   |\n",
       "| cabbie                               | 3b9a4b7   |  83.00 |  83.00 | 12.55 | 12.55 |  83.00 |  70.45 |  0.00 | better | same   |\n",
       "| jupyterlab-cognos-dashboard-embedded | 2ef647f   |  69.70 |  69.70 |  0.00 |  0.00 |  69.70 |  69.70 |  0.00 | better | same   |\n",
       "| commitlint                           | 05c1f61   |  69.00 |  69.00 |  0.00 |  0.00 |  61.70 |  69.00 |  7.30 | better | better |\n",
       "| conventional-changelog               | 4c7ec38   |  67.30 |  67.30 | 22.90 |  0.00 |  44.40 |  67.30 | 22.90 | better | better |\n",
       "| moleculer-web                        | 0ef0e5c   |  61.80 |  61.80 |  2.00 |  0.00 |  61.80 |  61.80 |  0.00 | better | same   |\n",
       "| babel                                | 5b09114b8 |  59.40 |  59.40 |  7.50 |  0.00 |  51.90 |  59.40 |  7.50 | better | better |\n",
       "| ⋮ | ⋮ | ⋮ | ⋮ | ⋮ | ⋮ | ⋮ | ⋮ | ⋮ | ⋮ | ⋮ |\n",
       "| node-cli-base             | a9e05c9 | 5.3 | 5.3 | 0.0 | 0 | 5.3 | 5.3 | 0.0 | better | same   |\n",
       "| postcss-colors-only       | 2d77d5d | 5.3 | 5.3 | 0.0 | 0 | 5.3 | 5.3 | 0.0 | better | same   |\n",
       "| postcss-input-style       | 24d86ef | 5.3 | 5.3 | 0.0 | 0 | 5.3 | 5.3 | 0.0 | better | same   |\n",
       "| postcss-opacity           | 3dae717 | 5.3 | 5.3 | 0.0 | 0 | 5.3 | 5.3 | 0.0 | better | same   |\n",
       "| jest-ratchet              | 4afc61c | 5.3 | 5.3 | 0.0 | 0 | 5.3 | 5.3 | 0.0 | better | same   |\n",
       "| saladcss-bem              | 280fcc4 | 5.3 | 5.3 | 0.0 | 0 | 5.3 | 5.3 | 0.0 | better | same   |\n",
       "| less-plugin-autoprefix    | 0004d46 | 5.3 | 5.3 | 0.0 | 0 | 5.3 | 5.3 | 0.0 | better | same   |\n",
       "| postcss-extend            | 985cbae | 5.3 | 5.3 | 0.0 | 0 | 5.3 | 5.3 | 0.0 | better | same   |\n",
       "| bocha                     | 0789c01 | 5.3 | 5.3 | 0.0 | 0 | 5.3 | 5.3 | 0.0 | better | same   |\n",
       "| electrode-bundle-analyzer | 54e5098 | 5.3 | 5.3 | 0.0 | 0 | 5.3 | 5.3 | 0.0 | better | same   |\n",
       "| criticalcss               | 1cd2dc8 | 5.3 | 5.3 | 0.0 | 0 | 5.3 | 5.3 | 0.0 | better | same   |\n",
       "| bids-validator            | 8bdbf67 | 5.3 | 5.3 | 0.0 | 0 | 5.3 | 5.3 | 0.0 | better | same   |\n",
       "| postcss-clearfix          | 2206379 | 5.3 | 5.3 | 0.0 | 0 | 5.3 | 5.3 | 0.0 | better | same   |\n",
       "| inline-import             | 7bf9f6b | 5.3 | 5.3 | 0.0 | 0 | 5.3 | 5.3 | 0.0 | better | same   |\n",
       "| H5P-Nodejs-library        | e3ed81e | 5.3 | 5.3 | 5.3 | 0 | 0.0 | 5.3 | 5.3 | better | better |\n",
       "| postcss-for               | 6f2c8b9 | 5.3 | 5.3 | 0.0 | 0 | 5.3 | 5.3 | 0.0 | better | same   |\n",
       "| postcss-safe-area-inset   | 6dd0567 | 5.3 | 5.3 | 0.0 | 0 | 5.3 | 5.3 | 0.0 | better | same   |\n",
       "| css-color-extractor       | 50b1ce1 | 5.3 | 5.3 | 0.0 | 0 | 5.3 | 5.3 | 0.0 | better | same   |\n",
       "| css-scss                  | 4017274 | 5.3 | 5.3 | 0.0 | 0 | 5.3 | 5.3 | 0.0 | better | same   |\n",
       "| postcss-plugin-px2rem     | 8e84247 | 5.3 | 5.3 | 0.0 | 0 | 5.3 | 5.3 | 0.0 | better | same   |\n",
       "| postcss-neat              | 10aba1f | 5.3 | 5.3 | 0.0 | 0 | 5.3 | 5.3 | 0.0 | better | same   |\n",
       "| ink-router                | 1a28733 | 5.3 | 5.3 | 0.0 | 0 | 5.3 | 5.3 | 0.0 | better | same   |\n",
       "| plugin-argv               | 5f1c61d | 5.3 | 5.3 | 0.0 | 0 | 5.3 | 5.3 | 0.0 | better | same   |\n",
       "| loopback4-authentication  | 07363de | 4.8 | 4.8 | 0.0 | 0 | 4.8 | 4.8 | 0.0 | better | same   |\n",
       "| node-exif                 | 7dbb55f | 2.0 | 2.0 | 0.0 | 0 | 2.0 | 2.0 | 0.0 | better | same   |\n",
       "| node-rest-client          | 082c3ff | 2.0 | 2.0 | 0.0 | 0 | 2.0 | 2.0 | 0.0 | better | same   |\n",
       "| remit                     | 03acca6 | 2.0 | 2.0 | 0.0 | 0 | 2.0 | 2.0 | 0.0 | better | same   |\n",
       "| gm                        | 2fb65ba | 2.0 | 2.0 | 0.0 | 0 | 2.0 | 2.0 | 0.0 | better | same   |\n",
       "| socket.io-parser          | 009188f | 2.0 | 2.0 | 0.0 | 0 | 2.0 | 2.0 | 0.0 | better | same   |\n",
       "| js-html                   | 02fcbe3 | 2.0 | 2.0 | 0.0 | 0 | 2.0 | 2.0 | 0.0 | better | same   |\n",
       "\n"
      ],
      "text/plain": [
       "    name                                 commit    CVE.vanilla CVE.audit fix\n",
       "1   node-db-migrate                      0354de8   434.85      434.85       \n",
       "2   dgeni-packages                       3c75243   201.90      201.90       \n",
       "3   grant                                762badb   259.60      259.60       \n",
       "4   lockit-sql-adapter                   b3171b3   162.60      162.60       \n",
       "5   storyboard                           3c0fa91   148.35      148.35       \n",
       "6   gulp-typedoc                         039d47b   145.40      145.40       \n",
       "7   apidoc                               0b5d254   133.15      133.15       \n",
       "8   release-it                           0ae3e3c   132.85      132.85       \n",
       "9   ui                                   1de6835   127.85      127.85       \n",
       "10  lighthouse-ci                        69c14fa   114.60      114.60       \n",
       "11  composer-concerto                    5da3e23   109.55      109.55       \n",
       "12  inline-critical                      0668d89   105.80      105.80       \n",
       "13  eyeglass                             36f32eb   111.60      111.60       \n",
       "14  zombie                               004ae36    89.55       89.55       \n",
       "15  passport-saml                        050ed13    94.70       94.70       \n",
       "16  postman-request                      03d903b    86.25       86.25       \n",
       "17  node-soap                            2a44d2a    96.05       96.05       \n",
       "18  strong-soap                          2e557dd    96.05       96.05       \n",
       "19  react-native-code-push               02d8677    83.10       83.10       \n",
       "20  node-convict                         2bdfa24    80.10       80.10       \n",
       "21  node-wpapi                           69d18fb    74.30       74.30       \n",
       "22  bodiless-js                          03d52f9    83.90       83.90       \n",
       "23  tar-pack                             217ed0b    73.00       73.00       \n",
       "24  github-stream                        9d47643    71.00       71.00       \n",
       "25  cabbie                               3b9a4b7    83.00       83.00       \n",
       "26  jupyterlab-cognos-dashboard-embedded 2ef647f    69.70       69.70       \n",
       "27  commitlint                           05c1f61    69.00       69.00       \n",
       "28  conventional-changelog               4c7ec38    67.30       67.30       \n",
       "29  moleculer-web                        0ef0e5c    61.80       61.80       \n",
       "30  babel                                5b09114b8  59.40       59.40       \n",
       "⋮   ⋮                                    ⋮         ⋮           ⋮            \n",
       "206 node-cli-base                        a9e05c9   5.3         5.3          \n",
       "207 postcss-colors-only                  2d77d5d   5.3         5.3          \n",
       "208 postcss-input-style                  24d86ef   5.3         5.3          \n",
       "209 postcss-opacity                      3dae717   5.3         5.3          \n",
       "210 jest-ratchet                         4afc61c   5.3         5.3          \n",
       "211 saladcss-bem                         280fcc4   5.3         5.3          \n",
       "212 less-plugin-autoprefix               0004d46   5.3         5.3          \n",
       "213 postcss-extend                       985cbae   5.3         5.3          \n",
       "214 bocha                                0789c01   5.3         5.3          \n",
       "215 electrode-bundle-analyzer            54e5098   5.3         5.3          \n",
       "216 criticalcss                          1cd2dc8   5.3         5.3          \n",
       "217 bids-validator                       8bdbf67   5.3         5.3          \n",
       "218 postcss-clearfix                     2206379   5.3         5.3          \n",
       "219 inline-import                        7bf9f6b   5.3         5.3          \n",
       "220 H5P-Nodejs-library                   e3ed81e   5.3         5.3          \n",
       "221 postcss-for                          6f2c8b9   5.3         5.3          \n",
       "222 postcss-safe-area-inset              6dd0567   5.3         5.3          \n",
       "223 css-color-extractor                  50b1ce1   5.3         5.3          \n",
       "224 css-scss                             4017274   5.3         5.3          \n",
       "225 postcss-plugin-px2rem                8e84247   5.3         5.3          \n",
       "226 postcss-neat                         10aba1f   5.3         5.3          \n",
       "227 ink-router                           1a28733   5.3         5.3          \n",
       "228 plugin-argv                          5f1c61d   5.3         5.3          \n",
       "229 loopback4-authentication             07363de   4.8         4.8          \n",
       "230 node-exif                            7dbb55f   2.0         2.0          \n",
       "231 node-rest-client                     082c3ff   2.0         2.0          \n",
       "232 remit                                03acca6   2.0         2.0          \n",
       "233 gm                                   2fb65ba   2.0         2.0          \n",
       "234 socket.io-parser                     009188f   2.0         2.0          \n",
       "235 js-html                              02fcbe3   2.0         2.0          \n",
       "    CVE.audit fix force CVE.maxnpm_cve_oldness\n",
       "1    0.00                0.00                 \n",
       "2    7.50                7.50                 \n",
       "3   94.30               81.35                 \n",
       "4    0.00                0.00                 \n",
       "5    0.00                0.00                 \n",
       "6    0.00                0.00                 \n",
       "7    0.00                0.00                 \n",
       "8   48.10                3.70                 \n",
       "9    7.50                7.50                 \n",
       "10   0.00                0.00                 \n",
       "11   0.00                0.00                 \n",
       "12   7.50                0.00                 \n",
       "13   7.50                7.50                 \n",
       "14   0.00                0.00                 \n",
       "15   6.50                6.50                 \n",
       "16   0.00                0.00                 \n",
       "17   9.80                9.80                 \n",
       "18   9.80                9.80                 \n",
       "19   0.00                0.00                 \n",
       "20   0.00                0.00                 \n",
       "21   0.00                0.00                 \n",
       "22  10.40               10.40                 \n",
       "23   0.00                0.00                 \n",
       "24   0.00                0.00                 \n",
       "25  12.55               12.55                 \n",
       "26   0.00                0.00                 \n",
       "27   0.00                0.00                 \n",
       "28  22.90                0.00                 \n",
       "29   2.00                0.00                 \n",
       "30   7.50                0.00                 \n",
       "⋮   ⋮                   ⋮                     \n",
       "206 0.0                 0                     \n",
       "207 0.0                 0                     \n",
       "208 0.0                 0                     \n",
       "209 0.0                 0                     \n",
       "210 0.0                 0                     \n",
       "211 0.0                 0                     \n",
       "212 0.0                 0                     \n",
       "213 0.0                 0                     \n",
       "214 0.0                 0                     \n",
       "215 0.0                 0                     \n",
       "216 0.0                 0                     \n",
       "217 0.0                 0                     \n",
       "218 0.0                 0                     \n",
       "219 0.0                 0                     \n",
       "220 5.3                 0                     \n",
       "221 0.0                 0                     \n",
       "222 0.0                 0                     \n",
       "223 0.0                 0                     \n",
       "224 0.0                 0                     \n",
       "225 0.0                 0                     \n",
       "226 0.0                 0                     \n",
       "227 0.0                 0                     \n",
       "228 0.0                 0                     \n",
       "229 0.0                 0                     \n",
       "230 0.0                 0                     \n",
       "231 0.0                 0                     \n",
       "232 0.0                 0                     \n",
       "233 0.0                 0                     \n",
       "234 0.0                 0                     \n",
       "235 0.0                 0                     \n",
       "    CVE.maxnpm_cve_oldness_pip_else_npm CVEDiff CVEPIPDiff CVEChangeCat\n",
       "1       NA                              434.85     NA      better      \n",
       "2   185.70                              194.40  16.20      better      \n",
       "3   204.25                              178.25  55.35      better      \n",
       "4       NA                              162.60     NA      better      \n",
       "5   132.35                              148.35  16.00      better      \n",
       "6   140.10                              145.40   5.30      better      \n",
       "7   133.15                              133.15   0.00      better      \n",
       "8   132.85                              129.15   0.00      better      \n",
       "9       NA                              120.35     NA      better      \n",
       "10   99.20                              114.60  15.40      better      \n",
       "11  109.55                              109.55   0.00      better      \n",
       "12   98.30                              105.80   7.50      better      \n",
       "13      NA                              104.10     NA      better      \n",
       "14   89.55                               89.55   0.00      better      \n",
       "15   86.20                               88.20   8.50      better      \n",
       "16   86.25                               86.25   0.00      better      \n",
       "17   96.05                               86.25   0.00      better      \n",
       "18   96.05                               86.25   0.00      better      \n",
       "19   83.10                               83.10   0.00      better      \n",
       "20   80.10                               80.10   0.00      better      \n",
       "21   64.80                               74.30   9.50      better      \n",
       "22   83.90                               73.50   0.00      better      \n",
       "23   73.00                               73.00   0.00      better      \n",
       "24   71.00                               71.00   0.00      better      \n",
       "25   83.00                               70.45   0.00      better      \n",
       "26   69.70                               69.70   0.00      better      \n",
       "27   61.70                               69.00   7.30      better      \n",
       "28   44.40                               67.30  22.90      better      \n",
       "29   61.80                               61.80   0.00      better      \n",
       "30   51.90                               59.40   7.50      better      \n",
       "⋮   ⋮                                   ⋮       ⋮          ⋮           \n",
       "206 5.3                                 5.3     0.0        better      \n",
       "207 5.3                                 5.3     0.0        better      \n",
       "208 5.3                                 5.3     0.0        better      \n",
       "209 5.3                                 5.3     0.0        better      \n",
       "210 5.3                                 5.3     0.0        better      \n",
       "211 5.3                                 5.3     0.0        better      \n",
       "212 5.3                                 5.3     0.0        better      \n",
       "213 5.3                                 5.3     0.0        better      \n",
       "214 5.3                                 5.3     0.0        better      \n",
       "215 5.3                                 5.3     0.0        better      \n",
       "216 5.3                                 5.3     0.0        better      \n",
       "217 5.3                                 5.3     0.0        better      \n",
       "218 5.3                                 5.3     0.0        better      \n",
       "219 5.3                                 5.3     0.0        better      \n",
       "220 0.0                                 5.3     5.3        better      \n",
       "221 5.3                                 5.3     0.0        better      \n",
       "222 5.3                                 5.3     0.0        better      \n",
       "223 5.3                                 5.3     0.0        better      \n",
       "224 5.3                                 5.3     0.0        better      \n",
       "225 5.3                                 5.3     0.0        better      \n",
       "226 5.3                                 5.3     0.0        better      \n",
       "227 5.3                                 5.3     0.0        better      \n",
       "228 5.3                                 5.3     0.0        better      \n",
       "229 4.8                                 4.8     0.0        better      \n",
       "230 2.0                                 2.0     0.0        better      \n",
       "231 2.0                                 2.0     0.0        better      \n",
       "232 2.0                                 2.0     0.0        better      \n",
       "233 2.0                                 2.0     0.0        better      \n",
       "234 2.0                                 2.0     0.0        better      \n",
       "235 2.0                                 2.0     0.0        better      \n",
       "    CVEPIPChangeCat\n",
       "1   NA             \n",
       "2   better         \n",
       "3   better         \n",
       "4   NA             \n",
       "5   better         \n",
       "6   better         \n",
       "7   same           \n",
       "8   same           \n",
       "9   NA             \n",
       "10  better         \n",
       "11  same           \n",
       "12  better         \n",
       "13  NA             \n",
       "14  same           \n",
       "15  better         \n",
       "16  same           \n",
       "17  same           \n",
       "18  same           \n",
       "19  same           \n",
       "20  same           \n",
       "21  better         \n",
       "22  same           \n",
       "23  same           \n",
       "24  same           \n",
       "25  same           \n",
       "26  same           \n",
       "27  better         \n",
       "28  better         \n",
       "29  same           \n",
       "30  better         \n",
       "⋮   ⋮              \n",
       "206 same           \n",
       "207 same           \n",
       "208 same           \n",
       "209 same           \n",
       "210 same           \n",
       "211 same           \n",
       "212 same           \n",
       "213 same           \n",
       "214 same           \n",
       "215 same           \n",
       "216 same           \n",
       "217 same           \n",
       "218 same           \n",
       "219 same           \n",
       "220 better         \n",
       "221 same           \n",
       "222 same           \n",
       "223 same           \n",
       "224 same           \n",
       "225 same           \n",
       "226 same           \n",
       "227 same           \n",
       "228 same           \n",
       "229 same           \n",
       "230 same           \n",
       "231 same           \n",
       "232 same           \n",
       "233 same           \n",
       "234 same           \n",
       "235 same           "
      ]
     },
     "metadata": {},
     "output_type": "display_data"
    }
   ],
   "source": [
    "CVEDiff %>% filter(CVEDiff > 0) %>% arrange(desc(CVEDiff))"
   ]
  },
  {
   "cell_type": "code",
   "execution_count": null,
   "metadata": {
    "vscode": {
     "languageId": "r"
    }
   },
   "outputs": [],
   "source": []
  }
 ],
 "metadata": {
  "kernelspec": {
   "display_name": "R",
   "language": "R",
   "name": "ir"
  },
  "language_info": {
   "codemirror_mode": "r",
   "file_extension": ".r",
   "mimetype": "text/x-r-source",
   "name": "R",
   "pygments_lexer": "r",
   "version": "4.2.1"
  },
  "vscode": {
   "interpreter": {
    "hash": "31f2aee4e71d21fbe5cf8b01ff0e069b9275f58929596ceb00d14d90e3e16cd6"
   }
  }
 },
 "nbformat": 4,
 "nbformat_minor": 2
}
